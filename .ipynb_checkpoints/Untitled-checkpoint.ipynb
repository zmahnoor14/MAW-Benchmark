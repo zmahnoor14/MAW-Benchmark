{
 "cells": [
  {
   "cell_type": "code",
   "execution_count": 1,
   "id": "38e8d4a9",
   "metadata": {},
   "outputs": [
    {
     "name": "stderr",
     "output_type": "stream",
     "text": [
      "Using libcurl 7.79.1 with LibreSSL/3.3.6\n",
      "\n"
     ]
    }
   ],
   "source": [
    "#' Download the CompDb database using curl\n",
    "library(curl)\n",
    "dbname <- \"CompDb.Hsapiens.HMDB.5.0.sqlite\"\n",
    "db_file <- file.path(tempdir(), dbname)\n",
    "curl_download(\n",
    "    paste0(\"https://github.com/jorainer/MetaboAnnotationTutorials/\",\n",
    "           \"releases/download/2021-11-02/\", dbname),\n",
    "    destfile = db_file)"
   ]
  },
  {
   "cell_type": "code",
   "execution_count": 2,
   "id": "9e9cedb6",
   "metadata": {},
   "outputs": [
    {
     "name": "stderr",
     "output_type": "stream",
     "text": [
      "Lade nötiges Paket: AnnotationFilter\n",
      "\n",
      "Lade nötiges Paket: S4Vectors\n",
      "\n",
      "Lade nötiges Paket: stats4\n",
      "\n",
      "Lade nötiges Paket: BiocGenerics\n",
      "\n",
      "\n",
      "Attache Paket: ‘BiocGenerics’\n",
      "\n",
      "\n",
      "Die folgenden Objekte sind maskiert von ‘package:stats’:\n",
      "\n",
      "    IQR, mad, sd, var, xtabs\n",
      "\n",
      "\n",
      "Die folgenden Objekte sind maskiert von ‘package:base’:\n",
      "\n",
      "    Filter, Find, Map, Position, Reduce, anyDuplicated, append,\n",
      "    as.data.frame, basename, cbind, colnames, dirname, do.call,\n",
      "    duplicated, eval, evalq, get, grep, grepl, intersect, is.unsorted,\n",
      "    lapply, mapply, match, mget, order, paste, pmax, pmax.int, pmin,\n",
      "    pmin.int, rank, rbind, rownames, sapply, setdiff, sort, table,\n",
      "    tapply, union, unique, unsplit, which.max, which.min\n",
      "\n",
      "\n",
      "\n",
      "Attache Paket: ‘S4Vectors’\n",
      "\n",
      "\n",
      "Die folgenden Objekte sind maskiert von ‘package:base’:\n",
      "\n",
      "    I, expand.grid, unname\n",
      "\n",
      "\n"
     ]
    },
    {
     "data": {
      "text/plain": [
       "class: CompDb \n",
       " data source: HMDB \n",
       " version: 5.0 \n",
       " organism: Hsapiens \n",
       " compound count: 217776 \n",
       " MS/MS spectra count: 64920 "
      ]
     },
     "metadata": {},
     "output_type": "display_data"
    }
   ],
   "source": [
    "library(CompoundDb)\n",
    "#' Load a CompDb database with compound annotation from HMDB\n",
    "cdb <- CompDb(db_file)\n",
    "cdb"
   ]
  },
  {
   "cell_type": "code",
   "execution_count": 3,
   "id": "6435bc7c",
   "metadata": {},
   "outputs": [],
   "source": [
    "hmdb <- Spectra(cdb)"
   ]
  },
  {
   "cell_type": "code",
   "execution_count": 5,
   "id": "753bf6dd",
   "metadata": {},
   "outputs": [
    {
     "name": "stderr",
     "output_type": "stream",
     "text": [
      "Lade nötiges Paket: BiocParallel\n",
      "\n",
      "Lade nötiges Paket: ProtGenerics\n",
      "\n",
      "\n",
      "Attache Paket: ‘ProtGenerics’\n",
      "\n",
      "\n",
      "Das folgende Objekt ist maskiert ‘package:stats’:\n",
      "\n",
      "    smooth\n",
      "\n",
      "\n",
      "\n",
      "Attache Paket: ‘Spectra’\n",
      "\n",
      "\n",
      "Das folgende Objekt ist maskiert ‘package:ProtGenerics’:\n",
      "\n",
      "    addProcessing\n",
      "\n",
      "\n"
     ]
    }
   ],
   "source": [
    "library(Spectra)"
   ]
  },
  {
   "cell_type": "code",
   "execution_count": 8,
   "id": "a34535a1",
   "metadata": {},
   "outputs": [],
   "source": [
    "# functions for preprocessing defined in Spectra package\n",
    "low_int <- function(c, ...) {\n",
    "    c > max(c, na.rm = TRUE) * 0.05\n",
    "}\n",
    "norm_int <- function(y, ...) {\n",
    "    maxint <- max(y[, \"intensity\"], na.rm = TRUE)\n",
    "    y[, \"intensity\"] <- 100 * y[, \"intensity\"] / maxint\n",
    "    y\n",
    "}"
   ]
  },
  {
   "cell_type": "code",
   "execution_count": 6,
   "id": "6a5b712a",
   "metadata": {},
   "outputs": [
    {
     "ename": "ERROR",
     "evalue": "Error: BiocParallel errors\n  1 remote errors, element index: 1\n  0 unevaluated and other errors\n  first remote error:\nError in validObject(object): ungültiges Objekt der Klasse “MsBackendDataFrame”: The following columns have a wrong data type: collisionEnergy. The expected data type(s) is/are: numeric.\n\n",
     "output_type": "error",
     "traceback": [
      "Error: BiocParallel errors\n  1 remote errors, element index: 1\n  0 unevaluated and other errors\n  first remote error:\nError in validObject(object): ungültiges Objekt der Klasse “MsBackendDataFrame”: The following columns have a wrong data type: collisionEnergy. The expected data type(s) is/are: numeric.\n\nTraceback:\n",
      "1. setBackend(hmdb, backend = MsBackendDataFrame())",
      "2. setBackend(hmdb, backend = MsBackendDataFrame())",
      "3. .local(object, backend, ...)",
      "4. bplapply(split(object@backend, f = f), function(z, ...) {\n .     backendInitialize(backend, data = spectraData(z), ..., BPPARAM = SerialParam())\n . }, ..., BPPARAM = BPPARAM)",
      "5. bplapply(split(object@backend, f = f), function(z, ...) {\n .     backendInitialize(backend, data = spectraData(z), ..., BPPARAM = SerialParam())\n . }, ..., BPPARAM = BPPARAM)",
      "6. .bpinit(manager = manager, X = X, FUN = FUN, ARGS = ARGS, BPPARAM = BPPARAM, \n .     BPOPTIONS = BPOPTIONS, BPREDO = BPREDO)"
     ]
    }
   ],
   "source": [
    "hmdb <- setBackend(hmdb, backend = MsBackendDataFrame())"
   ]
  },
  {
   "cell_type": "code",
   "execution_count": 7,
   "id": "aed729ac",
   "metadata": {},
   "outputs": [],
   "source": [
    "has_mz <- containsMz(hmdb, mz = 273.1846999, ppm = 15)\n",
    "sps_hmdb <- hmdb[has_mz]"
   ]
  },
  {
   "cell_type": "code",
   "execution_count": 9,
   "id": "f5431622",
   "metadata": {},
   "outputs": [],
   "source": [
    "#' Apply the function to filter the spectra\n",
    "sps_hmdb <- filterIntensity(sps_hmdb, intensity = low_int)\n",
    "\n",
    "#' *Apply* the function to the data\n",
    "sps_hmdb <- addProcessing(sps_hmdb, norm_int)"
   ]
  },
  {
   "cell_type": "code",
   "execution_count": 10,
   "id": "0dda04af",
   "metadata": {},
   "outputs": [
    {
     "ename": "ERROR",
     "evalue": "Error: BiocParallel errors\n  1 remote errors, element index: 1\n  0 unevaluated and other errors\n  first remote error:\nError in validObject(object): ungültiges Objekt der Klasse “MsBackendDataFrame”: The following columns have a wrong data type: collisionEnergy. The expected data type(s) is/are: numeric.\n\n",
     "output_type": "error",
     "traceback": [
      "Error: BiocParallel errors\n  1 remote errors, element index: 1\n  0 unevaluated and other errors\n  first remote error:\nError in validObject(object): ungültiges Objekt der Klasse “MsBackendDataFrame”: The following columns have a wrong data type: collisionEnergy. The expected data type(s) is/are: numeric.\n\nTraceback:\n",
      "1. setBackend(sps_hmdb, backend = MsBackendDataFrame())",
      "2. setBackend(sps_hmdb, backend = MsBackendDataFrame())",
      "3. .local(object, backend, ...)",
      "4. bplapply(split(object@backend, f = f), function(z, ...) {\n .     backendInitialize(backend, data = spectraData(z), ..., BPPARAM = SerialParam())\n . }, ..., BPPARAM = BPPARAM)",
      "5. bplapply(split(object@backend, f = f), function(z, ...) {\n .     backendInitialize(backend, data = spectraData(z), ..., BPPARAM = SerialParam())\n . }, ..., BPPARAM = BPPARAM)",
      "6. .bpinit(manager = manager, X = X, FUN = FUN, ARGS = ARGS, BPPARAM = BPPARAM, \n .     BPOPTIONS = BPOPTIONS, BPREDO = BPREDO)"
     ]
    }
   ],
   "source": [
    "sps_hmdb <- setBackend(sps_hmdb, backend = MsBackendDataFrame())"
   ]
  },
  {
   "cell_type": "code",
   "execution_count": 12,
   "id": "9c3a713d",
   "metadata": {},
   "outputs": [
    {
     "data": {
      "text/html": [
       "<style>\n",
       ".list-inline {list-style: none; margin:0; padding: 0}\n",
       ".list-inline>li {display: inline-block}\n",
       ".list-inline>li:not(:last-child)::after {content: \"\\00b7\"; padding: 0 .5ex}\n",
       "</style>\n",
       "<ol class=list-inline><li>'msLevel'</li><li>'rtime'</li><li>'acquisitionNum'</li><li>'scanIndex'</li><li>'dataStorage'</li><li>'dataOrigin'</li><li>'centroided'</li><li>'smoothed'</li><li>'polarity'</li><li>'precScanNum'</li><li>'precursorMz'</li><li>'precursorIntensity'</li><li>'precursorCharge'</li><li>'collisionEnergy'</li><li>'isolationWindowLowerMz'</li><li>'isolationWindowTargetMz'</li><li>'isolationWindowUpperMz'</li><li>'compound_id'</li><li>'name'</li><li>'inchi'</li><li>'inchikey'</li><li>'formula'</li><li>'exactmass'</li><li>'smiles'</li><li>'original_spectrum_id'</li><li>'predicted'</li><li>'splash'</li><li>'instrument_type'</li><li>'instrument'</li><li>'spectrum_id'</li><li>'msms_mz_range_min'</li><li>'msms_mz_range_max'</li><li>'synonym'</li></ol>\n"
      ],
      "text/latex": [
       "\\begin{enumerate*}\n",
       "\\item 'msLevel'\n",
       "\\item 'rtime'\n",
       "\\item 'acquisitionNum'\n",
       "\\item 'scanIndex'\n",
       "\\item 'dataStorage'\n",
       "\\item 'dataOrigin'\n",
       "\\item 'centroided'\n",
       "\\item 'smoothed'\n",
       "\\item 'polarity'\n",
       "\\item 'precScanNum'\n",
       "\\item 'precursorMz'\n",
       "\\item 'precursorIntensity'\n",
       "\\item 'precursorCharge'\n",
       "\\item 'collisionEnergy'\n",
       "\\item 'isolationWindowLowerMz'\n",
       "\\item 'isolationWindowTargetMz'\n",
       "\\item 'isolationWindowUpperMz'\n",
       "\\item 'compound\\_id'\n",
       "\\item 'name'\n",
       "\\item 'inchi'\n",
       "\\item 'inchikey'\n",
       "\\item 'formula'\n",
       "\\item 'exactmass'\n",
       "\\item 'smiles'\n",
       "\\item 'original\\_spectrum\\_id'\n",
       "\\item 'predicted'\n",
       "\\item 'splash'\n",
       "\\item 'instrument\\_type'\n",
       "\\item 'instrument'\n",
       "\\item 'spectrum\\_id'\n",
       "\\item 'msms\\_mz\\_range\\_min'\n",
       "\\item 'msms\\_mz\\_range\\_max'\n",
       "\\item 'synonym'\n",
       "\\end{enumerate*}\n"
      ],
      "text/markdown": [
       "1. 'msLevel'\n",
       "2. 'rtime'\n",
       "3. 'acquisitionNum'\n",
       "4. 'scanIndex'\n",
       "5. 'dataStorage'\n",
       "6. 'dataOrigin'\n",
       "7. 'centroided'\n",
       "8. 'smoothed'\n",
       "9. 'polarity'\n",
       "10. 'precScanNum'\n",
       "11. 'precursorMz'\n",
       "12. 'precursorIntensity'\n",
       "13. 'precursorCharge'\n",
       "14. 'collisionEnergy'\n",
       "15. 'isolationWindowLowerMz'\n",
       "16. 'isolationWindowTargetMz'\n",
       "17. 'isolationWindowUpperMz'\n",
       "18. 'compound_id'\n",
       "19. 'name'\n",
       "20. 'inchi'\n",
       "21. 'inchikey'\n",
       "22. 'formula'\n",
       "23. 'exactmass'\n",
       "24. 'smiles'\n",
       "25. 'original_spectrum_id'\n",
       "26. 'predicted'\n",
       "27. 'splash'\n",
       "28. 'instrument_type'\n",
       "29. 'instrument'\n",
       "30. 'spectrum_id'\n",
       "31. 'msms_mz_range_min'\n",
       "32. 'msms_mz_range_max'\n",
       "33. 'synonym'\n",
       "\n",
       "\n"
      ],
      "text/plain": [
       " [1] \"msLevel\"                 \"rtime\"                  \n",
       " [3] \"acquisitionNum\"          \"scanIndex\"              \n",
       " [5] \"dataStorage\"             \"dataOrigin\"             \n",
       " [7] \"centroided\"              \"smoothed\"               \n",
       " [9] \"polarity\"                \"precScanNum\"            \n",
       "[11] \"precursorMz\"             \"precursorIntensity\"     \n",
       "[13] \"precursorCharge\"         \"collisionEnergy\"        \n",
       "[15] \"isolationWindowLowerMz\"  \"isolationWindowTargetMz\"\n",
       "[17] \"isolationWindowUpperMz\"  \"compound_id\"            \n",
       "[19] \"name\"                    \"inchi\"                  \n",
       "[21] \"inchikey\"                \"formula\"                \n",
       "[23] \"exactmass\"               \"smiles\"                 \n",
       "[25] \"original_spectrum_id\"    \"predicted\"              \n",
       "[27] \"splash\"                  \"instrument_type\"        \n",
       "[29] \"instrument\"              \"spectrum_id\"            \n",
       "[31] \"msms_mz_range_min\"       \"msms_mz_range_max\"      \n",
       "[33] \"synonym\"                "
      ]
     },
     "metadata": {},
     "output_type": "display_data"
    }
   ],
   "source": [
    "spectraVariables(sps_hmdb)"
   ]
  },
  {
   "cell_type": "code",
   "execution_count": 17,
   "id": "59d57b3c",
   "metadata": {},
   "outputs": [
    {
     "data": {
      "text/html": [
       "<style>\n",
       ".list-inline {list-style: none; margin:0; padding: 0}\n",
       ".list-inline>li {display: inline-block}\n",
       ".list-inline>li:not(:last-child)::after {content: \"\\00b7\"; padding: 0 .5ex}\n",
       "</style>\n",
       "<ol class=list-inline><li>NA</li><li>NA</li><li>NA</li><li>NA</li><li>'30'</li><li>'20'</li><li>'30'</li><li>'10'</li><li>'10'</li><li>'20'</li><li>NA</li><li>'40'</li><li>'40'</li><li>NA</li><li>'30'</li><li>'20'</li><li>'10'</li><li>'20'</li><li>NA</li><li>NA</li><li>NA</li><li>NA</li><li>NA</li><li>'30'</li><li>'30'</li><li>NA</li><li>NA</li><li>NA</li><li>NA</li><li>'20'</li><li>'20'</li><li>NA</li><li>NA</li><li>NA</li><li>NA</li><li>NA</li><li>NA</li><li>NA</li><li>NA</li><li>NA</li><li>NA</li><li>NA</li><li>NA</li><li>NA</li><li>NA</li><li>'35'</li><li>'15'</li><li>'21'</li><li>NA</li><li>NA</li><li>NA</li><li>NA</li><li>NA</li><li>NA</li><li>NA</li><li>NA</li><li>NA</li><li>NA</li><li>NA</li><li>NA</li><li>NA</li><li>'40'</li><li>NA</li><li>NA</li><li>NA</li><li>NA</li><li>NA</li><li>NA</li><li>NA</li><li>NA</li><li>NA</li><li>NA</li></ol>\n"
      ],
      "text/latex": [
       "\\begin{enumerate*}\n",
       "\\item NA\n",
       "\\item NA\n",
       "\\item NA\n",
       "\\item NA\n",
       "\\item '30'\n",
       "\\item '20'\n",
       "\\item '30'\n",
       "\\item '10'\n",
       "\\item '10'\n",
       "\\item '20'\n",
       "\\item NA\n",
       "\\item '40'\n",
       "\\item '40'\n",
       "\\item NA\n",
       "\\item '30'\n",
       "\\item '20'\n",
       "\\item '10'\n",
       "\\item '20'\n",
       "\\item NA\n",
       "\\item NA\n",
       "\\item NA\n",
       "\\item NA\n",
       "\\item NA\n",
       "\\item '30'\n",
       "\\item '30'\n",
       "\\item NA\n",
       "\\item NA\n",
       "\\item NA\n",
       "\\item NA\n",
       "\\item '20'\n",
       "\\item '20'\n",
       "\\item NA\n",
       "\\item NA\n",
       "\\item NA\n",
       "\\item NA\n",
       "\\item NA\n",
       "\\item NA\n",
       "\\item NA\n",
       "\\item NA\n",
       "\\item NA\n",
       "\\item NA\n",
       "\\item NA\n",
       "\\item NA\n",
       "\\item NA\n",
       "\\item NA\n",
       "\\item '35'\n",
       "\\item '15'\n",
       "\\item '21'\n",
       "\\item NA\n",
       "\\item NA\n",
       "\\item NA\n",
       "\\item NA\n",
       "\\item NA\n",
       "\\item NA\n",
       "\\item NA\n",
       "\\item NA\n",
       "\\item NA\n",
       "\\item NA\n",
       "\\item NA\n",
       "\\item NA\n",
       "\\item NA\n",
       "\\item '40'\n",
       "\\item NA\n",
       "\\item NA\n",
       "\\item NA\n",
       "\\item NA\n",
       "\\item NA\n",
       "\\item NA\n",
       "\\item NA\n",
       "\\item NA\n",
       "\\item NA\n",
       "\\item NA\n",
       "\\end{enumerate*}\n"
      ],
      "text/markdown": [
       "1. NA\n",
       "2. NA\n",
       "3. NA\n",
       "4. NA\n",
       "5. '30'\n",
       "6. '20'\n",
       "7. '30'\n",
       "8. '10'\n",
       "9. '10'\n",
       "10. '20'\n",
       "11. NA\n",
       "12. '40'\n",
       "13. '40'\n",
       "14. NA\n",
       "15. '30'\n",
       "16. '20'\n",
       "17. '10'\n",
       "18. '20'\n",
       "19. NA\n",
       "20. NA\n",
       "21. NA\n",
       "22. NA\n",
       "23. NA\n",
       "24. '30'\n",
       "25. '30'\n",
       "26. NA\n",
       "27. NA\n",
       "28. NA\n",
       "29. NA\n",
       "30. '20'\n",
       "31. '20'\n",
       "32. NA\n",
       "33. NA\n",
       "34. NA\n",
       "35. NA\n",
       "36. NA\n",
       "37. NA\n",
       "38. NA\n",
       "39. NA\n",
       "40. NA\n",
       "41. NA\n",
       "42. NA\n",
       "43. NA\n",
       "44. NA\n",
       "45. NA\n",
       "46. '35'\n",
       "47. '15'\n",
       "48. '21'\n",
       "49. NA\n",
       "50. NA\n",
       "51. NA\n",
       "52. NA\n",
       "53. NA\n",
       "54. NA\n",
       "55. NA\n",
       "56. NA\n",
       "57. NA\n",
       "58. NA\n",
       "59. NA\n",
       "60. NA\n",
       "61. NA\n",
       "62. '40'\n",
       "63. NA\n",
       "64. NA\n",
       "65. NA\n",
       "66. NA\n",
       "67. NA\n",
       "68. NA\n",
       "69. NA\n",
       "70. NA\n",
       "71. NA\n",
       "72. NA\n",
       "\n",
       "\n"
      ],
      "text/plain": [
       " [1] NA   NA   NA   NA   \"30\" \"20\" \"30\" \"10\" \"10\" \"20\" NA   \"40\" \"40\" NA   \"30\"\n",
       "[16] \"20\" \"10\" \"20\" NA   NA   NA   NA   NA   \"30\" \"30\" NA   NA   NA   NA   \"20\"\n",
       "[31] \"20\" NA   NA   NA   NA   NA   NA   NA   NA   NA   NA   NA   NA   NA   NA  \n",
       "[46] \"35\" \"15\" \"21\" NA   NA   NA   NA   NA   NA   NA   NA   NA   NA   NA   NA  \n",
       "[61] NA   \"40\" NA   NA   NA   NA   NA   NA   NA   NA   NA   NA  "
      ]
     },
     "metadata": {},
     "output_type": "display_data"
    }
   ],
   "source": [
    "sps_hmdb$collisionEnergy"
   ]
  },
  {
   "cell_type": "code",
   "execution_count": 16,
   "id": "2567b287",
   "metadata": {},
   "outputs": [],
   "source": [
    "slot(sps_hmdb, 'collisionEnergy', check=FALSE) <- NULL"
   ]
  },
  {
   "cell_type": "code",
   "execution_count": null,
   "id": "ebc63346",
   "metadata": {},
   "outputs": [],
   "source": []
  }
 ],
 "metadata": {
  "kernelspec": {
   "display_name": "R",
   "language": "R",
   "name": "ir"
  },
  "language_info": {
   "codemirror_mode": "r",
   "file_extension": ".r",
   "mimetype": "text/x-r-source",
   "name": "R",
   "pygments_lexer": "r",
   "version": "4.2.0"
  }
 },
 "nbformat": 4,
 "nbformat_minor": 5
}
