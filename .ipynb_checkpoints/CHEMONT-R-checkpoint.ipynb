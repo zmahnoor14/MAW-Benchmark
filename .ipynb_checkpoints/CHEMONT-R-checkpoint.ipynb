{
 "cells": [
  {
   "cell_type": "code",
   "execution_count": 2,
   "id": "57a6c190",
   "metadata": {},
   "outputs": [
    {
     "name": "stdout",
     "output_type": "stream",
     "text": [
      "\n",
      "Die heruntergeladenen Binärpakete sind in \n",
      "\t/var/folders/3j/00yb0rbj5m9b2pn32c3v6d_c0000gn/T//RtmpNYxVXL/downloaded_packages\n"
     ]
    }
   ],
   "source": [
    "install.packages(\"ontologyIndex\")"
   ]
  },
  {
   "cell_type": "code",
   "execution_count": 4,
   "id": "ecab45a7",
   "metadata": {},
   "outputs": [],
   "source": [
    "# Reading obo ontology files\n",
    "library(ontologyIndex)\n"
   ]
  },
  {
   "cell_type": "code",
   "execution_count": 6,
   "id": "72f75b3a",
   "metadata": {},
   "outputs": [
    {
     "data": {
      "text/plain": [
       "Ontology with 4825 terms\n",
       "\n",
       "format-version: 1.2\n",
       "data-version: 2.1\n",
       "default-namespace: chemont\n",
       "ontology: ChemOnt\n",
       "\n",
       "Properties:\n",
       "\tid: character\n",
       "\tname: character\n",
       "\tparents: list\n",
       "\tchildren: list\n",
       "\tancestors: list\n",
       "\tobsolete: logical\n",
       "Roots:\n",
       "\tCHEMONTID:9999999 - Chemical entities"
      ]
     },
     "metadata": {},
     "output_type": "display_data"
    }
   ],
   "source": [
    "\n",
    "# Read CHEMONT ontology\n",
    "obo <- get_ontology(file=\"/Users/mahnoorzulfiqar/Downloads/ChemOnt_2_1.obo\", extract_tags=\"minimal\")\n",
    "obo"
   ]
  },
  {
   "cell_type": "code",
   "execution_count": 18,
   "id": "1ae29401",
   "metadata": {},
   "outputs": [],
   "source": [
    "# Query CHEMONTIDs for determined classes\n",
    "classes_id <- NULL\n",
    "classes_name <- NULL"
   ]
  },
  {
   "cell_type": "code",
   "execution_count": 19,
   "id": "5439dbdc",
   "metadata": {},
   "outputs": [],
   "source": [
    "for (i in 1:length(obo$id)) {\n",
    "    classes_id <- c(classes_id, as.character(obo$id[i]))\n",
    "    classes_name <- c(classes_name, as.character(obo$name[i]))\n",
    "}\n"
   ]
  },
  {
   "cell_type": "code",
   "execution_count": 25,
   "id": "b32bd38d",
   "metadata": {},
   "outputs": [],
   "source": [
    "chemont <- cbind(classes_id, classes_name)"
   ]
  },
  {
   "cell_type": "code",
   "execution_count": 26,
   "id": "28ce4bea",
   "metadata": {},
   "outputs": [],
   "source": [
    "write.csv(chemont, \"/Users/mahnoorzulfiqar/OneDriveUNI/MAW-data/mtbls709re-bio/chemont2-1.csv\")"
   ]
  },
  {
   "cell_type": "code",
   "execution_count": null,
   "id": "c8e449ab",
   "metadata": {},
   "outputs": [],
   "source": []
  }
 ],
 "metadata": {
  "kernelspec": {
   "display_name": "R",
   "language": "R",
   "name": "ir"
  },
  "language_info": {
   "codemirror_mode": "r",
   "file_extension": ".r",
   "mimetype": "text/x-r-source",
   "name": "R",
   "pygments_lexer": "r",
   "version": "4.2.0"
  }
 },
 "nbformat": 4,
 "nbformat_minor": 5
}
