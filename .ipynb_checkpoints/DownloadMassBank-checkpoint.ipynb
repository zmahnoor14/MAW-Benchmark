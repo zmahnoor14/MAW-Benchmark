{
 "cells": [
  {
   "cell_type": "code",
   "execution_count": null,
   "id": "7ec3e61f",
   "metadata": {},
   "outputs": [],
   "source": [
    "start.time <- Sys.time()"
   ]
  },
  {
   "cell_type": "code",
   "execution_count": null,
   "id": "a3254bfc",
   "metadata": {},
   "outputs": [],
   "source": [
    "library(Spectra)\n",
    "library(MsBackendMsp)\n",
    "library(rvest)\n",
    "library(stringr)\n",
    "library(xml2)"
   ]
  },
  {
   "cell_type": "code",
   "execution_count": 1,
   "id": "f40cab6b",
   "metadata": {},
   "outputs": [],
   "source": [
    "input_dir <- getwd()"
   ]
  },
  {
   "cell_type": "code",
   "execution_count": 3,
   "id": "22fc0971",
   "metadata": {},
   "outputs": [
    {
     "ename": "ERROR",
     "evalue": "Error in parse(text = x, srcfile = src): <text>:5:1: Unerwartete(s) 'else'\n4: }\n5: else\n   ^\n",
     "output_type": "error",
     "traceback": [
      "Error in parse(text = x, srcfile = src): <text>:5:1: Unerwartete(s) 'else'\n4: }\n5: else\n   ^\nTraceback:\n"
     ]
    }
   ],
   "source": [
    "if (!(file.exists(paste(input_dir, \"/summaryFile.txt\", sep = \"\")))){\n",
    "    summaryFile <- paste(input_dir, \"/summaryFile.txt\", sep = \"\")\n",
    "    file.create(summaryFile, recursive = TRUE)\n",
    "}else{\n",
    "    summaryFile <- paste(input_dir, \"/summaryFile.txt\", sep = \"\")\n",
    "}\n",
    "file.conn <- file(summaryFile)\n",
    "open(file.conn, open = \"at\")"
   ]
  },
  {
   "cell_type": "code",
   "execution_count": null,
   "id": "0294537e",
   "metadata": {},
   "outputs": [],
   "source": [
    "#print(\"MassBank WORKS\")\n",
    "\n",
    "page <- read_html(\"https://github.com/MassBank/MassBank-data/releases\")\n",
    "page %>%\n",
    "    html_nodes(\"a\") %>%       # find all links\n",
    "    html_attr(\"href\") %>%     # get the url\n",
    "    str_subset(\"MassBank_NIST.msp\") -> tmp # find those that have the name MassBank_NIST.msp\n",
    "\n",
    "#download file\n",
    "system(paste(\"wget \",\n",
    "             \"https://github.com\", tmp[1],\n",
    "             sep =  \"\"))\n",
    "\n",
    "mbank <- Spectra(paste(input_dir, \"/MassBank_NIST.msp\", sep = ''), source = MsBackendMsp())\n",
    "save(mbank, file = paste(input_dir,\"/mbankNIST.rda\", sep = \"\"))\n",
    "\n",
    "# delete the database in its format to free up space\n",
    "system(paste(\"rm\", (paste(input_dir, \"/MassBank_NIST.msp\", sep = '')), sep = \" \"))\n",
    "\n",
    "# obtain the month and year for the database release to add to summary\n",
    "res <- str_match(tmp[1], \"download/\\\\s*(.*?)\\\\s*/MassBank_NIST\")\n"
   ]
  },
  {
   "cell_type": "code",
   "execution_count": null,
   "id": "2bce2cda",
   "metadata": {},
   "outputs": [],
   "source": [
    "writeLines(paste(\"MassBank saved at\", Sys.time(), \"with release version\", res[,2], sep=\" \"),con=file.conn)"
   ]
  },
  {
   "cell_type": "code",
   "execution_count": null,
   "id": "e793fcb8",
   "metadata": {},
   "outputs": [],
   "source": [
    "end.time <- Sys.time()"
   ]
  },
  {
   "cell_type": "code",
   "execution_count": null,
   "id": "bf4ffc56",
   "metadata": {},
   "outputs": [],
   "source": [
    "time.taken <- end.time - start.time\n",
    "print(time.taken)"
   ]
  }
 ],
 "metadata": {
  "kernelspec": {
   "display_name": "R",
   "language": "R",
   "name": "ir"
  },
  "language_info": {
   "codemirror_mode": "r",
   "file_extension": ".r",
   "mimetype": "text/x-r-source",
   "name": "R",
   "pygments_lexer": "r",
   "version": "4.2.0"
  }
 },
 "nbformat": 4,
 "nbformat_minor": 5
}
