{
 "cells": [
  {
   "cell_type": "code",
   "execution_count": 1,
   "id": "6a38004f",
   "metadata": {},
   "outputs": [
    {
     "name": "stderr",
     "output_type": "stream",
     "text": [
      "Lade nötiges Paket: foreach\n",
      "\n",
      "Lade nötiges Paket: iterators\n",
      "\n"
     ]
    }
   ],
   "source": [
    "\n",
    "library(parallel)\n",
    "library(doParallel)\n",
    "library(future)\n",
    "library(iterators)\n",
    "library(listenv)\n",
    "\n",
    "options(future.globals.maxSize = 8 * 1024^3) # increase dataset size limit taken by future to 8GB\n",
    "\n",
    "# detects number of cores\n",
    "n.cores <- parallel::detectCores()\n",
    "\n",
    "\n",
    "plan(list(\n",
    "  tweak(multisession, workers = ((n.cores + 5) %/% 3) %/% 2),\n",
    "  tweak(multisession, workers = ((n.cores + 5) %/% 3) %/% 2),\n",
    "  tweak(multisession, workers = 3)\n",
    "))\n"
   ]
  },
  {
   "cell_type": "code",
   "execution_count": 2,
   "id": "aed75a9b",
   "metadata": {},
   "outputs": [],
   "source": [
    "start.time <- Sys.time()"
   ]
  },
  {
   "cell_type": "code",
   "execution_count": 3,
   "id": "99d8e8d4",
   "metadata": {},
   "outputs": [
    {
     "data": {
      "text/html": [
       "'/Users/mahnoorzulfiqar/OneDriveUNI/MAW-Docker/R/'"
      ],
      "text/latex": [
       "'/Users/mahnoorzulfiqar/OneDriveUNI/MAW-Docker/R/'"
      ],
      "text/markdown": [
       "'/Users/mahnoorzulfiqar/OneDriveUNI/MAW-Docker/R/'"
      ],
      "text/plain": [
       "[1] \"/Users/mahnoorzulfiqar/OneDriveUNI/MAW-Docker/R/\""
      ]
     },
     "metadata": {},
     "output_type": "display_data"
    }
   ],
   "source": [
    "# ---------- Script ----------\n",
    "# input directory\n",
    "# input_dir <- paste(getwd(), \"/data\", sep = \"\")\n",
    "input_dir <- \"/Users/mahnoorzulfiqar/OneDriveUNI/MAW-Docker/R/\"\n",
    "input_dir"
   ]
  },
  {
   "cell_type": "code",
   "execution_count": 11,
   "id": "ea030cc8",
   "metadata": {},
   "outputs": [],
   "source": [
    "# load the functions file\n",
    "#source(paste(getwd(), \"/Workflow_R_Functions.r\", sep = \"\"))\n",
    "source(\"/Users/mahnoorzulfiqar/OneDriveUNI/MAW/R/Workflow_R_Functions.r\")"
   ]
  },
  {
   "cell_type": "code",
   "execution_count": 12,
   "id": "24748188",
   "metadata": {},
   "outputs": [
    {
     "data": {
      "text/html": [
       "<table class=\"dataframe\">\n",
       "<caption>A data.frame: 1 × 3</caption>\n",
       "<thead>\n",
       "\t<tr><th scope=col>mzml_files</th><th scope=col>ResultFileNames</th><th scope=col>File_id</th></tr>\n",
       "\t<tr><th scope=col>&lt;chr&gt;</th><th scope=col>&lt;chr&gt;</th><th scope=col>&lt;chr&gt;</th></tr>\n",
       "</thead>\n",
       "<tbody>\n",
       "\t<tr><td>./Example_Tyrosine.mzML</td><td>./Example_Tyrosine</td><td>file_1</td></tr>\n",
       "</tbody>\n",
       "</table>\n"
      ],
      "text/latex": [
       "A data.frame: 1 × 3\n",
       "\\begin{tabular}{lll}\n",
       " mzml\\_files & ResultFileNames & File\\_id\\\\\n",
       " <chr> & <chr> & <chr>\\\\\n",
       "\\hline\n",
       "\t ./Example\\_Tyrosine.mzML & ./Example\\_Tyrosine & file\\_1\\\\\n",
       "\\end{tabular}\n"
      ],
      "text/markdown": [
       "\n",
       "A data.frame: 1 × 3\n",
       "\n",
       "| mzml_files &lt;chr&gt; | ResultFileNames &lt;chr&gt; | File_id &lt;chr&gt; |\n",
       "|---|---|---|\n",
       "| ./Example_Tyrosine.mzML | ./Example_Tyrosine | file_1 |\n",
       "\n"
      ],
      "text/plain": [
       "  mzml_files              ResultFileNames    File_id\n",
       "1 ./Example_Tyrosine.mzML ./Example_Tyrosine file_1 "
      ]
     },
     "metadata": {},
     "output_type": "display_data"
    }
   ],
   "source": [
    "input_table <- data.frame(ms2_rfilename(input_dir))\n",
    "input_table"
   ]
  },
  {
   "cell_type": "code",
   "execution_count": 13,
   "id": "e92b2626",
   "metadata": {},
   "outputs": [],
   "source": [
    "input_table_idxs <- listenv()"
   ]
  },
  {
   "cell_type": "code",
   "execution_count": 26,
   "id": "f8f4b400",
   "metadata": {},
   "outputs": [],
   "source": [
    "for (i in 1:nrow(input_table)){\n",
    "    input_table_idxs[[i]] <- future({\n",
    "        #Preprocess and Read the mzMLfiles\n",
    "        spec_pr <- spec_Processing(input_dir,\n",
    "                                   input_table[i, \"mzml_files\"],\n",
    "                                   input_table[i, \"ResultFileNames\"])\n",
    "\n",
    "        #perform dereplication with all dbs\n",
    "#         df_derep <- spec_dereplication_file(mzml_file = input_table[i, \"mzml_files\"],\n",
    "#                                             pre_tbl = paste(input_dir, str_remove(paste(input_table[i, \"ResultFileNames\"], \"/premz_list.txt\", sep = \"\"), \".\"), sep =\"\"),\n",
    "#                                             proc_mzml = paste(input_dir, str_remove(paste(input_table[i, \"ResultFileNames\"], \"/processedSpectra.mzML\", sep = \"\"), \".\"), sep =\"\"),\n",
    "#                                             db = \"all\",\n",
    "#                                             result_dir = input_table[i, \"ResultFileNames\"],\n",
    "#                                             file_id = input_table[i, \"File_id\"],\n",
    "#                                             input_dir,\n",
    "#                                             no_of_candidates = 50,\n",
    "#                                             ppmx = 15)\n",
    "        # Extract MS2 peak lists\n",
    "        spec_pr2 <- ms2_peaks(pre_tbl = paste(input_dir, str_remove(paste(input_table[i, \"ResultFileNames\"], \"/premz_list.txt\", sep = \"\"), \".\"), sep =\"\"),\n",
    "                              proc_mzml = paste(input_dir, str_remove(paste(input_table[i, \"ResultFileNames\"], \"/processedSpectra.mzML\", sep = \"\"), \".\"), sep =\"\"),\n",
    "                              input_dir,\n",
    "                              result_dir = input_table[i, \"ResultFileNames\"],\n",
    "                             file_id = input_table[i, \"File_id\"])\n",
    "\n",
    "        # camera results for isotopes\n",
    "#         cam_res <- cam_func(input_dir,\n",
    "#                             f = input_table[i, \"mzml_files\"], \n",
    "#                             ms2features = paste(input_dir, str_remove(paste(input_table[i, \"ResultFileNames\"], \"/insilico/MS2DATA.csv\", sep = \"\"), \".\"), sep = \"\"))\n",
    "\n",
    "        # Extract MS1 peaks or isotopic peaks\n",
    "        ms1p <- ms1_peaks(x = paste(input_dir, str_remove(paste(input_table[i, \"ResultFileNames\"],'/insilico/MS2DATA.csv', sep = \"\"), \".\"), sep =\"\"),\n",
    "                          y = NA, \n",
    "                          input_table[i, \"ResultFileNames\"],\n",
    "                          input_dir,\n",
    "                          QCfile = FALSE)\n",
    "\n",
    "\n",
    "        #prepare sirius parameter files\n",
    "        sirius_param_files <- sirius_param(x = paste(input_dir, str_remove(paste(input_table[i, \"ResultFileNames\"],'/insilico/MS1DATA.csv', sep = \"\"), \".\"), sep =\"\"),\n",
    "                                           result_dir = input_table[i, 'ResultFileNames'],\n",
    "                                           input_dir,\n",
    "                                           SL = FALSE)\n",
    "        # Run sirius\n",
    "        run_sirius(files = paste(input_dir, str_remove(paste(input_table[i, \"ResultFileNames\"],'/insilico/MS1DATA_SiriusP.tsv', sep = \"\"), \".\"), sep =\"\"),\n",
    "                   ppm_max = 5,\n",
    "                   ppm_max_ms2 = 15,\n",
    "                   QC = FALSE,\n",
    "                   SL = FALSE,\n",
    "                   SL_path = NA,\n",
    "                   candidates = 30,\n",
    "                  profile = \"orbitrap\")\n",
    "        \n",
    "        \n",
    "    })\n",
    "}"
   ]
  },
  {
   "cell_type": "code",
   "execution_count": 27,
   "id": "fa84857f",
   "metadata": {},
   "outputs": [],
   "source": [
    "input_table_idxs <- as.list(input_table_idxs)\n",
    "v_input_table_idxs <- future::value(input_table_idxs)"
   ]
  },
  {
   "cell_type": "code",
   "execution_count": null,
   "id": "6b076159",
   "metadata": {},
   "outputs": [],
   "source": []
  },
  {
   "cell_type": "code",
   "execution_count": null,
   "id": "d8920247",
   "metadata": {},
   "outputs": [],
   "source": []
  },
  {
   "cell_type": "code",
   "execution_count": null,
   "id": "5bb64091",
   "metadata": {},
   "outputs": [],
   "source": []
  },
  {
   "cell_type": "code",
   "execution_count": null,
   "id": "a5995c86",
   "metadata": {},
   "outputs": [],
   "source": []
  }
 ],
 "metadata": {
  "kernelspec": {
   "display_name": "R",
   "language": "R",
   "name": "ir"
  },
  "language_info": {
   "codemirror_mode": "r",
   "file_extension": ".r",
   "mimetype": "text/x-r-source",
   "name": "R",
   "pygments_lexer": "r",
   "version": "4.2.0"
  }
 },
 "nbformat": 4,
 "nbformat_minor": 5
}
