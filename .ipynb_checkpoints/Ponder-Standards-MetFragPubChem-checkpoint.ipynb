{
 "cells": [
  {
   "cell_type": "code",
   "execution_count": null,
   "id": "38aed44e",
   "metadata": {},
   "outputs": [],
   "source": [
    "install.packages(c(\"listenv\", \"future\"))"
   ]
  },
  {
   "cell_type": "code",
   "execution_count": null,
   "id": "3ab1f1e6",
   "metadata": {},
   "outputs": [],
   "source": [
    "\n",
    "library(parallel)\n",
    "library(doParallel)\n",
    "library(future)\n",
    "library(iterators)\n",
    "library(listenv)\n",
    "\n",
    "options(future.globals.maxSize = 8 * 1024^3) # increase dataset size limit taken by future to 8GB\n",
    "\n",
    "# detects number of cores\n",
    "n.cores <- parallel::detectCores()\n",
    "\n",
    "\n",
    "plan(list(\n",
    "  tweak(multisession, workers = ((n.cores + 5) %/% 3) %/% 2),\n",
    "  tweak(multisession, workers = ((n.cores + 5) %/% 3) %/% 2),\n",
    "  tweak(multisession, workers = 3)\n",
    "))\n"
   ]
  },
  {
   "cell_type": "code",
   "execution_count": null,
   "id": "57815cf1",
   "metadata": {},
   "outputs": [],
   "source": [
    "start.time <- Sys.time()"
   ]
  },
  {
   "cell_type": "code",
   "execution_count": 4,
   "id": "d4587d73",
   "metadata": {},
   "outputs": [],
   "source": [
    "input_dir <- getwd()"
   ]
  },
  {
   "cell_type": "code",
   "execution_count": 5,
   "id": "c7ba1874",
   "metadata": {},
   "outputs": [],
   "source": [
    "source(paste(getwd(),\"/Workflow_R_Functions.r\", sep = \"\"))"
   ]
  },
  {
   "cell_type": "code",
   "execution_count": 9,
   "id": "9522386f",
   "metadata": {
    "collapsed": true
   },
   "outputs": [
    {
     "data": {
      "text/html": [
       "<table class=\"dataframe\">\n",
       "<caption>A data.frame: 14 × 5</caption>\n",
       "<thead>\n",
       "\t<tr><th scope=col>X.1</th><th scope=col>X</th><th scope=col>mzml_files</th><th scope=col>ResultFileNames</th><th scope=col>File_id</th></tr>\n",
       "\t<tr><th scope=col>&lt;int&gt;</th><th scope=col>&lt;int&gt;</th><th scope=col>&lt;chr&gt;</th><th scope=col>&lt;chr&gt;</th><th scope=col>&lt;chr&gt;</th></tr>\n",
       "</thead>\n",
       "<tbody>\n",
       "\t<tr><td> 1</td><td> 1</td><td>./VN_211016_acetyl_carnitine.mzML    </td><td>./VN_211016_acetyl_carnitine    </td><td>file_1 </td></tr>\n",
       "\t<tr><td> 2</td><td> 2</td><td>./VN_211016_betaine.mzML             </td><td>./VN_211016_betaine             </td><td>file_2 </td></tr>\n",
       "\t<tr><td> 3</td><td> 3</td><td>./VN_211016_butanoyl_carnitine.mzML  </td><td>./VN_211016_butanoyl_carnitine  </td><td>file_3 </td></tr>\n",
       "\t<tr><td> 4</td><td> 4</td><td>./VN_211016_cyst_acid_PRM_neg.mzML   </td><td>./VN_211016_cyst_acid_PRM_neg   </td><td>file_4 </td></tr>\n",
       "\t<tr><td> 5</td><td> 5</td><td>./VN_211016_cyst_acid_PRM_pos.mzML   </td><td>./VN_211016_cyst_acid_PRM_pos   </td><td>file_5 </td></tr>\n",
       "\t<tr><td> 6</td><td> 6</td><td>./VN_211016_isovalerylcarnitine.mzML </td><td>./VN_211016_isovalerylcarnitine </td><td>file_6 </td></tr>\n",
       "\t<tr><td> 7</td><td> 7</td><td>./VN_211016_methionine_sulfoxide.mzML</td><td>./VN_211016_methionine_sulfoxide</td><td>file_7 </td></tr>\n",
       "\t<tr><td> 8</td><td> 8</td><td>./VN_211016_pipecolate.mzML          </td><td>./VN_211016_pipecolate          </td><td>file_8 </td></tr>\n",
       "\t<tr><td> 9</td><td> 9</td><td>./VN_211016_propanoyl_carnitine.mzML </td><td>./VN_211016_propanoyl_carnitine </td><td>file_9 </td></tr>\n",
       "\t<tr><td>10</td><td>10</td><td>./VN_211016_Sc_QC_PRM_neg.mzML       </td><td>./VN_211016_Sc_QC_PRM_neg       </td><td>file_10</td></tr>\n",
       "\t<tr><td>11</td><td>11</td><td>./VN_211016_Sc_QC_PRM_pos.mzML       </td><td>./VN_211016_Sc_QC_PRM_pos       </td><td>file_11</td></tr>\n",
       "\t<tr><td>12</td><td>12</td><td>./VN_211016_Sc_st_PRM_neg.mzML       </td><td>./VN_211016_Sc_st_PRM_neg       </td><td>file_12</td></tr>\n",
       "\t<tr><td>13</td><td>13</td><td>./VN_211016_Sc_st_PRM_pos.mzML       </td><td>./VN_211016_Sc_st_PRM_pos       </td><td>file_13</td></tr>\n",
       "\t<tr><td>14</td><td>14</td><td>./VN_211019_NNdimetharg.mzML         </td><td>./VN_211019_NNdimetharg         </td><td>file_14</td></tr>\n",
       "</tbody>\n",
       "</table>\n"
      ],
      "text/latex": [
       "A data.frame: 14 × 5\n",
       "\\begin{tabular}{lllll}\n",
       " X.1 & X & mzml\\_files & ResultFileNames & File\\_id\\\\\n",
       " <int> & <int> & <chr> & <chr> & <chr>\\\\\n",
       "\\hline\n",
       "\t  1 &  1 & ./VN\\_211016\\_acetyl\\_carnitine.mzML     & ./VN\\_211016\\_acetyl\\_carnitine     & file\\_1 \\\\\n",
       "\t  2 &  2 & ./VN\\_211016\\_betaine.mzML              & ./VN\\_211016\\_betaine              & file\\_2 \\\\\n",
       "\t  3 &  3 & ./VN\\_211016\\_butanoyl\\_carnitine.mzML   & ./VN\\_211016\\_butanoyl\\_carnitine   & file\\_3 \\\\\n",
       "\t  4 &  4 & ./VN\\_211016\\_cyst\\_acid\\_PRM\\_neg.mzML    & ./VN\\_211016\\_cyst\\_acid\\_PRM\\_neg    & file\\_4 \\\\\n",
       "\t  5 &  5 & ./VN\\_211016\\_cyst\\_acid\\_PRM\\_pos.mzML    & ./VN\\_211016\\_cyst\\_acid\\_PRM\\_pos    & file\\_5 \\\\\n",
       "\t  6 &  6 & ./VN\\_211016\\_isovalerylcarnitine.mzML  & ./VN\\_211016\\_isovalerylcarnitine  & file\\_6 \\\\\n",
       "\t  7 &  7 & ./VN\\_211016\\_methionine\\_sulfoxide.mzML & ./VN\\_211016\\_methionine\\_sulfoxide & file\\_7 \\\\\n",
       "\t  8 &  8 & ./VN\\_211016\\_pipecolate.mzML           & ./VN\\_211016\\_pipecolate           & file\\_8 \\\\\n",
       "\t  9 &  9 & ./VN\\_211016\\_propanoyl\\_carnitine.mzML  & ./VN\\_211016\\_propanoyl\\_carnitine  & file\\_9 \\\\\n",
       "\t 10 & 10 & ./VN\\_211016\\_Sc\\_QC\\_PRM\\_neg.mzML        & ./VN\\_211016\\_Sc\\_QC\\_PRM\\_neg        & file\\_10\\\\\n",
       "\t 11 & 11 & ./VN\\_211016\\_Sc\\_QC\\_PRM\\_pos.mzML        & ./VN\\_211016\\_Sc\\_QC\\_PRM\\_pos        & file\\_11\\\\\n",
       "\t 12 & 12 & ./VN\\_211016\\_Sc\\_st\\_PRM\\_neg.mzML        & ./VN\\_211016\\_Sc\\_st\\_PRM\\_neg        & file\\_12\\\\\n",
       "\t 13 & 13 & ./VN\\_211016\\_Sc\\_st\\_PRM\\_pos.mzML        & ./VN\\_211016\\_Sc\\_st\\_PRM\\_pos        & file\\_13\\\\\n",
       "\t 14 & 14 & ./VN\\_211019\\_NNdimetharg.mzML          & ./VN\\_211019\\_NNdimetharg          & file\\_14\\\\\n",
       "\\end{tabular}\n"
      ],
      "text/markdown": [
       "\n",
       "A data.frame: 14 × 5\n",
       "\n",
       "| X.1 &lt;int&gt; | X &lt;int&gt; | mzml_files &lt;chr&gt; | ResultFileNames &lt;chr&gt; | File_id &lt;chr&gt; |\n",
       "|---|---|---|---|---|\n",
       "|  1 |  1 | ./VN_211016_acetyl_carnitine.mzML     | ./VN_211016_acetyl_carnitine     | file_1  |\n",
       "|  2 |  2 | ./VN_211016_betaine.mzML              | ./VN_211016_betaine              | file_2  |\n",
       "|  3 |  3 | ./VN_211016_butanoyl_carnitine.mzML   | ./VN_211016_butanoyl_carnitine   | file_3  |\n",
       "|  4 |  4 | ./VN_211016_cyst_acid_PRM_neg.mzML    | ./VN_211016_cyst_acid_PRM_neg    | file_4  |\n",
       "|  5 |  5 | ./VN_211016_cyst_acid_PRM_pos.mzML    | ./VN_211016_cyst_acid_PRM_pos    | file_5  |\n",
       "|  6 |  6 | ./VN_211016_isovalerylcarnitine.mzML  | ./VN_211016_isovalerylcarnitine  | file_6  |\n",
       "|  7 |  7 | ./VN_211016_methionine_sulfoxide.mzML | ./VN_211016_methionine_sulfoxide | file_7  |\n",
       "|  8 |  8 | ./VN_211016_pipecolate.mzML           | ./VN_211016_pipecolate           | file_8  |\n",
       "|  9 |  9 | ./VN_211016_propanoyl_carnitine.mzML  | ./VN_211016_propanoyl_carnitine  | file_9  |\n",
       "| 10 | 10 | ./VN_211016_Sc_QC_PRM_neg.mzML        | ./VN_211016_Sc_QC_PRM_neg        | file_10 |\n",
       "| 11 | 11 | ./VN_211016_Sc_QC_PRM_pos.mzML        | ./VN_211016_Sc_QC_PRM_pos        | file_11 |\n",
       "| 12 | 12 | ./VN_211016_Sc_st_PRM_neg.mzML        | ./VN_211016_Sc_st_PRM_neg        | file_12 |\n",
       "| 13 | 13 | ./VN_211016_Sc_st_PRM_pos.mzML        | ./VN_211016_Sc_st_PRM_pos        | file_13 |\n",
       "| 14 | 14 | ./VN_211019_NNdimetharg.mzML          | ./VN_211019_NNdimetharg          | file_14 |\n",
       "\n"
      ],
      "text/plain": [
       "   X.1 X  mzml_files                           \n",
       "1   1   1 ./VN_211016_acetyl_carnitine.mzML    \n",
       "2   2   2 ./VN_211016_betaine.mzML             \n",
       "3   3   3 ./VN_211016_butanoyl_carnitine.mzML  \n",
       "4   4   4 ./VN_211016_cyst_acid_PRM_neg.mzML   \n",
       "5   5   5 ./VN_211016_cyst_acid_PRM_pos.mzML   \n",
       "6   6   6 ./VN_211016_isovalerylcarnitine.mzML \n",
       "7   7   7 ./VN_211016_methionine_sulfoxide.mzML\n",
       "8   8   8 ./VN_211016_pipecolate.mzML          \n",
       "9   9   9 ./VN_211016_propanoyl_carnitine.mzML \n",
       "10 10  10 ./VN_211016_Sc_QC_PRM_neg.mzML       \n",
       "11 11  11 ./VN_211016_Sc_QC_PRM_pos.mzML       \n",
       "12 12  12 ./VN_211016_Sc_st_PRM_neg.mzML       \n",
       "13 13  13 ./VN_211016_Sc_st_PRM_pos.mzML       \n",
       "14 14  14 ./VN_211019_NNdimetharg.mzML         \n",
       "   ResultFileNames                  File_id\n",
       "1  ./VN_211016_acetyl_carnitine     file_1 \n",
       "2  ./VN_211016_betaine              file_2 \n",
       "3  ./VN_211016_butanoyl_carnitine   file_3 \n",
       "4  ./VN_211016_cyst_acid_PRM_neg    file_4 \n",
       "5  ./VN_211016_cyst_acid_PRM_pos    file_5 \n",
       "6  ./VN_211016_isovalerylcarnitine  file_6 \n",
       "7  ./VN_211016_methionine_sulfoxide file_7 \n",
       "8  ./VN_211016_pipecolate           file_8 \n",
       "9  ./VN_211016_propanoyl_carnitine  file_9 \n",
       "10 ./VN_211016_Sc_QC_PRM_neg        file_10\n",
       "11 ./VN_211016_Sc_QC_PRM_pos        file_11\n",
       "12 ./VN_211016_Sc_st_PRM_neg        file_12\n",
       "13 ./VN_211016_Sc_st_PRM_pos        file_13\n",
       "14 ./VN_211019_NNdimetharg          file_14"
      ]
     },
     "metadata": {},
     "output_type": "display_data"
    }
   ],
   "source": [
    "input_table <- read.csv(paste(input_dir,\"/input_table.csv\", sep = \"\"))\n",
    "input_table"
   ]
  },
  {
   "cell_type": "code",
   "execution_count": 13,
   "id": "87842387",
   "metadata": {
    "scrolled": true
   },
   "outputs": [
    {
     "name": "stderr",
     "output_type": "stream",
     "text": [
      "\u001b[1mRows: \u001b[22m\u001b[34m12\u001b[39m \u001b[1mColumns: \u001b[22m\u001b[34m12\u001b[39m\n",
      "\u001b[36m──\u001b[39m \u001b[1mColumn specification\u001b[22m \u001b[36m──────────────────────────────────────────────────────\u001b[39m\n",
      "\u001b[1mDelimiter:\u001b[22m \"\\t\"\n",
      "\u001b[31mchr\u001b[39m (3): molecularFormula, adduct, precursorFormula\n",
      "\u001b[32mdbl\u001b[39m (9): rank, SiriusScore, TreeScore, IsotopeScore, numExplainedPeaks, expl...\n",
      "\n",
      "\u001b[36mℹ\u001b[39m Use `spec()` to retrieve the full column specification for this data.\n",
      "\u001b[36mℹ\u001b[39m Specify the column types or set `show_col_types = FALSE` to quiet this message.\n"
     ]
    }
   ],
   "source": [
    "input_table_idxs <- listenv()"
   ]
  },
  {
   "cell_type": "code",
   "execution_count": 23,
   "id": "16ceeda0",
   "metadata": {},
   "outputs": [],
   "source": [
    "#run_metfrag(paste(input_dir, str_remove(paste(input_table[i, \"ResultFileNames\"], \"/insilico/metparam_list.txt\", sep = \"\"), \".\"), sep =\"\"))"
   ]
  },
  {
   "cell_type": "code",
   "execution_count": null,
   "id": "0d6e53cc",
   "metadata": {},
   "outputs": [],
   "source": [
    "for (i in 1:nrow(input_table)){\n",
    "    input_table_idxs[[i]] <- future({\n",
    "        \n",
    "        sirius_adduct(input_dir, \n",
    "                             x = input_table[i, \"ResultFileNames\"], \n",
    "                             SL = FALSE)\n",
    "        \n",
    "\n",
    "        metfrag_param(x = paste(input_dir, str_remove(paste(input_table[i, \"ResultFileNames\"], \"/insilico/MS1DATAsirius.csv\", sep = \"\"), \".\"), sep =\"\"),\n",
    "                      result_dir = input_table[i, \"ResultFileNames\"], \n",
    "                      input_dir, \n",
    "                      sl_mtfrag = NA, \n",
    "                      SL = FALSE, \n",
    "                      ppm_max = 5, \n",
    "                      ppm_max_ms2= 15)\n",
    "        \n",
    "        run_metfrag(paste(input_dir, str_remove(paste(input_table[i, \"ResultFileNames\"], \"/insilico/metparam_list.txt\", sep = \"\"), \".\"), sep =\"\"))\n",
    "        \n",
    "    })\n",
    "    \n",
    "}"
   ]
  },
  {
   "cell_type": "code",
   "execution_count": null,
   "id": "21f7ca24",
   "metadata": {},
   "outputs": [],
   "source": [
    "input_table_idxs <- as.list(input_table_idxs)\n",
    "v_input_table_idxs <- future::value(input_table_idxs)"
   ]
  },
  {
   "cell_type": "code",
   "execution_count": null,
   "id": "651a1b96",
   "metadata": {},
   "outputs": [],
   "source": [
    "end.time <- Sys.time()"
   ]
  },
  {
   "cell_type": "code",
   "execution_count": null,
   "id": "755f3515",
   "metadata": {},
   "outputs": [],
   "source": [
    "time.taken <- end.time - start.time\n",
    "print(time.taken)"
   ]
  }
 ],
 "metadata": {
  "kernelspec": {
   "display_name": "R",
   "language": "R",
   "name": "ir"
  },
  "language_info": {
   "codemirror_mode": "r",
   "file_extension": ".r",
   "mimetype": "text/x-r-source",
   "name": "R",
   "pygments_lexer": "r",
   "version": "4.2.0"
  }
 },
 "nbformat": 4,
 "nbformat_minor": 5
}
