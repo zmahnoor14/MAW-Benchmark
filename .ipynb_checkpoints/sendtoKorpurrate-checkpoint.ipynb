{
 "cells": [
  {
   "cell_type": "code",
   "execution_count": 1,
   "id": "d819c105",
   "metadata": {},
   "outputs": [
    {
     "name": "stderr",
     "output_type": "stream",
     "text": [
      "INFO:rdkit:Enabling RDKit 2021.09.4 jupyter extensions\n"
     ]
    }
   ],
   "source": [
    "# import the function file\n",
    "from Workflow_Python_Functions import *"
   ]
  },
  {
   "cell_type": "code",
   "execution_count": 2,
   "id": "7a4b2d8c",
   "metadata": {},
   "outputs": [],
   "source": [
    "inchis_old = pd.read_csv(\"/Users/mahnoorzulfiqar/OneDriveUNI/MAW-data/mtbls709re-bio/old_bryo.csv\")"
   ]
  },
  {
   "cell_type": "code",
   "execution_count": 5,
   "id": "2594ebdd",
   "metadata": {},
   "outputs": [],
   "source": [
    "inchis_old[\"smiles\"].to_csv(\"/Users/mahnoorzulfiqar/OneDriveUNI/MAW-data/mtbls709re-bio/old_results-48.csv\")"
   ]
  },
  {
   "cell_type": "code",
   "execution_count": 7,
   "id": "4c49a8f1",
   "metadata": {},
   "outputs": [],
   "source": [
    "input_dir = \"/Users/mahnoorzulfiqar/OneDriveUNI/MAW-data/mtbls709re-bio\""
   ]
  },
  {
   "cell_type": "code",
   "execution_count": 16,
   "id": "f0da7054",
   "metadata": {},
   "outputs": [],
   "source": [
    "entry = \"pos_ms2_spectra\""
   ]
  },
  {
   "cell_type": "code",
   "execution_count": 17,
   "id": "67949788",
   "metadata": {},
   "outputs": [
    {
     "name": "stdout",
     "output_type": "stream",
     "text": [
      "pos_ms2_spectra\n"
     ]
    }
   ],
   "source": [
    "\n",
    "all_smiles_arry = []\n",
    "# if the entry is also a directory\n",
    "if os.path.isdir(os.path.join(input_dir, entry)):\n",
    "    print(entry)\n",
    "    sub_dir1 = input_dir + \"/\" + entry + \"/insilico\"\n",
    "    if os.path.isdir(sub_dir1):\n",
    "        sub_dir = sub_dir1 + \"/SIRIUS/\"\n",
    "        msp_csv = input_dir + \"/MS1DATA_bryo.csv\"\n",
    "        if os.path.exists(msp_csv) and os.path.exists(sub_dir):\n",
    "            files_S = glob.glob(sub_dir + \"/*.json\")\n",
    "            msp = pd.read_csv(msp_csv)\n",
    "            # for each mz\n",
    "            for mz, row in msp.iterrows():\n",
    "                #print(mz)\n",
    "                files_for_mz = []\n",
    "                for file in files_S:\n",
    "                    if str(msp[\"premz\"][mz]) in file:\n",
    "                        files_for_mz.append(file)\n",
    "                #print(files_for_mz)\n",
    "                if len(files_for_mz)==1:\n",
    "                    json_dirALL = next(os.walk(files_for_mz[0]))[1]\n",
    "                    #print(json_dirALL)\n",
    "                    sub_sub_dirALL_structure_can = (\n",
    "                        files_for_mz[0]\n",
    "                        + \"/\"\n",
    "                        + json_dirALL[0]\n",
    "                        + \"/structure_candidates.tsv\"\n",
    "                    )\n",
    "\n",
    "                    # if both structure files exist\n",
    "                    if (\n",
    "                        os.path.exists(sub_sub_dirALL_structure_can)\n",
    "                        and len(pd.read_csv(sub_sub_dirALL_structure_can, sep=\"\\t\")) > 0\n",
    "                    ):\n",
    "                        ALL_structure_csv = pd.read_csv(\n",
    "                            sub_sub_dirALL_structure_can, sep=\"\\t\"\n",
    "                        )\n",
    "                        for smile, rows in ALL_structure_csv.iterrows():\n",
    "                            #print(ALL_structure_csv[\"smiles\"][smile])\n",
    "                            all_smiles_arry.append(ALL_structure_csv[\"smiles\"][smile])\n",
    "all_smiles_db = pd.DataFrame(all_smiles_arry)\n",
    "all_smiles_db.to_csv(\"/Users/mahnoorzulfiqar/OneDriveUNI/MAW-data/mtbls709re-bio/new_results.csv\")"
   ]
  },
  {
   "cell_type": "code",
   "execution_count": 18,
   "id": "b5f74da8",
   "metadata": {},
   "outputs": [
    {
     "data": {
      "text/html": [
       "<div>\n",
       "<style scoped>\n",
       "    .dataframe tbody tr th:only-of-type {\n",
       "        vertical-align: middle;\n",
       "    }\n",
       "\n",
       "    .dataframe tbody tr th {\n",
       "        vertical-align: top;\n",
       "    }\n",
       "\n",
       "    .dataframe thead th {\n",
       "        text-align: right;\n",
       "    }\n",
       "</style>\n",
       "<table border=\"1\" class=\"dataframe\">\n",
       "  <thead>\n",
       "    <tr style=\"text-align: right;\">\n",
       "      <th></th>\n",
       "      <th>0</th>\n",
       "    </tr>\n",
       "  </thead>\n",
       "  <tbody>\n",
       "    <tr>\n",
       "      <th>0</th>\n",
       "      <td>CCC=CCCC=CC=C</td>\n",
       "    </tr>\n",
       "    <tr>\n",
       "      <th>1</th>\n",
       "      <td>CC(C=C)C=CC=C(C)C</td>\n",
       "    </tr>\n",
       "    <tr>\n",
       "      <th>2</th>\n",
       "      <td>CC=CC(=CC=C(C)C)C</td>\n",
       "    </tr>\n",
       "    <tr>\n",
       "      <th>3</th>\n",
       "      <td>CC(=CCCC=CC=C)C</td>\n",
       "    </tr>\n",
       "    <tr>\n",
       "      <th>4</th>\n",
       "      <td>CC1=CCCC(=CCC1)C</td>\n",
       "    </tr>\n",
       "    <tr>\n",
       "      <th>...</th>\n",
       "      <td>...</td>\n",
       "    </tr>\n",
       "    <tr>\n",
       "      <th>61721</th>\n",
       "      <td>CC(=CCCC(=CCC1C(OC2=C(C1=O)C(=C(C(=C2)O)CC=C(C...</td>\n",
       "    </tr>\n",
       "    <tr>\n",
       "      <th>61722</th>\n",
       "      <td>CC(=CCCC(=CCC1C(OC2=C(C1=O)C(=C(C(=C2)O)CC=C(C...</td>\n",
       "    </tr>\n",
       "    <tr>\n",
       "      <th>61723</th>\n",
       "      <td>CC1=C2C(C(C3(C(CC(C4(C3C(C2(CC1O)C(C)(C)O)OC(=...</td>\n",
       "    </tr>\n",
       "    <tr>\n",
       "      <th>61724</th>\n",
       "      <td>CC1=C(C(=C2C(=CC(=CC2=C1[O-])C(=O)O)OC3C(C(C(C...</td>\n",
       "    </tr>\n",
       "    <tr>\n",
       "      <th>61725</th>\n",
       "      <td>CC1=CC2=C(C(=C(C(=C2C(C)C)O)O)C=NC3=CC=CC=C3)C...</td>\n",
       "    </tr>\n",
       "  </tbody>\n",
       "</table>\n",
       "<p>61726 rows × 1 columns</p>\n",
       "</div>"
      ],
      "text/plain": [
       "                                                       0\n",
       "0                                          CCC=CCCC=CC=C\n",
       "1                                      CC(C=C)C=CC=C(C)C\n",
       "2                                      CC=CC(=CC=C(C)C)C\n",
       "3                                        CC(=CCCC=CC=C)C\n",
       "4                                       CC1=CCCC(=CCC1)C\n",
       "...                                                  ...\n",
       "61721  CC(=CCCC(=CCC1C(OC2=C(C1=O)C(=C(C(=C2)O)CC=C(C...\n",
       "61722  CC(=CCCC(=CCC1C(OC2=C(C1=O)C(=C(C(=C2)O)CC=C(C...\n",
       "61723  CC1=C2C(C(C3(C(CC(C4(C3C(C2(CC1O)C(C)(C)O)OC(=...\n",
       "61724  CC1=C(C(=C2C(=CC(=CC2=C1[O-])C(=O)O)OC3C(C(C(C...\n",
       "61725  CC1=CC2=C(C(=C(C(=C2C(C)C)O)O)C=NC3=CC=CC=C3)C...\n",
       "\n",
       "[61726 rows x 1 columns]"
      ]
     },
     "execution_count": 18,
     "metadata": {},
     "output_type": "execute_result"
    }
   ],
   "source": [
    "all_smiles_db"
   ]
  },
  {
   "cell_type": "code",
   "execution_count": null,
   "id": "2241e41b",
   "metadata": {},
   "outputs": [],
   "source": []
  }
 ],
 "metadata": {
  "kernelspec": {
   "display_name": "Python (mawRpy)",
   "language": "python",
   "name": "mawrpy"
  },
  "language_info": {
   "codemirror_mode": {
    "name": "ipython",
    "version": 3
   },
   "file_extension": ".py",
   "mimetype": "text/x-python",
   "name": "python",
   "nbconvert_exporter": "python",
   "pygments_lexer": "ipython3",
   "version": "3.10.2"
  }
 },
 "nbformat": 4,
 "nbformat_minor": 5
}
