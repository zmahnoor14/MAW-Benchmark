{
 "cells": [
  {
   "cell_type": "code",
   "execution_count": null,
   "id": "18b5b947",
   "metadata": {},
   "outputs": [],
   "source": [
    "start.time <- Sys.time()"
   ]
  },
  {
   "cell_type": "code",
   "execution_count": 1,
   "id": "d08f465c",
   "metadata": {
    "scrolled": true
   },
   "outputs": [
    {
     "name": "stderr",
     "output_type": "stream",
     "text": [
      "Lade nötiges Paket: S4Vectors\n",
      "\n",
      "Lade nötiges Paket: stats4\n",
      "\n",
      "Lade nötiges Paket: BiocGenerics\n",
      "\n",
      "\n",
      "Attache Paket: ‘BiocGenerics’\n",
      "\n",
      "\n",
      "Die folgenden Objekte sind maskiert von ‘package:stats’:\n",
      "\n",
      "    IQR, mad, sd, var, xtabs\n",
      "\n",
      "\n",
      "Die folgenden Objekte sind maskiert von ‘package:base’:\n",
      "\n",
      "    Filter, Find, Map, Position, Reduce, anyDuplicated, append,\n",
      "    as.data.frame, basename, cbind, colnames, dirname, do.call,\n",
      "    duplicated, eval, evalq, get, grep, grepl, intersect, is.unsorted,\n",
      "    lapply, mapply, match, mget, order, paste, pmax, pmax.int, pmin,\n",
      "    pmin.int, rank, rbind, rownames, sapply, setdiff, sort, table,\n",
      "    tapply, union, unique, unsplit, which.max, which.min\n",
      "\n",
      "\n",
      "\n",
      "Attache Paket: ‘S4Vectors’\n",
      "\n",
      "\n",
      "Die folgenden Objekte sind maskiert von ‘package:base’:\n",
      "\n",
      "    I, expand.grid, unname\n",
      "\n",
      "\n",
      "Lade nötiges Paket: BiocParallel\n",
      "\n",
      "Lade nötiges Paket: ProtGenerics\n",
      "\n",
      "\n",
      "Attache Paket: ‘ProtGenerics’\n",
      "\n",
      "\n",
      "Das folgende Objekt ist maskiert ‘package:stats’:\n",
      "\n",
      "    smooth\n",
      "\n",
      "\n",
      "\n",
      "Attache Paket: ‘Spectra’\n",
      "\n",
      "\n",
      "Das folgende Objekt ist maskiert ‘package:ProtGenerics’:\n",
      "\n",
      "    addProcessing\n",
      "\n",
      "\n"
     ]
    }
   ],
   "source": [
    "library(Spectra)\n",
    "library(MsBackendMgf)"
   ]
  },
  {
   "cell_type": "code",
   "execution_count": 2,
   "id": "7f0df1ab",
   "metadata": {},
   "outputs": [],
   "source": [
    "input_dir <- \"/Users/mahnoorzulfiqar/OneDriveUNI/MAW-data/newDBs\""
   ]
  },
  {
   "cell_type": "code",
   "execution_count": 3,
   "id": "a8487a24",
   "metadata": {},
   "outputs": [],
   "source": [
    "system(paste(\"wget -P\", input_dir, \"https://gnps-external.ucsd.edu/gnpslibrary/ALL_GNPS.mgf\", sep =  \" \"))"
   ]
  },
  {
   "cell_type": "code",
   "execution_count": 4,
   "id": "b89e05a3",
   "metadata": {},
   "outputs": [],
   "source": [
    "if (!(file.exists(paste(input_dir, \"/summaryFile.txt\", sep = \"\")))){\n",
    "    summaryFile <- paste(input_dir, \"/summaryFile.txt\", sep = \"\")\n",
    "    file.create(summaryFile, recursive = TRUE)\n",
    "}else{\n",
    "    summaryFile <- paste(input_dir, \"/summaryFile.txt\", sep = \"\")\n",
    "}\n",
    "file.conn <- file(summaryFile)\n",
    "open(file.conn, open = \"at\")"
   ]
  },
  {
   "cell_type": "code",
   "execution_count": null,
   "id": "d84ddb5f",
   "metadata": {},
   "outputs": [],
   "source": [
    "# load the spectra into MsBackendMgf\n",
    "gnpsdb <- Spectra(paste(input_dir, \"/ALL_GNPS.mgf\", sep = ''), backend = MsBackendMgf())\n"
   ]
  },
  {
   "cell_type": "code",
   "execution_count": null,
   "id": "1edb434e",
   "metadata": {},
   "outputs": [],
   "source": [
    "save(gnpsdb, file = paste(input_dir,\"/gnps.rda\", sep = \"\"))\n",
    "\n",
    "# delete the database in its format to free up space\n",
    "system(paste(\"rm\", (paste(input_dir, \"/ALL_GNPS.mgf\", sep = '')), sep = \" \"))"
   ]
  },
  {
   "cell_type": "code",
   "execution_count": null,
   "id": "30f74e79",
   "metadata": {},
   "outputs": [],
   "source": [
    "writeLines(paste(\"GNPS saved at\", Sys.time(), sep=\" \"),con=file.conn)"
   ]
  },
  {
   "cell_type": "code",
   "execution_count": null,
   "id": "72668c30",
   "metadata": {},
   "outputs": [],
   "source": [
    "end.time <- Sys.time()"
   ]
  },
  {
   "cell_type": "code",
   "execution_count": null,
   "id": "4a836688",
   "metadata": {},
   "outputs": [],
   "source": [
    "time.taken <- end.time - start.time\n",
    "print(time.taken)"
   ]
  }
 ],
 "metadata": {
  "kernelspec": {
   "display_name": "R",
   "language": "R",
   "name": "ir"
  },
  "language_info": {
   "codemirror_mode": "r",
   "file_extension": ".r",
   "mimetype": "text/x-r-source",
   "name": "R",
   "pygments_lexer": "r",
   "version": "4.2.0"
  }
 },
 "nbformat": 4,
 "nbformat_minor": 5
}
