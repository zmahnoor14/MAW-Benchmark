{
 "cells": [
  {
   "cell_type": "code",
   "execution_count": 1,
   "id": "18b5b947",
   "metadata": {},
   "outputs": [],
   "source": [
    "start.time <- Sys.time()"
   ]
  },
  {
   "cell_type": "code",
   "execution_count": 2,
   "id": "d08f465c",
   "metadata": {},
   "outputs": [
    {
     "name": "stderr",
     "output_type": "stream",
     "text": [
      "Lade nötiges Paket: S4Vectors\n",
      "\n",
      "Lade nötiges Paket: stats4\n",
      "\n",
      "Lade nötiges Paket: BiocGenerics\n",
      "\n",
      "\n",
      "Attache Paket: ‘BiocGenerics’\n",
      "\n",
      "\n",
      "Die folgenden Objekte sind maskiert von ‘package:stats’:\n",
      "\n",
      "    IQR, mad, sd, var, xtabs\n",
      "\n",
      "\n",
      "Die folgenden Objekte sind maskiert von ‘package:base’:\n",
      "\n",
      "    Filter, Find, Map, Position, Reduce, anyDuplicated, append,\n",
      "    as.data.frame, basename, cbind, colnames, dirname, do.call,\n",
      "    duplicated, eval, evalq, get, grep, grepl, intersect, is.unsorted,\n",
      "    lapply, mapply, match, mget, order, paste, pmax, pmax.int, pmin,\n",
      "    pmin.int, rank, rbind, rownames, sapply, setdiff, sort, table,\n",
      "    tapply, union, unique, unsplit, which.max, which.min\n",
      "\n",
      "\n",
      "\n",
      "Attache Paket: ‘S4Vectors’\n",
      "\n",
      "\n",
      "Die folgenden Objekte sind maskiert von ‘package:base’:\n",
      "\n",
      "    I, expand.grid, unname\n",
      "\n",
      "\n",
      "Lade nötiges Paket: BiocParallel\n",
      "\n",
      "Lade nötiges Paket: ProtGenerics\n",
      "\n",
      "\n",
      "Attache Paket: ‘ProtGenerics’\n",
      "\n",
      "\n",
      "Das folgende Objekt ist maskiert ‘package:stats’:\n",
      "\n",
      "    smooth\n",
      "\n",
      "\n",
      "\n",
      "Attache Paket: ‘Spectra’\n",
      "\n",
      "\n",
      "Das folgende Objekt ist maskiert ‘package:ProtGenerics’:\n",
      "\n",
      "    addProcessing\n",
      "\n",
      "\n"
     ]
    }
   ],
   "source": [
    "library(Spectra)\n",
    "#library(MsBackendMgf)\n",
    "library(MsBackendMsp)"
   ]
  },
  {
   "cell_type": "code",
   "execution_count": 4,
   "id": "7f0df1ab",
   "metadata": {},
   "outputs": [],
   "source": [
    "input_dir <- getwd()"
   ]
  },
  {
   "cell_type": "code",
   "execution_count": 3,
   "id": "a8487a24",
   "metadata": {},
   "outputs": [],
   "source": [
    "system(paste(\"wget -P\", input_dir, \"https://gnps-external.ucsd.edu/gnpslibrary/ALL_GNPS.msp\", sep =  \" \"))"
   ]
  },
  {
   "cell_type": "code",
   "execution_count": 5,
   "id": "b89e05a3",
   "metadata": {},
   "outputs": [],
   "source": [
    "if (!(file.exists(paste(input_dir, \"/summaryFile.txt\", sep = \"\")))){\n",
    "    summaryFile <- paste(input_dir, \"/summaryFile.txt\", sep = \"\")\n",
    "    file.create(summaryFile, recursive = TRUE)\n",
    "}else{\n",
    "    summaryFile <- paste(input_dir, \"/summaryFile.txt\", sep = \"\")\n",
    "}\n",
    "file.conn <- file(summaryFile)\n",
    "open(file.conn, open = \"at\")"
   ]
  },
  {
   "cell_type": "code",
   "execution_count": 7,
   "id": "d84ddb5f",
   "metadata": {
    "collapsed": true
   },
   "outputs": [
    {
     "name": "stderr",
     "output_type": "stream",
     "text": [
      "Start data import from 1 files ... \n"
     ]
    },
    {
     "ename": "ERROR",
     "evalue": "Error: BiocParallel errors\n  1 remote errors, element index: 1\n  0 unevaluated and other errors\n  first remote error:\nError in begin[i]:end[i]: NA/NaN Argument\n\n",
     "output_type": "error",
     "traceback": [
      "Error: BiocParallel errors\n  1 remote errors, element index: 1\n  0 unevaluated and other errors\n  first remote error:\nError in begin[i]:end[i]: NA/NaN Argument\n\nTraceback:\n",
      "1. Spectra(paste(input_dir, \"/ALL_GNPS.mgf\", sep = \"\"), source = MsBackendMgf())",
      "2. Spectra(paste(input_dir, \"/ALL_GNPS.mgf\", sep = \"\"), source = MsBackendMgf())",
      "3. .local(object, ...)",
      "4. callNextMethod(object = object, processingQueue = processingQueue, \n .     metadata = metadata, source = source, backend = backend, \n .     ..., BPPARAM = BPPARAM)",
      "5. eval(call, callEnv)",
      "6. eval(call, callEnv)",
      "7. .nextMethod(object = object, processingQueue = processingQueue, \n .     metadata = metadata, source = source, backend = backend, \n .     ..., BPPARAM = BPPARAM)",
      "8. .local(object, ...)",
      "9. new(\"Spectra\", metadata = metadata, processingQueue = processingQueue, \n .     backend = backendInitialize(source, object, ..., BPPARAM = BPPARAM))",
      "10. initialize(value, ...)",
      "11. initialize(value, ...)",
      "12. backendInitialize(source, object, ..., BPPARAM = BPPARAM)",
      "13. backendInitialize(source, object, ..., BPPARAM = BPPARAM)",
      "14. .local(object, ...)",
      "15. bplapply(files, FUN = readMgf, mapping = mapping, BPPARAM = BPPARAM)",
      "16. bplapply(files, FUN = readMgf, mapping = mapping, BPPARAM = BPPARAM)",
      "17. .bpinit(manager = manager, X = X, FUN = FUN, ARGS = ARGS, BPPARAM = BPPARAM, \n  .     BPOPTIONS = BPOPTIONS, BPREDO = BPREDO)"
     ]
    }
   ],
   "source": [
    "# load the spectra into MsBackendMgf\n",
    "gnpsdb <- Spectra(paste(input_dir, \"/ALL_GNPS.msp\", sep = ''), source = MsBackendMsp())"
   ]
  },
  {
   "cell_type": "code",
   "execution_count": null,
   "id": "1edb434e",
   "metadata": {},
   "outputs": [],
   "source": [
    "save(gnpsdb, file = paste(input_dir,\"/gnps.rda\", sep = \"\"))\n",
    "\n",
    "# delete the database in its format to free up space\n",
    "system(paste(\"rm\", (paste(input_dir, \"/ALL_GNPS.msp\", sep = '')), sep = \" \"))"
   ]
  },
  {
   "cell_type": "code",
   "execution_count": null,
   "id": "30f74e79",
   "metadata": {},
   "outputs": [],
   "source": [
    "writeLines(paste(\"GNPS saved at\", Sys.time(), sep=\" \"),con=file.conn)"
   ]
  },
  {
   "cell_type": "code",
   "execution_count": null,
   "id": "72668c30",
   "metadata": {},
   "outputs": [],
   "source": [
    "end.time <- Sys.time()"
   ]
  },
  {
   "cell_type": "code",
   "execution_count": null,
   "id": "4a836688",
   "metadata": {},
   "outputs": [],
   "source": [
    "time.taken <- end.time - start.time\n",
    "print(time.taken)"
   ]
  },
  {
   "cell_type": "code",
   "execution_count": 7,
   "id": "76a64072",
   "metadata": {},
   "outputs": [],
   "source": [
    "load(\"/Users/mahnoorzulfiqar/OneDriveUNI/MAW-data/newDBs/mbankNIST.rda\")"
   ]
  },
  {
   "cell_type": "code",
   "execution_count": 8,
   "id": "48417394",
   "metadata": {},
   "outputs": [
    {
     "data": {
      "text/plain": [
       "MSn data (Spectra) with 90190 spectra in a MsBackendMsp backend:\n",
       "        msLevel     rtime scanIndex\n",
       "      <integer> <numeric> <integer>\n",
       "1             2        NA        NA\n",
       "2             2        NA        NA\n",
       "3             2        NA        NA\n",
       "4             2        NA        NA\n",
       "5             2        NA        NA\n",
       "...         ...       ...       ...\n",
       "90186         2        NA        NA\n",
       "90187         2        NA        NA\n",
       "90188         2        NA        NA\n",
       "90189         2        NA        NA\n",
       "90190         2        NA        NA\n",
       " ... 35 more variables/columns."
      ]
     },
     "metadata": {},
     "output_type": "display_data"
    }
   ],
   "source": [
    "mbank"
   ]
  },
  {
   "cell_type": "code",
   "execution_count": null,
   "id": "6e60ea6d",
   "metadata": {},
   "outputs": [],
   "source": []
  }
 ],
 "metadata": {
  "kernelspec": {
   "display_name": "R",
   "language": "R",
   "name": "ir"
  },
  "language_info": {
   "codemirror_mode": "r",
   "file_extension": ".r",
   "mimetype": "text/x-r-source",
   "name": "R",
   "pygments_lexer": "r",
   "version": "4.2.0"
  }
 },
 "nbformat": 4,
 "nbformat_minor": 5
}
