{
 "cells": [
  {
   "cell_type": "code",
   "execution_count": null,
   "id": "1d3f661f",
   "metadata": {},
   "outputs": [],
   "source": [
    "library(curl)\n",
    "library(CompoundDb)\n",
    "library(Spectra)\n",
    "library(xml2)\n",
    "library(dplyr)\n",
    "library(rvest)"
   ]
  },
  {
   "cell_type": "code",
   "execution_count": null,
   "id": "42b426dc",
   "metadata": {},
   "outputs": [],
   "source": [
    "input_dir <- \"/Users/mahnoorzulfiqar/OneDriveUNI/MAW-data/newDBs\""
   ]
  },
  {
   "cell_type": "code",
   "execution_count": null,
   "id": "ab8cb5a5",
   "metadata": {},
   "outputs": [],
   "source": [
    "if (!(file.exists(paste(input_dir, \"/summaryFile.txt\", sep = \"\"))){\n",
    "    summaryFile <- paste(input_dir, \"/summaryFile.txt\", sep = \"\")\n",
    "    file.create(summaryFile, recursive = TRUE)\n",
    "}else{\n",
    "    summaryFile <- paste(input_dir, \"/summaryFile.txt\", sep = \"\")\n",
    "}\n",
    "file.conn <- file(summaryFile)\n",
    "open(file.conn, open = \"at\")"
   ]
  },
  {
   "cell_type": "code",
   "execution_count": null,
   "id": "35d03b98",
   "metadata": {},
   "outputs": [],
   "source": [
    "# extract HMDB Current version\\n\",\n",
    "html <- read_html(\"https://hmdb.ca/downloads\")\n",
    "strings <- html%>% html_elements(\"a\") %>% html_text2()\n",
    "ls <- unique(strings)\n",
    "hmdb_curr_ver <- c()\n",
    "for (i in ls){\n",
    "    if (grepl(\"Current\", i)){\n",
    "    hmdb_curr_ver<- c(i, hmdb_curr_ver)\n",
    "    }\n",
    "}"
   ]
  },
  {
   "cell_type": "code",
   "execution_count": null,
   "id": "052f8c6b",
   "metadata": {},
   "outputs": [],
   "source": [
    "dbname <- \"CompDb.Hsapiens.HMDB.5.0.sqlite\"\n",
    "db_file <- file.path(tempdir(), dbname)\n",
    "curl_download(\n",
    "    paste0(\"https://github.com/jorainer/MetaboAnnotationTutorials/\",\n",
    "   \"releases/download/2021-11-02/\", dbname),\n",
    "    destfile = db_file)\n",
    "#' Load a CompDb database with compound annotation from HMDB\n",
    "cdb <- CompDb(db_file)\n",
    "hmdb <- Spectra(cdb)"
   ]
  },
  {
   "cell_type": "code",
   "execution_count": null,
   "id": "84786f89",
   "metadata": {},
   "outputs": [],
   "source": [
    "hmdb$collisionEnergy <- as.numeric(hmdb$collisionEnergy)\n",
    "hmdb <- setBackend(hmdb, backend = MsBackendDataFrame())"
   ]
  },
  {
   "cell_type": "code",
   "execution_count": null,
   "id": "a5a9cbdc",
   "metadata": {},
   "outputs": [],
   "source": [
    "save(hmdb, file = paste(input_dir,\"/hmdb.rda\", sep = \"\"))"
   ]
  },
  {
   "cell_type": "code",
   "execution_count": null,
   "id": "52047e5a",
   "metadata": {},
   "outputs": [],
   "source": [
    "writeLines(paste(\"HMDB saved at\", Sys.time(), \"with release version\", hmdb_curr_ver, sep=\" \"),con=file.conn)"
   ]
  }
 ],
 "metadata": {
  "kernelspec": {
   "display_name": "R",
   "language": "R",
   "name": "ir"
  },
  "language_info": {
   "codemirror_mode": "r",
   "file_extension": ".r",
   "mimetype": "text/x-r-source",
   "name": "R",
   "pygments_lexer": "r",
   "version": "4.2.0"
  }
 },
 "nbformat": 4,
 "nbformat_minor": 5
}
