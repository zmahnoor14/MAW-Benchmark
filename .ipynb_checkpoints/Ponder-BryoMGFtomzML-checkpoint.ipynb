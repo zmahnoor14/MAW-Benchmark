{
 "cells": [
  {
   "cell_type": "code",
   "execution_count": 9,
   "id": "cfa44d2c",
   "metadata": {
    "scrolled": true
   },
   "outputs": [],
   "source": [
    "# load the functions file\n",
    "source(\"/Users/mahnoorzulfiqar/OneDriveUNI/MAW/R/Workflow_R_Functions.r\")"
   ]
  },
  {
   "cell_type": "code",
   "execution_count": 6,
   "id": "f08d4d85",
   "metadata": {},
   "outputs": [
    {
     "name": "stderr",
     "output_type": "stream",
     "text": [
      "Start data import from 1 files ... \n",
      "done\n",
      "\n"
     ]
    }
   ],
   "source": [
    "#' Import the data\n",
    "sps_all <- Spectra(\"/Users/mahnoorzulfiqar/OneDriveUNI/MAW-data/mtbls709re/pos_ms2_spectra.mgf\", source = MsBackendMgf())"
   ]
  },
  {
   "cell_type": "code",
   "execution_count": 7,
   "id": "bb68590d",
   "metadata": {},
   "outputs": [
    {
     "name": "stderr",
     "output_type": "stream",
     "text": [
      "R_zmq_msg_send errno: 4 strerror: Interrupted system call\n",
      "R_zmq_msg_send errno: 4 strerror: Interrupted system call\n",
      "\n",
      "\n"
     ]
    }
   ],
   "source": [
    "export(sps_all, backend = MsBackendMzR(), file = \"/Users/mahnoorzulfiqar/OneDriveUNI/MAW-data/mtbls709re/pos_ms2_spectra.mzML\")"
   ]
  },
  {
   "cell_type": "code",
   "execution_count": 8,
   "id": "263582b6",
   "metadata": {},
   "outputs": [
    {
     "data": {
      "text/plain": [
       "MSn data (Spectra) with 933 spectra in a MsBackendMzR backend:\n",
       "      msLevel     rtime scanIndex\n",
       "    <integer> <numeric> <integer>\n",
       "1           2  737.5481         1\n",
       "2           2  724.0025         2\n",
       "3           2   30.5731         3\n",
       "4           2   49.7054         4\n",
       "5           2  723.9392         5\n",
       "...       ...       ...       ...\n",
       "929         2  1004.310       929\n",
       "930         2   940.602       930\n",
       "931         2   959.586       931\n",
       "932         2   612.805       932\n",
       "933         2   598.851       933\n",
       " ... 33 more variables/columns.\n",
       "\n",
       "file(s):\n",
       "pos_ms2_spectra.mzML"
      ]
     },
     "metadata": {},
     "output_type": "display_data"
    }
   ],
   "source": [
    "Spectra(\"/Users/mahnoorzulfiqar/OneDriveUNI/MAW-data/mtbls709re/pos_ms2_spectra.mzML\", source = MsBackendMzR())"
   ]
  }
 ],
 "metadata": {
  "kernelspec": {
   "display_name": "R",
   "language": "R",
   "name": "ir"
  },
  "language_info": {
   "codemirror_mode": "r",
   "file_extension": ".r",
   "mimetype": "text/x-r-source",
   "name": "R",
   "pygments_lexer": "r",
   "version": "4.2.0"
  }
 },
 "nbformat": 4,
 "nbformat_minor": 5
}
