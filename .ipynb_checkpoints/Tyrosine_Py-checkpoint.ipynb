{
 "cells": [
  {
   "cell_type": "code",
   "execution_count": 1,
   "id": "17c5cc5d",
   "metadata": {},
   "outputs": [
    {
     "name": "stderr",
     "output_type": "stream",
     "text": [
      "INFO:rdkit:Enabling RDKit 2021.09.4 jupyter extensions\n"
     ]
    }
   ],
   "source": [
    "# import the function file\n",
    "from Workflow_Python_Functions import *"
   ]
  },
  {
   "cell_type": "code",
   "execution_count": 2,
   "id": "05778535",
   "metadata": {},
   "outputs": [
    {
     "data": {
      "text/plain": [
       "'/Users/mahnoorzulfiqar/OneDriveUNI/MAW-Docker/Python'"
      ]
     },
     "execution_count": 2,
     "metadata": {},
     "output_type": "execute_result"
    }
   ],
   "source": [
    "#Define input directory, keep all files in same directory and scripts so getwd works\n",
    "#input_dir = os.getwd()+\"/data\"\n",
    "input_dir = \"/Users/mahnoorzulfiqar/OneDriveUNI/MAW-Docker/Python\"\n",
    "input_dir"
   ]
  },
  {
   "cell_type": "code",
   "execution_count": 3,
   "id": "54f16dc6",
   "metadata": {},
   "outputs": [
    {
     "name": "stdout",
     "output_type": "stream",
     "text": [
      "/Users/mahnoorzulfiqar/OneDriveUNI/MAW-Docker/Python/Example_Tyrosine/spectral_dereplication/MassBank/mbank_results_for_file_1M182RNAID1.csv\n"
     ]
    }
   ],
   "source": [
    "spec_postproc(input_dir, Source = \"all\")"
   ]
  },
  {
   "cell_type": "code",
   "execution_count": 5,
   "id": "7e8c89d2",
   "metadata": {},
   "outputs": [],
   "source": [
    "MCSS_for_SpecDB(input_dir, Source = \"all\")"
   ]
  },
  {
   "cell_type": "code",
   "execution_count": 6,
   "id": "7da68ff4",
   "metadata": {},
   "outputs": [],
   "source": [
    "sirius_postproc(input_dir)"
   ]
  },
  {
   "cell_type": "code",
   "execution_count": 7,
   "id": "c1235cf7",
   "metadata": {},
   "outputs": [],
   "source": [
    "MCSS_for_SIRIUS(input_dir)"
   ]
  },
  {
   "cell_type": "code",
   "execution_count": 8,
   "id": "fc660977",
   "metadata": {},
   "outputs": [
    {
     "name": "stdout",
     "output_type": "stream",
     "text": [
      "Example_Tyrosine\n",
      "182.081\n"
     ]
    },
    {
     "name": "stderr",
     "output_type": "stream",
     "text": [
      "DEBUG:pubchempy:Request URL: https://pubchem.ncbi.nlm.nih.gov/rest/pug/compound/smiles/JSON\n",
      "DEBUG:pubchempy:Request data: b'smiles=C1C%3DCC%28C%3DC1CC%28C%28%3DO%29O%29N%29O'\n",
      "DEBUG:pubchempy:Created Compound()\n"
     ]
    }
   ],
   "source": [
    "CandidateSelection_SimilarityandIdentity(input_dir, standards = False)"
   ]
  },
  {
   "cell_type": "code",
   "execution_count": 9,
   "id": "ae923d97",
   "metadata": {},
   "outputs": [
    {
     "data": {
      "text/html": [
       "<div>\n",
       "<style scoped>\n",
       "    .dataframe tbody tr th:only-of-type {\n",
       "        vertical-align: middle;\n",
       "    }\n",
       "\n",
       "    .dataframe tbody tr th {\n",
       "        vertical-align: top;\n",
       "    }\n",
       "\n",
       "    .dataframe thead th {\n",
       "        text-align: right;\n",
       "    }\n",
       "</style>\n",
       "<table border=\"1\" class=\"dataframe\">\n",
       "  <thead>\n",
       "    <tr style=\"text-align: right;\">\n",
       "      <th></th>\n",
       "      <th>id_X_x</th>\n",
       "      <th>premz</th>\n",
       "      <th>rtmed</th>\n",
       "      <th>rtmean</th>\n",
       "      <th>int</th>\n",
       "      <th>col_eng</th>\n",
       "      <th>pol</th>\n",
       "      <th>rtmin</th>\n",
       "      <th>rtmax</th>\n",
       "      <th>source_file</th>\n",
       "      <th>...</th>\n",
       "      <th>IUPAC</th>\n",
       "      <th>synonyms</th>\n",
       "      <th>AnnotationSources</th>\n",
       "      <th>AnnotationCount</th>\n",
       "      <th>MSILevel</th>\n",
       "      <th>MCSS</th>\n",
       "      <th>subclass</th>\n",
       "      <th>class</th>\n",
       "      <th>superclass</th>\n",
       "      <th>ClassificationSource</th>\n",
       "    </tr>\n",
       "  </thead>\n",
       "  <tbody>\n",
       "    <tr>\n",
       "      <th>0</th>\n",
       "      <td>file_1M182RNAID1</td>\n",
       "      <td>182.081</td>\n",
       "      <td>NaN</td>\n",
       "      <td>NaN</td>\n",
       "      <td>NaN</td>\n",
       "      <td>NaN</td>\n",
       "      <td>neg</td>\n",
       "      <td>NaN</td>\n",
       "      <td>NaN</td>\n",
       "      <td>./Example_Tyrosine.mzML</td>\n",
       "      <td>...</td>\n",
       "      <td>NaN</td>\n",
       "      <td>NaN</td>\n",
       "      <td>SIRIUS</td>\n",
       "      <td>1.0</td>\n",
       "      <td>3.0</td>\n",
       "      <td>NaN</td>\n",
       "      <td>Amino acids, peptides, and analogues</td>\n",
       "      <td>Carboxylic acids and derivatives</td>\n",
       "      <td>Organic acids and derivatives</td>\n",
       "      <td>CANOPUS</td>\n",
       "    </tr>\n",
       "  </tbody>\n",
       "</table>\n",
       "<p>1 rows × 23 columns</p>\n",
       "</div>"
      ],
      "text/plain": [
       "             id_X_x    premz  rtmed  rtmean  int  col_eng  pol  rtmin  rtmax  \\\n",
       "0  file_1M182RNAID1  182.081    NaN     NaN  NaN      NaN  neg    NaN    NaN   \n",
       "\n",
       "               source_file  ... IUPAC  synonyms AnnotationSources  \\\n",
       "0  ./Example_Tyrosine.mzML  ...   NaN       NaN            SIRIUS   \n",
       "\n",
       "   AnnotationCount  MSILevel MCSS                              subclass  \\\n",
       "0              1.0       3.0  NaN  Amino acids, peptides, and analogues   \n",
       "\n",
       "                              class                     superclass  \\\n",
       "0  Carboxylic acids and derivatives  Organic acids and derivatives   \n",
       "\n",
       "  ClassificationSource  \n",
       "0              CANOPUS  \n",
       "\n",
       "[1 rows x 23 columns]"
      ]
     },
     "execution_count": 9,
     "metadata": {},
     "output_type": "execute_result"
    }
   ],
   "source": [
    "merge_all_results(input_dir)"
   ]
  },
  {
   "cell_type": "code",
   "execution_count": 10,
   "id": "f90ebe42",
   "metadata": {},
   "outputs": [],
   "source": [
    "classification(input_dir, resultcsv = input_dir + \"/final_candidates.csv\")"
   ]
  },
  {
   "cell_type": "code",
   "execution_count": null,
   "id": "25a771c2",
   "metadata": {},
   "outputs": [],
   "source": []
  }
 ],
 "metadata": {
  "kernelspec": {
   "display_name": "Python (mawRpy)",
   "language": "python",
   "name": "mawrpy"
  },
  "language_info": {
   "codemirror_mode": {
    "name": "ipython",
    "version": 3
   },
   "file_extension": ".py",
   "mimetype": "text/x-python",
   "name": "python",
   "nbconvert_exporter": "python",
   "pygments_lexer": "ipython3",
   "version": "3.10.2"
  }
 },
 "nbformat": 4,
 "nbformat_minor": 5
}
