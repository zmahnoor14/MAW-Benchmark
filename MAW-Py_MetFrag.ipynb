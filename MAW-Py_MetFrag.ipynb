{
 "cells": [
  {
   "cell_type": "code",
   "execution_count": 1,
   "id": "17497fc6",
   "metadata": {},
   "outputs": [
    {
     "name": "stderr",
     "output_type": "stream",
     "text": [
      "INFO:rdkit:Enabling RDKit 2021.09.4 jupyter extensions\n"
     ]
    }
   ],
   "source": [
    "from Workflow_Python_Functions import *"
   ]
  },
  {
   "cell_type": "code",
   "execution_count": 7,
   "id": "095284ad",
   "metadata": {},
   "outputs": [
    {
     "data": {
      "text/plain": [
       "'/Users/mahnoorzulfiqar/OneDriveUNI/MAW-data/Ponder_Run1_Standards'"
      ]
     },
     "execution_count": 7,
     "metadata": {},
     "output_type": "execute_result"
    }
   ],
   "source": [
    "input_dir = \"/Users/mahnoorzulfiqar/OneDriveUNI/MAW-data/Ponder_Run1_Standards\"\n",
    "input_dir"
   ]
  },
  {
   "cell_type": "code",
   "execution_count": 13,
   "id": "cf5386e7",
   "metadata": {},
   "outputs": [],
   "source": [
    "x = 0"
   ]
  },
  {
   "cell_type": "code",
   "execution_count": 16,
   "id": "9ed43730",
   "metadata": {},
   "outputs": [
    {
     "name": "stdout",
     "output_type": "stream",
     "text": [
      "['/Users/mahnoorzulfiqar/OneDriveUNI/MAW-data/Ponder_Run1_Standards/VN_211016_cyst_acid_PRM_neg/insilico/MetFrag/1_id_file_4M154R155ID1_mz_154.017730712891_rt_154.80246_db_PubChem.csv']\n",
      "['/Users/mahnoorzulfiqar/OneDriveUNI/MAW-data/Ponder_Run1_Standards/VN_211016_Sc_QC_PRM_neg/insilico/MetFrag/1_id_file_10M154R155ID1_mz_154.017868041992_rt_155.278881_db_PubChem.csv']\n",
      "['/Users/mahnoorzulfiqar/OneDriveUNI/MAW-data/Ponder_Run1_Standards/VN_211016_acetyl_carnitine/insilico/MetFrag/1_id_file_1M204R149ID1_mz_204.122756958008_rt_148.997391_db_KEGG.csv', '/Users/mahnoorzulfiqar/OneDriveUNI/MAW-data/Ponder_Run1_Standards/VN_211016_acetyl_carnitine/insilico/MetFrag/1_id_file_1M204R149ID1_mz_204.122756958008_rt_148.997391_db_PubChem.csv']\n",
      "['/Users/mahnoorzulfiqar/OneDriveUNI/MAW-data/Ponder_Run1_Standards/VN_211016_butanoyl_carnitine/insilico/MetFrag/1_id_file_3M232R103ID1_mz_232.154251098633_rt_102.833664_db_PubChem.csv']\n",
      "['/Users/mahnoorzulfiqar/OneDriveUNI/MAW-data/Ponder_Run1_Standards/VN_211016_methionine_sulfoxide/insilico/MetFrag/1_id_file_7M166R204ID1_mz_166.053146362305_rt_203.689746_db_PubChem.csv']\n",
      "['/Users/mahnoorzulfiqar/OneDriveUNI/MAW-data/Ponder_Run1_Standards/VN_211016_pipecolate/insilico/MetFrag/1_id_file_8M130R129ID1_mz_130.08610534668_rt_129.480048_db_PubChem.csv']\n",
      "['/Users/mahnoorzulfiqar/OneDriveUNI/MAW-data/Ponder_Run1_Standards/VN_211016_Sc_st_PRM_pos/insilico/MetFrag/5_id_file_13M118R138ID5_mz_118.085983276367_rt_138.043542_db_PubChem.csv', '/Users/mahnoorzulfiqar/OneDriveUNI/MAW-data/Ponder_Run1_Standards/VN_211016_Sc_st_PRM_pos/insilico/MetFrag/11_id_file_13M166R205ID11_mz_166.053146362305_rt_204.671802_db_PubChem.csv', '/Users/mahnoorzulfiqar/OneDriveUNI/MAW-data/Ponder_Run1_Standards/VN_211016_Sc_st_PRM_pos/insilico/MetFrag/10_id_file_13M204R158ID10_mz_204.122756958008_rt_157.995498_db_PubChem.csv', '/Users/mahnoorzulfiqar/OneDriveUNI/MAW-data/Ponder_Run1_Standards/VN_211016_Sc_st_PRM_pos/insilico/MetFrag/2_id_file_13M156R83ID2_mz_156.113021850586_rt_83.098311_db_PubChem.csv', '/Users/mahnoorzulfiqar/OneDriveUNI/MAW-data/Ponder_Run1_Standards/VN_211016_Sc_st_PRM_pos/insilico/MetFrag/4_id_file_13M232R97ID4_mz_232.154083251953_rt_96.836463_db_PubChem.csv', '/Users/mahnoorzulfiqar/OneDriveUNI/MAW-data/Ponder_Run1_Standards/VN_211016_Sc_st_PRM_pos/insilico/MetFrag/7_id_file_13M130R131ID7_mz_130.086196899414_rt_131.482524_db_PubChem.csv', '/Users/mahnoorzulfiqar/OneDriveUNI/MAW-data/Ponder_Run1_Standards/VN_211016_Sc_st_PRM_pos/insilico/MetFrag/12_id_file_13M203R347ID12_mz_203.150207519531_rt_346.733922_db_PubChem.csv', '/Users/mahnoorzulfiqar/OneDriveUNI/MAW-data/Ponder_Run1_Standards/VN_211016_Sc_st_PRM_pos/insilico/MetFrag/9_id_file_13M156R153ID9_mz_156.041854858398_rt_152.521422_db_PubChem.csv', '/Users/mahnoorzulfiqar/OneDriveUNI/MAW-data/Ponder_Run1_Standards/VN_211016_Sc_st_PRM_pos/insilico/MetFrag/8_id_file_13M118R147ID8_mz_118.086067199707_rt_146.992584_db_PubChem.csv', '/Users/mahnoorzulfiqar/OneDriveUNI/MAW-data/Ponder_Run1_Standards/VN_211016_Sc_st_PRM_pos/insilico/MetFrag/3_id_file_13M246R88ID3_mz_246.169784545898_rt_87.76272_db_PubChem.csv', '/Users/mahnoorzulfiqar/OneDriveUNI/MAW-data/Ponder_Run1_Standards/VN_211016_Sc_st_PRM_pos/insilico/MetFrag/6_id_file_13M218R118ID6_mz_218.138366699219_rt_118.13055_db_PubChem.csv']\n",
      "['/Users/mahnoorzulfiqar/OneDriveUNI/MAW-data/Ponder_Run1_Standards/VN_211019_NNdimetharg/insilico/MetFrag/1_id_file_14M203R349ID1_mz_203.150207519531_rt_348.672138_db_PubChem.csv']\n",
      "['/Users/mahnoorzulfiqar/OneDriveUNI/MAW-data/Ponder_Run1_Standards/VN_211016_betaine/insilico/MetFrag/1_id_file_2M118R146ID1_mz_118.085983276367_rt_145.72656_db_PubChem.csv']\n",
      "['/Users/mahnoorzulfiqar/OneDriveUNI/MAW-data/Ponder_Run1_Standards/VN_211016_cyst_acid_PRM_pos/insilico/MetFrag/2_id_file_5M156R147ID2_mz_156.041854858398_rt_147.22428_db_PubChem.csv', '/Users/mahnoorzulfiqar/OneDriveUNI/MAW-data/Ponder_Run1_Standards/VN_211016_cyst_acid_PRM_pos/insilico/MetFrag/1_id_file_5M156R91ID1_mz_156.112976074219_rt_91.215828_db_PubChem.csv']\n",
      "['/Users/mahnoorzulfiqar/OneDriveUNI/MAW-data/Ponder_Run1_Standards/VN_211016_Sc_QC_PRM_pos/insilico/MetFrag/10_id_file_11M204R159ID10_mz_204.122756958008_rt_159.142224_db_PubChem.csv', '/Users/mahnoorzulfiqar/OneDriveUNI/MAW-data/Ponder_Run1_Standards/VN_211016_Sc_QC_PRM_pos/insilico/MetFrag/8_id_file_11M118R147ID8_mz_118.086067199707_rt_146.597382_db_PubChem.csv', '/Users/mahnoorzulfiqar/OneDriveUNI/MAW-data/Ponder_Run1_Standards/VN_211016_Sc_QC_PRM_pos/insilico/MetFrag/11_id_file_11M166R205ID11_mz_166.053146362305_rt_205.008522_db_PubChem.csv', '/Users/mahnoorzulfiqar/OneDriveUNI/MAW-data/Ponder_Run1_Standards/VN_211016_Sc_QC_PRM_pos/insilico/MetFrag/7_id_file_11M130R132ID7_mz_130.086196899414_rt_131.659359_db_PubChem.csv', '/Users/mahnoorzulfiqar/OneDriveUNI/MAW-data/Ponder_Run1_Standards/VN_211016_Sc_QC_PRM_pos/insilico/MetFrag/4_id_file_11M232R97ID4_mz_232.154083251953_rt_96.932817_db_PubChem.csv', '/Users/mahnoorzulfiqar/OneDriveUNI/MAW-data/Ponder_Run1_Standards/VN_211016_Sc_QC_PRM_pos/insilico/MetFrag/3_id_file_11M246R87ID3_mz_246.169784545898_rt_87.315768_db_PubChem.csv', '/Users/mahnoorzulfiqar/OneDriveUNI/MAW-data/Ponder_Run1_Standards/VN_211016_Sc_QC_PRM_pos/insilico/MetFrag/12_id_file_11M203R347ID12_mz_203.150207519531_rt_347.175342_db_PubChem.csv', '/Users/mahnoorzulfiqar/OneDriveUNI/MAW-data/Ponder_Run1_Standards/VN_211016_Sc_QC_PRM_pos/insilico/MetFrag/2_id_file_11M156R83ID2_mz_156.113021850586_rt_82.723242_db_PubChem.csv', '/Users/mahnoorzulfiqar/OneDriveUNI/MAW-data/Ponder_Run1_Standards/VN_211016_Sc_QC_PRM_pos/insilico/MetFrag/6_id_file_11M218R117ID6_mz_218.138366699219_rt_117.003546_db_PubChem.csv', '/Users/mahnoorzulfiqar/OneDriveUNI/MAW-data/Ponder_Run1_Standards/VN_211016_Sc_QC_PRM_pos/insilico/MetFrag/5_id_file_11M118R138ID5_mz_118.085983276367_rt_138.490752_db_PubChem.csv', '/Users/mahnoorzulfiqar/OneDriveUNI/MAW-data/Ponder_Run1_Standards/VN_211016_Sc_QC_PRM_pos/insilico/MetFrag/9_id_file_11M156R152ID9_mz_156.041854858398_rt_151.800774_db_PubChem.csv']\n",
      "['/Users/mahnoorzulfiqar/OneDriveUNI/MAW-data/Ponder_Run1_Standards/VN_211016_isovalerylcarnitine/insilico/MetFrag/1_id_file_6M246R94ID1_mz_246.169784545898_rt_94.110984_db_PubChem.csv']\n",
      "['/Users/mahnoorzulfiqar/OneDriveUNI/MAW-data/Ponder_Run1_Standards/VN_211016_propanoyl_carnitine/insilico/MetFrag/1_id_file_9M218R123ID1_mz_218.138427734375_rt_123.342771_db_PubChem.csv']\n",
      "['/Users/mahnoorzulfiqar/OneDriveUNI/MAW-data/Ponder_Run1_Standards/VN_211016_Sc_st_PRM_neg/insilico/MetFrag/1_id_file_12M154R155ID1_mz_154.017868041992_rt_155.382261_db_PubChem.csv']\n"
     ]
    }
   ],
   "source": [
    "for entry in os.listdir(input_dir):\n",
    "\n",
    "        if os.path.isdir(os.path.join(input_dir, entry)):\n",
    "            # print(entry)\n",
    "\n",
    "            msp_file = glob.glob(\n",
    "                input_dir + \"/\" + entry + \"/insilico/MetFrag\" + \"/*.csv\"\n",
    "            )\n",
    "            print(msp_file)\n",
    "\n",
    "            if len(msp_file) > 0:\n",
    "                l = 0\n",
    "                for x in msp_file:\n",
    "                    if os.path.exists(x):\n",
    "                        l = l +1\n",
    "\n",
    "                        msp = pd.read_csv(x)\n",
    "                        msp = msp[0:101]\n",
    "                        msp.to_csv(input_dir + \"/\" + entry + \"/insilico/MetFrag\" + str(l)+\".csv\")"
   ]
  },
  {
   "cell_type": "code",
   "execution_count": null,
   "id": "7ed9ec25",
   "metadata": {},
   "outputs": [],
   "source": []
  }
 ],
 "metadata": {
  "kernelspec": {
   "display_name": "Python (mawRpy)",
   "language": "python",
   "name": "mawrpy"
  },
  "language_info": {
   "codemirror_mode": {
    "name": "ipython",
    "version": 3
   },
   "file_extension": ".py",
   "mimetype": "text/x-python",
   "name": "python",
   "nbconvert_exporter": "python",
   "pygments_lexer": "ipython3",
   "version": "3.10.2"
  }
 },
 "nbformat": 4,
 "nbformat_minor": 5
}
