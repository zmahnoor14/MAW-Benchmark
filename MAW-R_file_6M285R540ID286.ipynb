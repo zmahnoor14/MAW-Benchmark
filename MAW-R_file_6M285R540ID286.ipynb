{
 "cells": [
  {
   "cell_type": "code",
   "execution_count": 140,
   "id": "2593d5df",
   "metadata": {},
   "outputs": [],
   "source": [
    "library(MsBackendHmdb)\n",
    "library(Spectra)"
   ]
  },
  {
   "cell_type": "code",
   "execution_count": 9,
   "id": "bc1fcbfa",
   "metadata": {
    "collapsed": true
   },
   "outputs": [
    {
     "name": "stderr",
     "output_type": "stream",
     "text": [
      "\n",
      "Attache Paket: ‘MsCoreUtils’\n",
      "\n",
      "\n",
      "Die folgenden Objekte sind maskiert von ‘package:Spectra’:\n",
      "\n",
      "    bin, smooth\n",
      "\n",
      "\n",
      "Die folgenden Objekte sind maskiert von ‘package:ProtGenerics’:\n",
      "\n",
      "    bin, smooth\n",
      "\n",
      "\n",
      "Das folgende Objekt ist maskiert ‘package:stats’:\n",
      "\n",
      "    smooth\n",
      "\n",
      "\n",
      "\n",
      "Attache Paket: ‘dplyr’\n",
      "\n",
      "\n",
      "Das folgende Objekt ist maskiert ‘package:MsCoreUtils’:\n",
      "\n",
      "    between\n",
      "\n",
      "\n",
      "Die folgenden Objekte sind maskiert von ‘package:S4Vectors’:\n",
      "\n",
      "    first, intersect, rename, setdiff, setequal, union\n",
      "\n",
      "\n",
      "Die folgenden Objekte sind maskiert von ‘package:BiocGenerics’:\n",
      "\n",
      "    combine, intersect, setdiff, union\n",
      "\n",
      "\n",
      "Die folgenden Objekte sind maskiert von ‘package:stats’:\n",
      "\n",
      "    filter, lag\n",
      "\n",
      "\n",
      "Die folgenden Objekte sind maskiert von ‘package:base’:\n",
      "\n",
      "    intersect, setdiff, setequal, union\n",
      "\n",
      "\n",
      "\n",
      "Attache Paket: ‘rvest’\n",
      "\n",
      "\n",
      "Das folgende Objekt ist maskiert ‘package:readr’:\n",
      "\n",
      "    guess_encoding\n",
      "\n",
      "\n",
      "Lade nötiges Paket: Rcpp\n",
      "\n"
     ]
    }
   ],
   "source": [
    "# load the functions file\n",
    "source(\"/Users/mahnoorzulfiqar/OneDriveUNI/MAW/Workflow_R_Functions.r\")"
   ]
  },
  {
   "cell_type": "code",
   "execution_count": 3,
   "id": "42b63e18",
   "metadata": {},
   "outputs": [],
   "source": [
    "load(\"/Users/mahnoorzulfiqar/OneDriveUNI/Standards/hmdb.rda\")"
   ]
  },
  {
   "cell_type": "code",
   "execution_count": 141,
   "id": "877c751e",
   "metadata": {},
   "outputs": [],
   "source": [
    "# read the spectra\n",
    "sps_all <- Spectra(\"/Users/mahnoorzulfiqar/OneDriveUNI/MAW-data/MTBLS709_Data_32/pos_05_summer_Polstr_5_1-A-5_01_17174.mzML\",\n",
    "                       backend = MsBackendMzR())\n",
    "sps_all <- filterEmptySpectra(sps_all)\n",
    "#' Extract Precursor m/z(s) in each file\n",
    "pre_mz <- unique(precursorMz(sps_all))\n",
    "#' Remove any NAs\n",
    "pre_mz <- na.omit(pre_mz)"
   ]
  },
  {
   "cell_type": "code",
   "execution_count": 142,
   "id": "63b24633",
   "metadata": {},
   "outputs": [],
   "source": [
    "pre_mz_interest = 285.07858276"
   ]
  },
  {
   "cell_type": "code",
   "execution_count": 143,
   "id": "99ca2f2f",
   "metadata": {},
   "outputs": [
    {
     "data": {
      "text/plain": [
       "MSn data (Spectra) with 7 spectra in a MsBackendMzR backend:\n",
       "    msLevel     rtime scanIndex\n",
       "  <integer> <numeric> <integer>\n",
       "1         2   537.897      1577\n",
       "2         2   538.576      1579\n",
       "3         2   539.255      1581\n",
       "4         2   539.933      1583\n",
       "5         2   540.612      1585\n",
       "6         2   541.290      1587\n",
       "7         2   541.969      1589\n",
       " ... 33 more variables/columns.\n",
       "\n",
       "file(s):\n",
       "pos_05_summer_Polstr_5_1-A-5_01_17174.mzML\n",
       "Lazy evaluation queue: 2 processing step(s)\n",
       "Processing:\n",
       " Filter: removed empty spectra. [Tue Aug 23 15:20:33 2022]\n",
       " Filter: select spectra with precursor m/z matching 285.081433545828, 285.081433545828 [Tue Aug 23 15:20:33 2022]\n",
       " Remove peaks based on their intensities and a user-provided function in spectra of MS level(s) 2. [Tue Aug 23 15:20:33 2022] "
      ]
     },
     "metadata": {},
     "output_type": "display_data"
    }
   ],
   "source": [
    "sps <- spec2_Processing(285.07858276, sps_all, spec = \"spec_all\", ppmx=15)\n",
    "sps"
   ]
  },
  {
   "cell_type": "code",
   "execution_count": 144,
   "id": "61a8224d",
   "metadata": {},
   "outputs": [
    {
     "data": {
      "text/plain": [
       "MSn data (Spectra) with 1372 spectra in a MsBackendHmdbXml backend:\n",
       "       msLevel     rtime scanIndex\n",
       "     <integer> <numeric> <integer>\n",
       "1            2        NA        NA\n",
       "2            2        NA        NA\n",
       "3            2        NA        NA\n",
       "4            2        NA        NA\n",
       "5            2        NA        NA\n",
       "...        ...       ...       ...\n",
       "1368         2        NA        NA\n",
       "1369         2        NA        NA\n",
       "1370         2        NA        NA\n",
       "1371         2        NA        NA\n",
       "1372         2        NA        NA\n",
       " ... 21 more variables/columns.\n",
       "Lazy evaluation queue: 2 processing step(s)\n",
       "Processing:\n",
       " Remove peaks based on their intensities and a user-provided function in spectra of MS level(s) 2. [Tue Aug 23 15:20:44 2022] "
      ]
     },
     "metadata": {},
     "output_type": "display_data"
    }
   ],
   "source": [
    "hmdb_with_mz <- spec2_Processing(285.07858276, hmdb, spec = \"hmdb\", ppmx=15)\n",
    "hmdb_with_mz"
   ]
  },
  {
   "cell_type": "code",
   "execution_count": 82,
   "id": "593611cd",
   "metadata": {},
   "outputs": [],
   "source": []
  },
  {
   "cell_type": "code",
   "execution_count": null,
   "id": "f44b3f55",
   "metadata": {},
   "outputs": [],
   "source": []
  },
  {
   "cell_type": "code",
   "execution_count": null,
   "id": "20ca7500",
   "metadata": {},
   "outputs": [],
   "source": []
  },
  {
   "cell_type": "code",
   "execution_count": null,
   "id": "9633e2cf",
   "metadata": {},
   "outputs": [],
   "source": []
  },
  {
   "cell_type": "code",
   "execution_count": null,
   "id": "f5da5889",
   "metadata": {},
   "outputs": [],
   "source": []
  },
  {
   "cell_type": "code",
   "execution_count": null,
   "id": "553b8947",
   "metadata": {},
   "outputs": [],
   "source": []
  },
  {
   "cell_type": "code",
   "execution_count": null,
   "id": "79791f05",
   "metadata": {},
   "outputs": [],
   "source": []
  },
  {
   "cell_type": "code",
   "execution_count": null,
   "id": "4aecda6e",
   "metadata": {},
   "outputs": [],
   "source": []
  },
  {
   "cell_type": "code",
   "execution_count": 145,
   "id": "1b2883a6",
   "metadata": {},
   "outputs": [],
   "source": [
    "res <- compareSpectra(sps, hmdb_with_mz)\n",
    "res_top <- which(res > res[res>0.75], arr.ind = TRUE)"
   ]
  },
  {
   "cell_type": "code",
   "execution_count": 146,
   "id": "5fd2a38f",
   "metadata": {},
   "outputs": [],
   "source": [
    "res_topdf <- data.frame(res_top)\n",
    "# to store the scores to add to res_topdf\n",
    "hmdb_scores <- c()\n",
    "# for all rows and columns in res_topdf\n",
    "for (i in 1:nrow(res_topdf)){\n",
    "\n",
    "    # store the scores\n",
    "    hmdb_scores <- c(hmdb_scores, res[(res_topdf[i, \"row\"]), (res_topdf[i, \"col\"])])\n",
    "}\n",
    "# add the score column to res_top\n",
    "hmdb_res <- cbind(res_top, hmdb_scores)\n",
    "hmdb_res <- data.frame(hmdb_res)\n",
    "\n",
    "# sort in descending order\n",
    "ordered_hmdb_res <- hmdb_res[order(-hmdb_res[,\"hmdb_scores\"]),]\n",
    "df_ord_hmdb_res <- data.frame(ordered_hmdb_res)\n"
   ]
  },
  {
   "cell_type": "code",
   "execution_count": 147,
   "id": "ff36cb75",
   "metadata": {},
   "outputs": [],
   "source": [
    "idv <- df_ord_hmdb_res[1,]\n",
    "df_peaklists <- peakdf(hmdb_with_mz[idv[[2]]], sps[idv[[1]]], ppmx = 15)"
   ]
  },
  {
   "cell_type": "code",
   "execution_count": 148,
   "id": "8207097d",
   "metadata": {},
   "outputs": [],
   "source": [
    "#' Specifying a function to draw peak labels\n",
    "label_fun <- function(x) {\n",
    "    ints <- unlist(intensity(x))\n",
    "    mzs <- format(unlist(mz(x)), digits = 4)\n",
    "    mzs[ints < 5] <- \"\"\n",
    "    mzs\n",
    "}"
   ]
  },
  {
   "cell_type": "code",
   "execution_count": 149,
   "id": "d038e96c",
   "metadata": {},
   "outputs": [
    {
     "data": {
      "text/html": [
       "<strong>null device:</strong> 1"
      ],
      "text/latex": [
       "\\textbf{null device:} 1"
      ],
      "text/markdown": [
       "**null device:** 1"
      ],
      "text/plain": [
       "null device \n",
       "          1 "
      ]
     },
     "metadata": {},
     "output_type": "display_data"
    },
    {
     "data": {
      "image/png": "[encoded data removed]"
     },
     "metadata": {
      "image/png": {
       "height": 420,
       "width": 420
      }
     },
     "output_type": "display_data"
    }
   ],
   "source": [
    "plotSpectraMirror(sps[idv[[1]]], hmdb_with_mz[idv[[2]]], tolerance = 0.2,\n",
    "                    labels = label_fun, labelPos = 2, labelOffset = 0.2,\n",
    "                    labelSrt = -30)\n",
    "grid()\n",
    "dev.off()"
   ]
  },
  {
   "cell_type": "code",
   "execution_count": 150,
   "id": "7abc2ac7",
   "metadata": {},
   "outputs": [
    {
     "data": {
      "text/html": [
       "<table class=\"dataframe\">\n",
       "<caption>A matrix: 1 × 5 of type dbl</caption>\n",
       "<thead>\n",
       "\t<tr><th scope=col>mz.y</th><th scope=col>intensity.y</th><th scope=col>mz.z</th><th scope=col>intensity.z</th><th scope=col>diff</th></tr>\n",
       "</thead>\n",
       "<tbody>\n",
       "\t<tr><td>285.076</td><td>100</td><td>285.0763</td><td>100</td><td>0</td></tr>\n",
       "</tbody>\n",
       "</table>\n"
      ],
      "text/latex": [
       "A matrix: 1 × 5 of type dbl\n",
       "\\begin{tabular}{lllll}\n",
       " mz.y & intensity.y & mz.z & intensity.z & diff\\\\\n",
       "\\hline\n",
       "\t 285.076 & 100 & 285.0763 & 100 & 0\\\\\n",
       "\\end{tabular}\n"
      ],
      "text/markdown": [
       "\n",
       "A matrix: 1 × 5 of type dbl\n",
       "\n",
       "| mz.y | intensity.y | mz.z | intensity.z | diff |\n",
       "|---|---|---|---|---|\n",
       "| 285.076 | 100 | 285.0763 | 100 | 0 |\n",
       "\n"
      ],
      "text/plain": [
       "     mz.y    intensity.y mz.z     intensity.z diff\n",
       "[1,] 285.076 100         285.0763 100         0   "
      ]
     },
     "metadata": {},
     "output_type": "display_data"
    }
   ],
   "source": [
    "df_peaklists"
   ]
  },
  {
   "cell_type": "code",
   "execution_count": null,
   "id": "711084eb",
   "metadata": {},
   "outputs": [],
   "source": []
  },
  {
   "cell_type": "code",
   "execution_count": null,
   "id": "55f5dd00",
   "metadata": {},
   "outputs": [],
   "source": []
  },
  {
   "cell_type": "code",
   "execution_count": null,
   "id": "bc361a5d",
   "metadata": {},
   "outputs": [],
   "source": []
  },
  {
   "cell_type": "code",
   "execution_count": null,
   "id": "4e02bd45",
   "metadata": {},
   "outputs": [],
   "source": []
  },
  {
   "cell_type": "code",
   "execution_count": null,
   "id": "6fcac46d",
   "metadata": {},
   "outputs": [],
   "source": []
  },
  {
   "cell_type": "code",
   "execution_count": null,
   "id": "db512522",
   "metadata": {},
   "outputs": [],
   "source": []
  },
  {
   "cell_type": "code",
   "execution_count": null,
   "id": "262d3e39",
   "metadata": {},
   "outputs": [],
   "source": []
  },
  {
   "cell_type": "code",
   "execution_count": 109,
   "id": "7ac7fbd8",
   "metadata": {},
   "outputs": [],
   "source": [
    "load(\"/Users/mahnoorzulfiqar/OneDriveUNI/Standards/mbankNIST.rda\")"
   ]
  },
  {
   "cell_type": "code",
   "execution_count": 110,
   "id": "991826a3",
   "metadata": {},
   "outputs": [
    {
     "data": {
      "text/plain": [
       "MSn data (Spectra) with 542 spectra in a MsBackendMsp backend:\n",
       "      msLevel     rtime scanIndex\n",
       "    <integer> <numeric> <integer>\n",
       "1           2         0        NA\n",
       "2           2         0        NA\n",
       "3           2         0        NA\n",
       "4           2         0        NA\n",
       "5           2         0        NA\n",
       "...       ...       ...       ...\n",
       "538         2         0        NA\n",
       "539         2         0        NA\n",
       "540         2         0        NA\n",
       "541         2         0        NA\n",
       "542         2         0        NA\n",
       " ... 21 more variables/columns.\n",
       "Lazy evaluation queue: 2 processing step(s)\n",
       "Processing:\n",
       " Remove peaks based on their intensities and a user-provided function in spectra of MS level(s) 2. [Tue Aug 23 14:34:23 2022] "
      ]
     },
     "metadata": {},
     "output_type": "display_data"
    }
   ],
   "source": [
    "mbank_with_mz <- spec2_Processing(285.07858276, mbank, spec = \"mbank\", ppmx=15)\n",
    "mbank_with_mz"
   ]
  },
  {
   "cell_type": "code",
   "execution_count": 111,
   "id": "4d447412",
   "metadata": {},
   "outputs": [],
   "source": [
    "res <- compareSpectra(sps, mbank_with_mz)\n",
    "res_top <- which(res > res[res>0.75], arr.ind = TRUE)"
   ]
  },
  {
   "cell_type": "code",
   "execution_count": 112,
   "id": "53900ad2",
   "metadata": {},
   "outputs": [],
   "source": [
    "res_topdf <- data.frame(res_top)\n",
    "# to store the scores to add to res_topdf\n",
    "hmdb_scores <- c()\n",
    "# for all rows and columns in res_topdf\n",
    "for (i in 1:nrow(res_topdf)){\n",
    "\n",
    "    # store the scores\n",
    "    hmdb_scores <- c(hmdb_scores, res[(res_topdf[i, \"row\"]), (res_topdf[i, \"col\"])])\n",
    "}\n",
    "# add the score column to res_top\n",
    "hmdb_res <- cbind(res_top, hmdb_scores)\n",
    "hmdb_res <- data.frame(hmdb_res)\n",
    "\n",
    "# sort in descending order\n",
    "ordered_hmdb_res <- hmdb_res[order(-hmdb_res[,\"hmdb_scores\"]),]\n",
    "df_ord_hmdb_res <- data.frame(ordered_hmdb_res)\n"
   ]
  },
  {
   "cell_type": "code",
   "execution_count": 113,
   "id": "af31247e",
   "metadata": {
    "scrolled": true
   },
   "outputs": [
    {
     "data": {
      "text/html": [
       "<table class=\"dataframe\">\n",
       "<caption>A data.frame: 105 × 3</caption>\n",
       "<thead>\n",
       "\t<tr><th></th><th scope=col>row</th><th scope=col>col</th><th scope=col>hmdb_scores</th></tr>\n",
       "\t<tr><th></th><th scope=col>&lt;dbl&gt;</th><th scope=col>&lt;dbl&gt;</th><th scope=col>&lt;dbl&gt;</th></tr>\n",
       "</thead>\n",
       "<tbody>\n",
       "\t<tr><th scope=row>3</th><td>3</td><td> 18</td><td>0.8767286</td></tr>\n",
       "\t<tr><th scope=row>10</th><td>3</td><td> 57</td><td>0.8767286</td></tr>\n",
       "\t<tr><th scope=row>17</th><td>3</td><td>131</td><td>0.8767286</td></tr>\n",
       "\t<tr><th scope=row>24</th><td>3</td><td>162</td><td>0.8767286</td></tr>\n",
       "\t<tr><th scope=row>31</th><td>3</td><td>169</td><td>0.8767286</td></tr>\n",
       "\t<tr><th scope=row>38</th><td>3</td><td>278</td><td>0.8767286</td></tr>\n",
       "\t<tr><th scope=row>45</th><td>3</td><td>302</td><td>0.8767286</td></tr>\n",
       "\t<tr><th scope=row>52</th><td>3</td><td>345</td><td>0.8767286</td></tr>\n",
       "\t<tr><th scope=row>59</th><td>3</td><td>381</td><td>0.8767286</td></tr>\n",
       "\t<tr><th scope=row>66</th><td>3</td><td>399</td><td>0.8767286</td></tr>\n",
       "\t<tr><th scope=row>73</th><td>3</td><td>419</td><td>0.8767286</td></tr>\n",
       "\t<tr><th scope=row>80</th><td>3</td><td>422</td><td>0.8767286</td></tr>\n",
       "\t<tr><th scope=row>87</th><td>3</td><td>457</td><td>0.8767286</td></tr>\n",
       "\t<tr><th scope=row>94</th><td>3</td><td>494</td><td>0.8767286</td></tr>\n",
       "\t<tr><th scope=row>101</th><td>3</td><td>525</td><td>0.8767286</td></tr>\n",
       "\t<tr><th scope=row>7</th><td>7</td><td> 18</td><td>0.8758547</td></tr>\n",
       "\t<tr><th scope=row>14</th><td>7</td><td> 57</td><td>0.8758547</td></tr>\n",
       "\t<tr><th scope=row>21</th><td>7</td><td>131</td><td>0.8758547</td></tr>\n",
       "\t<tr><th scope=row>28</th><td>7</td><td>162</td><td>0.8758547</td></tr>\n",
       "\t<tr><th scope=row>35</th><td>7</td><td>169</td><td>0.8758547</td></tr>\n",
       "\t<tr><th scope=row>42</th><td>7</td><td>278</td><td>0.8758547</td></tr>\n",
       "\t<tr><th scope=row>49</th><td>7</td><td>302</td><td>0.8758547</td></tr>\n",
       "\t<tr><th scope=row>56</th><td>7</td><td>345</td><td>0.8758547</td></tr>\n",
       "\t<tr><th scope=row>63</th><td>7</td><td>381</td><td>0.8758547</td></tr>\n",
       "\t<tr><th scope=row>70</th><td>7</td><td>399</td><td>0.8758547</td></tr>\n",
       "\t<tr><th scope=row>77</th><td>7</td><td>419</td><td>0.8758547</td></tr>\n",
       "\t<tr><th scope=row>84</th><td>7</td><td>422</td><td>0.8758547</td></tr>\n",
       "\t<tr><th scope=row>91</th><td>7</td><td>457</td><td>0.8758547</td></tr>\n",
       "\t<tr><th scope=row>98</th><td>7</td><td>494</td><td>0.8758547</td></tr>\n",
       "\t<tr><th scope=row>105</th><td>7</td><td>525</td><td>0.8758547</td></tr>\n",
       "\t<tr><th scope=row>⋮</th><td>⋮</td><td>⋮</td><td>⋮</td></tr>\n",
       "\t<tr><th scope=row>2</th><td>2</td><td> 18</td><td>0.8647457</td></tr>\n",
       "\t<tr><th scope=row>9</th><td>2</td><td> 57</td><td>0.8647457</td></tr>\n",
       "\t<tr><th scope=row>16</th><td>2</td><td>131</td><td>0.8647457</td></tr>\n",
       "\t<tr><th scope=row>23</th><td>2</td><td>162</td><td>0.8647457</td></tr>\n",
       "\t<tr><th scope=row>30</th><td>2</td><td>169</td><td>0.8647457</td></tr>\n",
       "\t<tr><th scope=row>37</th><td>2</td><td>278</td><td>0.8647457</td></tr>\n",
       "\t<tr><th scope=row>44</th><td>2</td><td>302</td><td>0.8647457</td></tr>\n",
       "\t<tr><th scope=row>51</th><td>2</td><td>345</td><td>0.8647457</td></tr>\n",
       "\t<tr><th scope=row>58</th><td>2</td><td>381</td><td>0.8647457</td></tr>\n",
       "\t<tr><th scope=row>65</th><td>2</td><td>399</td><td>0.8647457</td></tr>\n",
       "\t<tr><th scope=row>72</th><td>2</td><td>419</td><td>0.8647457</td></tr>\n",
       "\t<tr><th scope=row>79</th><td>2</td><td>422</td><td>0.8647457</td></tr>\n",
       "\t<tr><th scope=row>86</th><td>2</td><td>457</td><td>0.8647457</td></tr>\n",
       "\t<tr><th scope=row>93</th><td>2</td><td>494</td><td>0.8647457</td></tr>\n",
       "\t<tr><th scope=row>100</th><td>2</td><td>525</td><td>0.8647457</td></tr>\n",
       "\t<tr><th scope=row>1</th><td>1</td><td> 18</td><td>0.8599519</td></tr>\n",
       "\t<tr><th scope=row>8</th><td>1</td><td> 57</td><td>0.8599519</td></tr>\n",
       "\t<tr><th scope=row>15</th><td>1</td><td>131</td><td>0.8599519</td></tr>\n",
       "\t<tr><th scope=row>22</th><td>1</td><td>162</td><td>0.8599519</td></tr>\n",
       "\t<tr><th scope=row>29</th><td>1</td><td>169</td><td>0.8599519</td></tr>\n",
       "\t<tr><th scope=row>36</th><td>1</td><td>278</td><td>0.8599519</td></tr>\n",
       "\t<tr><th scope=row>43</th><td>1</td><td>302</td><td>0.8599519</td></tr>\n",
       "\t<tr><th scope=row>50</th><td>1</td><td>345</td><td>0.8599519</td></tr>\n",
       "\t<tr><th scope=row>57</th><td>1</td><td>381</td><td>0.8599519</td></tr>\n",
       "\t<tr><th scope=row>64</th><td>1</td><td>399</td><td>0.8599519</td></tr>\n",
       "\t<tr><th scope=row>71</th><td>1</td><td>419</td><td>0.8599519</td></tr>\n",
       "\t<tr><th scope=row>78</th><td>1</td><td>422</td><td>0.8599519</td></tr>\n",
       "\t<tr><th scope=row>85</th><td>1</td><td>457</td><td>0.8599519</td></tr>\n",
       "\t<tr><th scope=row>92</th><td>1</td><td>494</td><td>0.8599519</td></tr>\n",
       "\t<tr><th scope=row>99</th><td>1</td><td>525</td><td>0.8599519</td></tr>\n",
       "</tbody>\n",
       "</table>\n"
      ],
      "text/latex": [
       "A data.frame: 105 × 3\n",
       "\\begin{tabular}{r|lll}\n",
       "  & row & col & hmdb\\_scores\\\\\n",
       "  & <dbl> & <dbl> & <dbl>\\\\\n",
       "\\hline\n",
       "\t3 & 3 &  18 & 0.8767286\\\\\n",
       "\t10 & 3 &  57 & 0.8767286\\\\\n",
       "\t17 & 3 & 131 & 0.8767286\\\\\n",
       "\t24 & 3 & 162 & 0.8767286\\\\\n",
       "\t31 & 3 & 169 & 0.8767286\\\\\n",
       "\t38 & 3 & 278 & 0.8767286\\\\\n",
       "\t45 & 3 & 302 & 0.8767286\\\\\n",
       "\t52 & 3 & 345 & 0.8767286\\\\\n",
       "\t59 & 3 & 381 & 0.8767286\\\\\n",
       "\t66 & 3 & 399 & 0.8767286\\\\\n",
       "\t73 & 3 & 419 & 0.8767286\\\\\n",
       "\t80 & 3 & 422 & 0.8767286\\\\\n",
       "\t87 & 3 & 457 & 0.8767286\\\\\n",
       "\t94 & 3 & 494 & 0.8767286\\\\\n",
       "\t101 & 3 & 525 & 0.8767286\\\\\n",
       "\t7 & 7 &  18 & 0.8758547\\\\\n",
       "\t14 & 7 &  57 & 0.8758547\\\\\n",
       "\t21 & 7 & 131 & 0.8758547\\\\\n",
       "\t28 & 7 & 162 & 0.8758547\\\\\n",
       "\t35 & 7 & 169 & 0.8758547\\\\\n",
       "\t42 & 7 & 278 & 0.8758547\\\\\n",
       "\t49 & 7 & 302 & 0.8758547\\\\\n",
       "\t56 & 7 & 345 & 0.8758547\\\\\n",
       "\t63 & 7 & 381 & 0.8758547\\\\\n",
       "\t70 & 7 & 399 & 0.8758547\\\\\n",
       "\t77 & 7 & 419 & 0.8758547\\\\\n",
       "\t84 & 7 & 422 & 0.8758547\\\\\n",
       "\t91 & 7 & 457 & 0.8758547\\\\\n",
       "\t98 & 7 & 494 & 0.8758547\\\\\n",
       "\t105 & 7 & 525 & 0.8758547\\\\\n",
       "\t⋮ & ⋮ & ⋮ & ⋮\\\\\n",
       "\t2 & 2 &  18 & 0.8647457\\\\\n",
       "\t9 & 2 &  57 & 0.8647457\\\\\n",
       "\t16 & 2 & 131 & 0.8647457\\\\\n",
       "\t23 & 2 & 162 & 0.8647457\\\\\n",
       "\t30 & 2 & 169 & 0.8647457\\\\\n",
       "\t37 & 2 & 278 & 0.8647457\\\\\n",
       "\t44 & 2 & 302 & 0.8647457\\\\\n",
       "\t51 & 2 & 345 & 0.8647457\\\\\n",
       "\t58 & 2 & 381 & 0.8647457\\\\\n",
       "\t65 & 2 & 399 & 0.8647457\\\\\n",
       "\t72 & 2 & 419 & 0.8647457\\\\\n",
       "\t79 & 2 & 422 & 0.8647457\\\\\n",
       "\t86 & 2 & 457 & 0.8647457\\\\\n",
       "\t93 & 2 & 494 & 0.8647457\\\\\n",
       "\t100 & 2 & 525 & 0.8647457\\\\\n",
       "\t1 & 1 &  18 & 0.8599519\\\\\n",
       "\t8 & 1 &  57 & 0.8599519\\\\\n",
       "\t15 & 1 & 131 & 0.8599519\\\\\n",
       "\t22 & 1 & 162 & 0.8599519\\\\\n",
       "\t29 & 1 & 169 & 0.8599519\\\\\n",
       "\t36 & 1 & 278 & 0.8599519\\\\\n",
       "\t43 & 1 & 302 & 0.8599519\\\\\n",
       "\t50 & 1 & 345 & 0.8599519\\\\\n",
       "\t57 & 1 & 381 & 0.8599519\\\\\n",
       "\t64 & 1 & 399 & 0.8599519\\\\\n",
       "\t71 & 1 & 419 & 0.8599519\\\\\n",
       "\t78 & 1 & 422 & 0.8599519\\\\\n",
       "\t85 & 1 & 457 & 0.8599519\\\\\n",
       "\t92 & 1 & 494 & 0.8599519\\\\\n",
       "\t99 & 1 & 525 & 0.8599519\\\\\n",
       "\\end{tabular}\n"
      ],
      "text/markdown": [
       "\n",
       "A data.frame: 105 × 3\n",
       "\n",
       "| <!--/--> | row &lt;dbl&gt; | col &lt;dbl&gt; | hmdb_scores &lt;dbl&gt; |\n",
       "|---|---|---|---|\n",
       "| 3 | 3 |  18 | 0.8767286 |\n",
       "| 10 | 3 |  57 | 0.8767286 |\n",
       "| 17 | 3 | 131 | 0.8767286 |\n",
       "| 24 | 3 | 162 | 0.8767286 |\n",
       "| 31 | 3 | 169 | 0.8767286 |\n",
       "| 38 | 3 | 278 | 0.8767286 |\n",
       "| 45 | 3 | 302 | 0.8767286 |\n",
       "| 52 | 3 | 345 | 0.8767286 |\n",
       "| 59 | 3 | 381 | 0.8767286 |\n",
       "| 66 | 3 | 399 | 0.8767286 |\n",
       "| 73 | 3 | 419 | 0.8767286 |\n",
       "| 80 | 3 | 422 | 0.8767286 |\n",
       "| 87 | 3 | 457 | 0.8767286 |\n",
       "| 94 | 3 | 494 | 0.8767286 |\n",
       "| 101 | 3 | 525 | 0.8767286 |\n",
       "| 7 | 7 |  18 | 0.8758547 |\n",
       "| 14 | 7 |  57 | 0.8758547 |\n",
       "| 21 | 7 | 131 | 0.8758547 |\n",
       "| 28 | 7 | 162 | 0.8758547 |\n",
       "| 35 | 7 | 169 | 0.8758547 |\n",
       "| 42 | 7 | 278 | 0.8758547 |\n",
       "| 49 | 7 | 302 | 0.8758547 |\n",
       "| 56 | 7 | 345 | 0.8758547 |\n",
       "| 63 | 7 | 381 | 0.8758547 |\n",
       "| 70 | 7 | 399 | 0.8758547 |\n",
       "| 77 | 7 | 419 | 0.8758547 |\n",
       "| 84 | 7 | 422 | 0.8758547 |\n",
       "| 91 | 7 | 457 | 0.8758547 |\n",
       "| 98 | 7 | 494 | 0.8758547 |\n",
       "| 105 | 7 | 525 | 0.8758547 |\n",
       "| ⋮ | ⋮ | ⋮ | ⋮ |\n",
       "| 2 | 2 |  18 | 0.8647457 |\n",
       "| 9 | 2 |  57 | 0.8647457 |\n",
       "| 16 | 2 | 131 | 0.8647457 |\n",
       "| 23 | 2 | 162 | 0.8647457 |\n",
       "| 30 | 2 | 169 | 0.8647457 |\n",
       "| 37 | 2 | 278 | 0.8647457 |\n",
       "| 44 | 2 | 302 | 0.8647457 |\n",
       "| 51 | 2 | 345 | 0.8647457 |\n",
       "| 58 | 2 | 381 | 0.8647457 |\n",
       "| 65 | 2 | 399 | 0.8647457 |\n",
       "| 72 | 2 | 419 | 0.8647457 |\n",
       "| 79 | 2 | 422 | 0.8647457 |\n",
       "| 86 | 2 | 457 | 0.8647457 |\n",
       "| 93 | 2 | 494 | 0.8647457 |\n",
       "| 100 | 2 | 525 | 0.8647457 |\n",
       "| 1 | 1 |  18 | 0.8599519 |\n",
       "| 8 | 1 |  57 | 0.8599519 |\n",
       "| 15 | 1 | 131 | 0.8599519 |\n",
       "| 22 | 1 | 162 | 0.8599519 |\n",
       "| 29 | 1 | 169 | 0.8599519 |\n",
       "| 36 | 1 | 278 | 0.8599519 |\n",
       "| 43 | 1 | 302 | 0.8599519 |\n",
       "| 50 | 1 | 345 | 0.8599519 |\n",
       "| 57 | 1 | 381 | 0.8599519 |\n",
       "| 64 | 1 | 399 | 0.8599519 |\n",
       "| 71 | 1 | 419 | 0.8599519 |\n",
       "| 78 | 1 | 422 | 0.8599519 |\n",
       "| 85 | 1 | 457 | 0.8599519 |\n",
       "| 92 | 1 | 494 | 0.8599519 |\n",
       "| 99 | 1 | 525 | 0.8599519 |\n",
       "\n"
      ],
      "text/plain": [
       "    row col hmdb_scores\n",
       "3   3    18 0.8767286  \n",
       "10  3    57 0.8767286  \n",
       "17  3   131 0.8767286  \n",
       "24  3   162 0.8767286  \n",
       "31  3   169 0.8767286  \n",
       "38  3   278 0.8767286  \n",
       "45  3   302 0.8767286  \n",
       "52  3   345 0.8767286  \n",
       "59  3   381 0.8767286  \n",
       "66  3   399 0.8767286  \n",
       "73  3   419 0.8767286  \n",
       "80  3   422 0.8767286  \n",
       "87  3   457 0.8767286  \n",
       "94  3   494 0.8767286  \n",
       "101 3   525 0.8767286  \n",
       "7   7    18 0.8758547  \n",
       "14  7    57 0.8758547  \n",
       "21  7   131 0.8758547  \n",
       "28  7   162 0.8758547  \n",
       "35  7   169 0.8758547  \n",
       "42  7   278 0.8758547  \n",
       "49  7   302 0.8758547  \n",
       "56  7   345 0.8758547  \n",
       "63  7   381 0.8758547  \n",
       "70  7   399 0.8758547  \n",
       "77  7   419 0.8758547  \n",
       "84  7   422 0.8758547  \n",
       "91  7   457 0.8758547  \n",
       "98  7   494 0.8758547  \n",
       "105 7   525 0.8758547  \n",
       "⋮   ⋮   ⋮   ⋮          \n",
       "2   2    18 0.8647457  \n",
       "9   2    57 0.8647457  \n",
       "16  2   131 0.8647457  \n",
       "23  2   162 0.8647457  \n",
       "30  2   169 0.8647457  \n",
       "37  2   278 0.8647457  \n",
       "44  2   302 0.8647457  \n",
       "51  2   345 0.8647457  \n",
       "58  2   381 0.8647457  \n",
       "65  2   399 0.8647457  \n",
       "72  2   419 0.8647457  \n",
       "79  2   422 0.8647457  \n",
       "86  2   457 0.8647457  \n",
       "93  2   494 0.8647457  \n",
       "100 2   525 0.8647457  \n",
       "1   1    18 0.8599519  \n",
       "8   1    57 0.8599519  \n",
       "15  1   131 0.8599519  \n",
       "22  1   162 0.8599519  \n",
       "29  1   169 0.8599519  \n",
       "36  1   278 0.8599519  \n",
       "43  1   302 0.8599519  \n",
       "50  1   345 0.8599519  \n",
       "57  1   381 0.8599519  \n",
       "64  1   399 0.8599519  \n",
       "71  1   419 0.8599519  \n",
       "78  1   422 0.8599519  \n",
       "85  1   457 0.8599519  \n",
       "92  1   494 0.8599519  \n",
       "99  1   525 0.8599519  "
      ]
     },
     "metadata": {},
     "output_type": "display_data"
    }
   ],
   "source": [
    "df_ord_hmdb_res"
   ]
  },
  {
   "cell_type": "code",
   "execution_count": 114,
   "id": "2637b0b6",
   "metadata": {
    "collapsed": true
   },
   "outputs": [
    {
     "data": {
      "text/plain": [
       "MSn data (Spectra) with 1 spectra in a MsBackendMsp backend:\n",
       "    msLevel     rtime scanIndex\n",
       "  <integer> <numeric> <integer>\n",
       "1         2         0        NA\n",
       " ... 21 more variables/columns.\n",
       "Lazy evaluation queue: 2 processing step(s)\n",
       "Processing:\n",
       " Remove peaks based on their intensities and a user-provided function in spectra of MS level(s) 2. [Tue Aug 23 14:34:23 2022] "
      ]
     },
     "metadata": {},
     "output_type": "display_data"
    }
   ],
   "source": [
    "mbank_with_mz[399]"
   ]
  },
  {
   "cell_type": "code",
   "execution_count": 115,
   "id": "01ddcdd9",
   "metadata": {},
   "outputs": [
    {
     "data": {
      "text/html": [
       "<strong>null device:</strong> 1"
      ],
      "text/latex": [
       "\\textbf{null device:} 1"
      ],
      "text/markdown": [
       "**null device:** 1"
      ],
      "text/plain": [
       "null device \n",
       "          1 "
      ]
     },
     "metadata": {},
     "output_type": "display_data"
    },
    {
     "data": {
      "image/png": "[encoded data removed]"
     },
     "metadata": {
      "image/png": {
       "height": 420,
       "width": 420
      }
     },
     "output_type": "display_data"
    }
   ],
   "source": [
    "plotSpectraMirror(sps[idv[[1]]], mbank_with_mz[399], tolerance = 0.2,\n",
    "                    labels = label_fun, labelPos = 2, labelOffset = 0.2,\n",
    "                    labelSrt = -30)\n",
    "grid()\n",
    "dev.off()"
   ]
  },
  {
   "cell_type": "code",
   "execution_count": 116,
   "id": "59a04ef3",
   "metadata": {},
   "outputs": [
    {
     "data": {
      "text/html": [
       "<table class=\"dataframe\">\n",
       "<caption>A matrix: 1 × 5 of type dbl</caption>\n",
       "<thead>\n",
       "\t<tr><th scope=col>mz.y</th><th scope=col>intensity.y</th><th scope=col>mz.z</th><th scope=col>intensity.z</th><th scope=col>diff</th></tr>\n",
       "</thead>\n",
       "<tbody>\n",
       "\t<tr><td>285.0765</td><td>100</td><td>285.0756</td><td>100</td><td>0</td></tr>\n",
       "</tbody>\n",
       "</table>\n"
      ],
      "text/latex": [
       "A matrix: 1 × 5 of type dbl\n",
       "\\begin{tabular}{lllll}\n",
       " mz.y & intensity.y & mz.z & intensity.z & diff\\\\\n",
       "\\hline\n",
       "\t 285.0765 & 100 & 285.0756 & 100 & 0\\\\\n",
       "\\end{tabular}\n"
      ],
      "text/markdown": [
       "\n",
       "A matrix: 1 × 5 of type dbl\n",
       "\n",
       "| mz.y | intensity.y | mz.z | intensity.z | diff |\n",
       "|---|---|---|---|---|\n",
       "| 285.0765 | 100 | 285.0756 | 100 | 0 |\n",
       "\n"
      ],
      "text/plain": [
       "     mz.y     intensity.y mz.z     intensity.z diff\n",
       "[1,] 285.0765 100         285.0756 100         0   "
      ]
     },
     "metadata": {},
     "output_type": "display_data"
    }
   ],
   "source": [
    "df_peaklists <- peakdf(mbank_with_mz[399], sps[idv[[1]]], ppmx = 15)\n",
    "df_peaklists"
   ]
  },
  {
   "cell_type": "code",
   "execution_count": 119,
   "id": "df338bcd",
   "metadata": {},
   "outputs": [],
   "source": [
    "load(\"/Users/mahnoorzulfiqar/OneDriveUNI/Standards/gnps.rda\")"
   ]
  },
  {
   "cell_type": "code",
   "execution_count": 120,
   "id": "2e750953",
   "metadata": {},
   "outputs": [
    {
     "data": {
      "text/plain": [
       "MSn data (Spectra) with 7523 spectra in a MsBackendMgf backend:\n",
       "       msLevel     rtime scanIndex\n",
       "     <integer> <numeric> <integer>\n",
       "1            2        NA        NA\n",
       "2            2        NA        NA\n",
       "3            2        NA        NA\n",
       "4            2        NA        NA\n",
       "5            2        NA        NA\n",
       "...        ...       ...       ...\n",
       "7519         2        NA        NA\n",
       "7520         2        NA        NA\n",
       "7521         2        NA        NA\n",
       "7522         2        NA        NA\n",
       "7523         2        NA        NA\n",
       " ... 32 more variables/columns.\n",
       "Lazy evaluation queue: 2 processing step(s)\n",
       "Processing:\n",
       " Remove peaks based on their intensities and a user-provided function in spectra of MS level(s) 2. [Tue Aug 23 14:38:57 2022] "
      ]
     },
     "metadata": {},
     "output_type": "display_data"
    }
   ],
   "source": [
    "gnps_with_mz <- spec2_Processing(285.07858276, gnpsdb, spec = \"gnps\", ppmx=15)\n",
    "gnps_with_mz"
   ]
  },
  {
   "cell_type": "code",
   "execution_count": 121,
   "id": "db5c7b59",
   "metadata": {},
   "outputs": [],
   "source": [
    "res <- compareSpectra(sps, gnps_with_mz, ppm = 15, FUN = MsCoreUtils::gnps, MAPFUN = joinPeaksGnps)"
   ]
  },
  {
   "cell_type": "code",
   "execution_count": 122,
   "id": "33e30347",
   "metadata": {},
   "outputs": [],
   "source": [
    "res_top <- which(res > res[res>0.85], arr.ind = TRUE)"
   ]
  },
  {
   "cell_type": "code",
   "execution_count": 123,
   "id": "bee4891e",
   "metadata": {},
   "outputs": [],
   "source": [
    "res_topdf <- data.frame(res_top)\n",
    "# to store the scores to add to res_topdf\n",
    "hmdb_scores <- c()\n",
    "# for all rows and columns in res_topdf\n",
    "for (i in 1:nrow(res_topdf)){\n",
    "\n",
    "    # store the scores\n",
    "    hmdb_scores <- c(hmdb_scores, res[(res_topdf[i, \"row\"]), (res_topdf[i, \"col\"])])\n",
    "}\n",
    "# add the score column to res_top\n",
    "hmdb_res <- cbind(res_top, hmdb_scores)\n",
    "hmdb_res <- data.frame(hmdb_res)\n",
    "\n",
    "# sort in descending order\n",
    "ordered_hmdb_res <- hmdb_res[order(-hmdb_res[,\"hmdb_scores\"]),]\n",
    "df_ord_hmdb_res <- data.frame(ordered_hmdb_res)\n"
   ]
  },
  {
   "cell_type": "code",
   "execution_count": 124,
   "id": "c5053e6c",
   "metadata": {},
   "outputs": [
    {
     "data": {
      "text/html": [
       "<table class=\"dataframe\">\n",
       "<caption>A data.frame: 1836 × 3</caption>\n",
       "<thead>\n",
       "\t<tr><th></th><th scope=col>row</th><th scope=col>col</th><th scope=col>hmdb_scores</th></tr>\n",
       "\t<tr><th></th><th scope=col>&lt;dbl&gt;</th><th scope=col>&lt;dbl&gt;</th><th scope=col>&lt;dbl&gt;</th></tr>\n",
       "</thead>\n",
       "<tbody>\n",
       "\t<tr><th scope=row>1747</th><td>1</td><td>6230</td><td>0.9999136</td></tr>\n",
       "\t<tr><th scope=row>1748</th><td>2</td><td>6230</td><td>0.9997979</td></tr>\n",
       "\t<tr><th scope=row>1750</th><td>4</td><td>6230</td><td>0.9997937</td></tr>\n",
       "\t<tr><th scope=row>1752</th><td>6</td><td>6230</td><td>0.9997590</td></tr>\n",
       "\t<tr><th scope=row>1751</th><td>5</td><td>6230</td><td>0.9996044</td></tr>\n",
       "\t<tr><th scope=row>1804</th><td>3</td><td>7491</td><td>0.9993368</td></tr>\n",
       "\t<tr><th scope=row>1753</th><td>7</td><td>6230</td><td>0.9993288</td></tr>\n",
       "\t<tr><th scope=row>1808</th><td>7</td><td>7491</td><td>0.9992876</td></tr>\n",
       "\t<tr><th scope=row>1749</th><td>3</td><td>6230</td><td>0.9992793</td></tr>\n",
       "\t<tr><th scope=row>1806</th><td>5</td><td>7491</td><td>0.9989302</td></tr>\n",
       "\t<tr><th scope=row>1807</th><td>6</td><td>7491</td><td>0.9986255</td></tr>\n",
       "\t<tr><th scope=row>1805</th><td>4</td><td>7491</td><td>0.9985382</td></tr>\n",
       "\t<tr><th scope=row>1803</th><td>2</td><td>7491</td><td>0.9985269</td></tr>\n",
       "\t<tr><th scope=row>1802</th><td>1</td><td>7491</td><td>0.9981253</td></tr>\n",
       "\t<tr><th scope=row>3</th><td>3</td><td>  93</td><td>0.9363379</td></tr>\n",
       "\t<tr><th scope=row>7</th><td>3</td><td> 105</td><td>0.9363379</td></tr>\n",
       "\t<tr><th scope=row>11</th><td>3</td><td> 487</td><td>0.9363379</td></tr>\n",
       "\t<tr><th scope=row>15</th><td>3</td><td> 674</td><td>0.9363379</td></tr>\n",
       "\t<tr><th scope=row>20</th><td>3</td><td> 777</td><td>0.9363379</td></tr>\n",
       "\t<tr><th scope=row>31</th><td>3</td><td> 893</td><td>0.9363379</td></tr>\n",
       "\t<tr><th scope=row>35</th><td>3</td><td> 907</td><td>0.9363379</td></tr>\n",
       "\t<tr><th scope=row>41</th><td>3</td><td> 912</td><td>0.9363379</td></tr>\n",
       "\t<tr><th scope=row>48</th><td>3</td><td> 913</td><td>0.9363379</td></tr>\n",
       "\t<tr><th scope=row>52</th><td>3</td><td> 917</td><td>0.9363379</td></tr>\n",
       "\t<tr><th scope=row>56</th><td>3</td><td> 918</td><td>0.9363379</td></tr>\n",
       "\t<tr><th scope=row>62</th><td>3</td><td> 921</td><td>0.9363379</td></tr>\n",
       "\t<tr><th scope=row>69</th><td>3</td><td> 922</td><td>0.9363379</td></tr>\n",
       "\t<tr><th scope=row>73</th><td>3</td><td> 924</td><td>0.9363379</td></tr>\n",
       "\t<tr><th scope=row>78</th><td>3</td><td> 941</td><td>0.9363379</td></tr>\n",
       "\t<tr><th scope=row>84</th><td>3</td><td>1041</td><td>0.9363379</td></tr>\n",
       "\t<tr><th scope=row>⋮</th><td>⋮</td><td>⋮</td><td>⋮</td></tr>\n",
       "\t<tr><th scope=row>1242</th><td>6</td><td>3738</td><td>0.8885002</td></tr>\n",
       "\t<tr><th scope=row>1240</th><td>4</td><td>3738</td><td>0.8879260</td></tr>\n",
       "\t<tr><th scope=row>916</th><td>5</td><td>3277</td><td>0.8858104</td></tr>\n",
       "\t<tr><th scope=row>1233</th><td>3</td><td>3736</td><td>0.8843614</td></tr>\n",
       "\t<tr><th scope=row>1237</th><td>7</td><td>3736</td><td>0.8839205</td></tr>\n",
       "\t<tr><th scope=row>917</th><td>6</td><td>3277</td><td>0.8836801</td></tr>\n",
       "\t<tr><th scope=row>412</th><td>7</td><td>2417</td><td>0.8835265</td></tr>\n",
       "\t<tr><th scope=row>1705</th><td>1</td><td>4913</td><td>0.8833861</td></tr>\n",
       "\t<tr><th scope=row>113</th><td>3</td><td>1303</td><td>0.8831804</td></tr>\n",
       "\t<tr><th scope=row>915</th><td>4</td><td>3277</td><td>0.8831090</td></tr>\n",
       "\t<tr><th scope=row>1149</th><td>3</td><td>3514</td><td>0.8816131</td></tr>\n",
       "\t<tr><th scope=row>1235</th><td>5</td><td>3736</td><td>0.8810564</td></tr>\n",
       "\t<tr><th scope=row>1236</th><td>6</td><td>3736</td><td>0.8789376</td></tr>\n",
       "\t<tr><th scope=row>411</th><td>6</td><td>2417</td><td>0.8785458</td></tr>\n",
       "\t<tr><th scope=row>1234</th><td>4</td><td>3736</td><td>0.8783696</td></tr>\n",
       "\t<tr><th scope=row>115</th><td>6</td><td>1303</td><td>0.8777639</td></tr>\n",
       "\t<tr><th scope=row>114</th><td>4</td><td>1303</td><td>0.8771966</td></tr>\n",
       "\t<tr><th scope=row>1238</th><td>1</td><td>3737</td><td>0.8770335</td></tr>\n",
       "\t<tr><th scope=row>1148</th><td>2</td><td>3514</td><td>0.8755675</td></tr>\n",
       "\t<tr><th scope=row>112</th><td>1</td><td>1303</td><td>0.8746895</td></tr>\n",
       "\t<tr><th scope=row>1147</th><td>1</td><td>3514</td><td>0.8731373</td></tr>\n",
       "\t<tr><th scope=row>596</th><td>3</td><td>2917</td><td>0.8701183</td></tr>\n",
       "\t<tr><th scope=row>936</th><td>3</td><td>3347</td><td>0.8697429</td></tr>\n",
       "\t<tr><th scope=row>600</th><td>7</td><td>2917</td><td>0.8696845</td></tr>\n",
       "\t<tr><th scope=row>598</th><td>5</td><td>2917</td><td>0.8668666</td></tr>\n",
       "\t<tr><th scope=row>937</th><td>5</td><td>3347</td><td>0.8664925</td></tr>\n",
       "\t<tr><th scope=row>599</th><td>6</td><td>2917</td><td>0.8647819</td></tr>\n",
       "\t<tr><th scope=row>597</th><td>4</td><td>2917</td><td>0.8642230</td></tr>\n",
       "\t<tr><th scope=row>595</th><td>1</td><td>2917</td><td>0.8617530</td></tr>\n",
       "\t<tr><th scope=row>1244</th><td>1</td><td>3739</td><td>0.8595291</td></tr>\n",
       "</tbody>\n",
       "</table>\n"
      ],
      "text/latex": [
       "A data.frame: 1836 × 3\n",
       "\\begin{tabular}{r|lll}\n",
       "  & row & col & hmdb\\_scores\\\\\n",
       "  & <dbl> & <dbl> & <dbl>\\\\\n",
       "\\hline\n",
       "\t1747 & 1 & 6230 & 0.9999136\\\\\n",
       "\t1748 & 2 & 6230 & 0.9997979\\\\\n",
       "\t1750 & 4 & 6230 & 0.9997937\\\\\n",
       "\t1752 & 6 & 6230 & 0.9997590\\\\\n",
       "\t1751 & 5 & 6230 & 0.9996044\\\\\n",
       "\t1804 & 3 & 7491 & 0.9993368\\\\\n",
       "\t1753 & 7 & 6230 & 0.9993288\\\\\n",
       "\t1808 & 7 & 7491 & 0.9992876\\\\\n",
       "\t1749 & 3 & 6230 & 0.9992793\\\\\n",
       "\t1806 & 5 & 7491 & 0.9989302\\\\\n",
       "\t1807 & 6 & 7491 & 0.9986255\\\\\n",
       "\t1805 & 4 & 7491 & 0.9985382\\\\\n",
       "\t1803 & 2 & 7491 & 0.9985269\\\\\n",
       "\t1802 & 1 & 7491 & 0.9981253\\\\\n",
       "\t3 & 3 &   93 & 0.9363379\\\\\n",
       "\t7 & 3 &  105 & 0.9363379\\\\\n",
       "\t11 & 3 &  487 & 0.9363379\\\\\n",
       "\t15 & 3 &  674 & 0.9363379\\\\\n",
       "\t20 & 3 &  777 & 0.9363379\\\\\n",
       "\t31 & 3 &  893 & 0.9363379\\\\\n",
       "\t35 & 3 &  907 & 0.9363379\\\\\n",
       "\t41 & 3 &  912 & 0.9363379\\\\\n",
       "\t48 & 3 &  913 & 0.9363379\\\\\n",
       "\t52 & 3 &  917 & 0.9363379\\\\\n",
       "\t56 & 3 &  918 & 0.9363379\\\\\n",
       "\t62 & 3 &  921 & 0.9363379\\\\\n",
       "\t69 & 3 &  922 & 0.9363379\\\\\n",
       "\t73 & 3 &  924 & 0.9363379\\\\\n",
       "\t78 & 3 &  941 & 0.9363379\\\\\n",
       "\t84 & 3 & 1041 & 0.9363379\\\\\n",
       "\t⋮ & ⋮ & ⋮ & ⋮\\\\\n",
       "\t1242 & 6 & 3738 & 0.8885002\\\\\n",
       "\t1240 & 4 & 3738 & 0.8879260\\\\\n",
       "\t916 & 5 & 3277 & 0.8858104\\\\\n",
       "\t1233 & 3 & 3736 & 0.8843614\\\\\n",
       "\t1237 & 7 & 3736 & 0.8839205\\\\\n",
       "\t917 & 6 & 3277 & 0.8836801\\\\\n",
       "\t412 & 7 & 2417 & 0.8835265\\\\\n",
       "\t1705 & 1 & 4913 & 0.8833861\\\\\n",
       "\t113 & 3 & 1303 & 0.8831804\\\\\n",
       "\t915 & 4 & 3277 & 0.8831090\\\\\n",
       "\t1149 & 3 & 3514 & 0.8816131\\\\\n",
       "\t1235 & 5 & 3736 & 0.8810564\\\\\n",
       "\t1236 & 6 & 3736 & 0.8789376\\\\\n",
       "\t411 & 6 & 2417 & 0.8785458\\\\\n",
       "\t1234 & 4 & 3736 & 0.8783696\\\\\n",
       "\t115 & 6 & 1303 & 0.8777639\\\\\n",
       "\t114 & 4 & 1303 & 0.8771966\\\\\n",
       "\t1238 & 1 & 3737 & 0.8770335\\\\\n",
       "\t1148 & 2 & 3514 & 0.8755675\\\\\n",
       "\t112 & 1 & 1303 & 0.8746895\\\\\n",
       "\t1147 & 1 & 3514 & 0.8731373\\\\\n",
       "\t596 & 3 & 2917 & 0.8701183\\\\\n",
       "\t936 & 3 & 3347 & 0.8697429\\\\\n",
       "\t600 & 7 & 2917 & 0.8696845\\\\\n",
       "\t598 & 5 & 2917 & 0.8668666\\\\\n",
       "\t937 & 5 & 3347 & 0.8664925\\\\\n",
       "\t599 & 6 & 2917 & 0.8647819\\\\\n",
       "\t597 & 4 & 2917 & 0.8642230\\\\\n",
       "\t595 & 1 & 2917 & 0.8617530\\\\\n",
       "\t1244 & 1 & 3739 & 0.8595291\\\\\n",
       "\\end{tabular}\n"
      ],
      "text/markdown": [
       "\n",
       "A data.frame: 1836 × 3\n",
       "\n",
       "| <!--/--> | row &lt;dbl&gt; | col &lt;dbl&gt; | hmdb_scores &lt;dbl&gt; |\n",
       "|---|---|---|---|\n",
       "| 1747 | 1 | 6230 | 0.9999136 |\n",
       "| 1748 | 2 | 6230 | 0.9997979 |\n",
       "| 1750 | 4 | 6230 | 0.9997937 |\n",
       "| 1752 | 6 | 6230 | 0.9997590 |\n",
       "| 1751 | 5 | 6230 | 0.9996044 |\n",
       "| 1804 | 3 | 7491 | 0.9993368 |\n",
       "| 1753 | 7 | 6230 | 0.9993288 |\n",
       "| 1808 | 7 | 7491 | 0.9992876 |\n",
       "| 1749 | 3 | 6230 | 0.9992793 |\n",
       "| 1806 | 5 | 7491 | 0.9989302 |\n",
       "| 1807 | 6 | 7491 | 0.9986255 |\n",
       "| 1805 | 4 | 7491 | 0.9985382 |\n",
       "| 1803 | 2 | 7491 | 0.9985269 |\n",
       "| 1802 | 1 | 7491 | 0.9981253 |\n",
       "| 3 | 3 |   93 | 0.9363379 |\n",
       "| 7 | 3 |  105 | 0.9363379 |\n",
       "| 11 | 3 |  487 | 0.9363379 |\n",
       "| 15 | 3 |  674 | 0.9363379 |\n",
       "| 20 | 3 |  777 | 0.9363379 |\n",
       "| 31 | 3 |  893 | 0.9363379 |\n",
       "| 35 | 3 |  907 | 0.9363379 |\n",
       "| 41 | 3 |  912 | 0.9363379 |\n",
       "| 48 | 3 |  913 | 0.9363379 |\n",
       "| 52 | 3 |  917 | 0.9363379 |\n",
       "| 56 | 3 |  918 | 0.9363379 |\n",
       "| 62 | 3 |  921 | 0.9363379 |\n",
       "| 69 | 3 |  922 | 0.9363379 |\n",
       "| 73 | 3 |  924 | 0.9363379 |\n",
       "| 78 | 3 |  941 | 0.9363379 |\n",
       "| 84 | 3 | 1041 | 0.9363379 |\n",
       "| ⋮ | ⋮ | ⋮ | ⋮ |\n",
       "| 1242 | 6 | 3738 | 0.8885002 |\n",
       "| 1240 | 4 | 3738 | 0.8879260 |\n",
       "| 916 | 5 | 3277 | 0.8858104 |\n",
       "| 1233 | 3 | 3736 | 0.8843614 |\n",
       "| 1237 | 7 | 3736 | 0.8839205 |\n",
       "| 917 | 6 | 3277 | 0.8836801 |\n",
       "| 412 | 7 | 2417 | 0.8835265 |\n",
       "| 1705 | 1 | 4913 | 0.8833861 |\n",
       "| 113 | 3 | 1303 | 0.8831804 |\n",
       "| 915 | 4 | 3277 | 0.8831090 |\n",
       "| 1149 | 3 | 3514 | 0.8816131 |\n",
       "| 1235 | 5 | 3736 | 0.8810564 |\n",
       "| 1236 | 6 | 3736 | 0.8789376 |\n",
       "| 411 | 6 | 2417 | 0.8785458 |\n",
       "| 1234 | 4 | 3736 | 0.8783696 |\n",
       "| 115 | 6 | 1303 | 0.8777639 |\n",
       "| 114 | 4 | 1303 | 0.8771966 |\n",
       "| 1238 | 1 | 3737 | 0.8770335 |\n",
       "| 1148 | 2 | 3514 | 0.8755675 |\n",
       "| 112 | 1 | 1303 | 0.8746895 |\n",
       "| 1147 | 1 | 3514 | 0.8731373 |\n",
       "| 596 | 3 | 2917 | 0.8701183 |\n",
       "| 936 | 3 | 3347 | 0.8697429 |\n",
       "| 600 | 7 | 2917 | 0.8696845 |\n",
       "| 598 | 5 | 2917 | 0.8668666 |\n",
       "| 937 | 5 | 3347 | 0.8664925 |\n",
       "| 599 | 6 | 2917 | 0.8647819 |\n",
       "| 597 | 4 | 2917 | 0.8642230 |\n",
       "| 595 | 1 | 2917 | 0.8617530 |\n",
       "| 1244 | 1 | 3739 | 0.8595291 |\n",
       "\n"
      ],
      "text/plain": [
       "     row col  hmdb_scores\n",
       "1747 1   6230 0.9999136  \n",
       "1748 2   6230 0.9997979  \n",
       "1750 4   6230 0.9997937  \n",
       "1752 6   6230 0.9997590  \n",
       "1751 5   6230 0.9996044  \n",
       "1804 3   7491 0.9993368  \n",
       "1753 7   6230 0.9993288  \n",
       "1808 7   7491 0.9992876  \n",
       "1749 3   6230 0.9992793  \n",
       "1806 5   7491 0.9989302  \n",
       "1807 6   7491 0.9986255  \n",
       "1805 4   7491 0.9985382  \n",
       "1803 2   7491 0.9985269  \n",
       "1802 1   7491 0.9981253  \n",
       "3    3     93 0.9363379  \n",
       "7    3    105 0.9363379  \n",
       "11   3    487 0.9363379  \n",
       "15   3    674 0.9363379  \n",
       "20   3    777 0.9363379  \n",
       "31   3    893 0.9363379  \n",
       "35   3    907 0.9363379  \n",
       "41   3    912 0.9363379  \n",
       "48   3    913 0.9363379  \n",
       "52   3    917 0.9363379  \n",
       "56   3    918 0.9363379  \n",
       "62   3    921 0.9363379  \n",
       "69   3    922 0.9363379  \n",
       "73   3    924 0.9363379  \n",
       "78   3    941 0.9363379  \n",
       "84   3   1041 0.9363379  \n",
       "⋮    ⋮   ⋮    ⋮          \n",
       "1242 6   3738 0.8885002  \n",
       "1240 4   3738 0.8879260  \n",
       "916  5   3277 0.8858104  \n",
       "1233 3   3736 0.8843614  \n",
       "1237 7   3736 0.8839205  \n",
       "917  6   3277 0.8836801  \n",
       "412  7   2417 0.8835265  \n",
       "1705 1   4913 0.8833861  \n",
       "113  3   1303 0.8831804  \n",
       "915  4   3277 0.8831090  \n",
       "1149 3   3514 0.8816131  \n",
       "1235 5   3736 0.8810564  \n",
       "1236 6   3736 0.8789376  \n",
       "411  6   2417 0.8785458  \n",
       "1234 4   3736 0.8783696  \n",
       "115  6   1303 0.8777639  \n",
       "114  4   1303 0.8771966  \n",
       "1238 1   3737 0.8770335  \n",
       "1148 2   3514 0.8755675  \n",
       "112  1   1303 0.8746895  \n",
       "1147 1   3514 0.8731373  \n",
       "596  3   2917 0.8701183  \n",
       "936  3   3347 0.8697429  \n",
       "600  7   2917 0.8696845  \n",
       "598  5   2917 0.8668666  \n",
       "937  5   3347 0.8664925  \n",
       "599  6   2917 0.8647819  \n",
       "597  4   2917 0.8642230  \n",
       "595  1   2917 0.8617530  \n",
       "1244 1   3739 0.8595291  "
      ]
     },
     "metadata": {},
     "output_type": "display_data"
    }
   ],
   "source": [
    "df_ord_hmdb_res"
   ]
  },
  {
   "cell_type": "code",
   "execution_count": null,
   "id": "ba4dfb6c",
   "metadata": {},
   "outputs": [],
   "source": [
    "2\t"
   ]
  },
  {
   "cell_type": "code",
   "execution_count": 126,
   "id": "363e41a2",
   "metadata": {},
   "outputs": [
    {
     "data": {
      "text/html": [
       "<strong>null device:</strong> 1"
      ],
      "text/latex": [
       "\\textbf{null device:} 1"
      ],
      "text/markdown": [
       "**null device:** 1"
      ],
      "text/plain": [
       "null device \n",
       "          1 "
      ]
     },
     "metadata": {},
     "output_type": "display_data"
    },
    {
     "data": {
      "image/png": "[encoded data removed]"
     },
     "metadata": {
      "image/png": {
       "height": 420,
       "width": 420
      }
     },
     "output_type": "display_data"
    }
   ],
   "source": [
    "plotSpectraMirror(sps[2], gnps_with_mz[7491], tolerance = 0.2,\n",
    "                    labels = label_fun, labelPos = 2, labelOffset = 0.2,\n",
    "                    labelSrt = -30)\n",
    "grid()\n",
    "dev.off()"
   ]
  },
  {
   "cell_type": "code",
   "execution_count": 130,
   "id": "6876b297",
   "metadata": {},
   "outputs": [
    {
     "data": {
      "text/html": [
       "'BIOTIN [M+Na]+'"
      ],
      "text/latex": [
       "'BIOTIN {[}M+Na{]}+'"
      ],
      "text/markdown": [
       "'BIOTIN [M+Na]+'"
      ],
      "text/plain": [
       "[1] \"BIOTIN [M+Na]+\""
      ]
     },
     "metadata": {},
     "output_type": "display_data"
    }
   ],
   "source": [
    "gnps_with_mz[7491]$NAME"
   ]
  },
  {
   "cell_type": "code",
   "execution_count": 128,
   "id": "bd33d9fb",
   "metadata": {},
   "outputs": [
    {
     "data": {
      "text/html": [
       "<style>\n",
       ".list-inline {list-style: none; margin:0; padding: 0}\n",
       ".list-inline>li {display: inline-block}\n",
       ".list-inline>li:not(:last-child)::after {content: \"\\00b7\"; padding: 0 .5ex}\n",
       "</style>\n",
       "<ol class=list-inline><li>'msLevel'</li><li>'rtime'</li><li>'acquisitionNum'</li><li>'scanIndex'</li><li>'dataStorage'</li><li>'dataOrigin'</li><li>'centroided'</li><li>'smoothed'</li><li>'polarity'</li><li>'precScanNum'</li><li>'precursorMz'</li><li>'precursorIntensity'</li><li>'precursorCharge'</li><li>'collisionEnergy'</li><li>'isolationWindowLowerMz'</li><li>'isolationWindowTargetMz'</li><li>'isolationWindowUpperMz'</li><li>'MSLEVEL'</li><li>'SOURCE_INSTRUMENT'</li><li>'FILENAME'</li><li>'SEQ'</li><li>'IONMODE'</li><li>'ORGANISM'</li><li>'NAME'</li><li>'PI'</li><li>'DATACOLLECTOR'</li><li>'SMILES'</li><li>'INCHI'</li><li>'INCHIAUX'</li><li>'PUBMED'</li><li>'SUBMITUSER'</li><li>'LIBRARYQUALITY'</li><li>'SPECTRUMID'</li></ol>\n"
      ],
      "text/latex": [
       "\\begin{enumerate*}\n",
       "\\item 'msLevel'\n",
       "\\item 'rtime'\n",
       "\\item 'acquisitionNum'\n",
       "\\item 'scanIndex'\n",
       "\\item 'dataStorage'\n",
       "\\item 'dataOrigin'\n",
       "\\item 'centroided'\n",
       "\\item 'smoothed'\n",
       "\\item 'polarity'\n",
       "\\item 'precScanNum'\n",
       "\\item 'precursorMz'\n",
       "\\item 'precursorIntensity'\n",
       "\\item 'precursorCharge'\n",
       "\\item 'collisionEnergy'\n",
       "\\item 'isolationWindowLowerMz'\n",
       "\\item 'isolationWindowTargetMz'\n",
       "\\item 'isolationWindowUpperMz'\n",
       "\\item 'MSLEVEL'\n",
       "\\item 'SOURCE\\_INSTRUMENT'\n",
       "\\item 'FILENAME'\n",
       "\\item 'SEQ'\n",
       "\\item 'IONMODE'\n",
       "\\item 'ORGANISM'\n",
       "\\item 'NAME'\n",
       "\\item 'PI'\n",
       "\\item 'DATACOLLECTOR'\n",
       "\\item 'SMILES'\n",
       "\\item 'INCHI'\n",
       "\\item 'INCHIAUX'\n",
       "\\item 'PUBMED'\n",
       "\\item 'SUBMITUSER'\n",
       "\\item 'LIBRARYQUALITY'\n",
       "\\item 'SPECTRUMID'\n",
       "\\end{enumerate*}\n"
      ],
      "text/markdown": [
       "1. 'msLevel'\n",
       "2. 'rtime'\n",
       "3. 'acquisitionNum'\n",
       "4. 'scanIndex'\n",
       "5. 'dataStorage'\n",
       "6. 'dataOrigin'\n",
       "7. 'centroided'\n",
       "8. 'smoothed'\n",
       "9. 'polarity'\n",
       "10. 'precScanNum'\n",
       "11. 'precursorMz'\n",
       "12. 'precursorIntensity'\n",
       "13. 'precursorCharge'\n",
       "14. 'collisionEnergy'\n",
       "15. 'isolationWindowLowerMz'\n",
       "16. 'isolationWindowTargetMz'\n",
       "17. 'isolationWindowUpperMz'\n",
       "18. 'MSLEVEL'\n",
       "19. 'SOURCE_INSTRUMENT'\n",
       "20. 'FILENAME'\n",
       "21. 'SEQ'\n",
       "22. 'IONMODE'\n",
       "23. 'ORGANISM'\n",
       "24. 'NAME'\n",
       "25. 'PI'\n",
       "26. 'DATACOLLECTOR'\n",
       "27. 'SMILES'\n",
       "28. 'INCHI'\n",
       "29. 'INCHIAUX'\n",
       "30. 'PUBMED'\n",
       "31. 'SUBMITUSER'\n",
       "32. 'LIBRARYQUALITY'\n",
       "33. 'SPECTRUMID'\n",
       "\n",
       "\n"
      ],
      "text/plain": [
       " [1] \"msLevel\"                 \"rtime\"                  \n",
       " [3] \"acquisitionNum\"          \"scanIndex\"              \n",
       " [5] \"dataStorage\"             \"dataOrigin\"             \n",
       " [7] \"centroided\"              \"smoothed\"               \n",
       " [9] \"polarity\"                \"precScanNum\"            \n",
       "[11] \"precursorMz\"             \"precursorIntensity\"     \n",
       "[13] \"precursorCharge\"         \"collisionEnergy\"        \n",
       "[15] \"isolationWindowLowerMz\"  \"isolationWindowTargetMz\"\n",
       "[17] \"isolationWindowUpperMz\"  \"MSLEVEL\"                \n",
       "[19] \"SOURCE_INSTRUMENT\"       \"FILENAME\"               \n",
       "[21] \"SEQ\"                     \"IONMODE\"                \n",
       "[23] \"ORGANISM\"                \"NAME\"                   \n",
       "[25] \"PI\"                      \"DATACOLLECTOR\"          \n",
       "[27] \"SMILES\"                  \"INCHI\"                  \n",
       "[29] \"INCHIAUX\"                \"PUBMED\"                 \n",
       "[31] \"SUBMITUSER\"              \"LIBRARYQUALITY\"         \n",
       "[33] \"SPECTRUMID\"             "
      ]
     },
     "metadata": {},
     "output_type": "display_data"
    }
   ],
   "source": [
    "spectraVariables(gnps_with_mz)"
   ]
  },
  {
   "cell_type": "code",
   "execution_count": null,
   "id": "a7c717f1",
   "metadata": {},
   "outputs": [],
   "source": []
  }
 ],
 "metadata": {
  "kernelspec": {
   "display_name": "R",
   "language": "R",
   "name": "ir"
  },
  "language_info": {
   "codemirror_mode": "r",
   "file_extension": ".r",
   "mimetype": "text/x-r-source",
   "name": "R",
   "pygments_lexer": "r",
   "version": "4.2.0"
  }
 },
 "nbformat": 4,
 "nbformat_minor": 5
}
