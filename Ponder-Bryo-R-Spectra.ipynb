{
 "cells": [
  {
   "cell_type": "code",
   "execution_count": 1,
   "id": "4f155f85",
   "metadata": {},
   "outputs": [],
   "source": [
    "install.packages(c(\"listenv\", \"future\"))"
   ]
  },
  {
   "cell_type": "code",
   "execution_count": 2,
   "id": "27c91d6b",
   "metadata": {},
   "outputs": [
    {
     "name": "stderr",
     "output_type": "stream",
     "text": [
      "Lade nötiges Paket: foreach\n",
      "\n",
      "Lade nötiges Paket: iterators\n",
      "\n"
     ]
    }
   ],
   "source": [
    "library(parallel)\n",
    "library(doParallel)\n",
    "library(future)\n",
    "library(iterators)\n",
    "library(listenv)\n",
    "\n",
    "options(future.globals.maxSize = 8 * 1024^3) # increase dataset size limit taken by future to 8GB\n",
    "\n",
    "# detects number of cores\n",
    "n.cores <- parallel::detectCores()\n",
    "\n",
    "\n",
    "plan(list(\n",
    "  tweak(multisession, workers = ((n.cores + 5) %/% 3) %/% 2),\n",
    "  tweak(multisession, workers = ((n.cores + 5) %/% 3) %/% 2),\n",
    "  tweak(multisession, workers = 3)\n",
    "))"
   ]
  },
  {
   "cell_type": "code",
   "execution_count": 3,
   "id": "39934507",
   "metadata": {},
   "outputs": [],
   "source": [
    "start.time <- Sys.time()"
   ]
  },
  {
   "cell_type": "code",
   "execution_count": 7,
   "id": "8d04b610",
   "metadata": {},
   "outputs": [],
   "source": [
    "# ---------- Script ----------\n",
    "# input directory\n",
    "input_dir <- getwd()\n",
    "#input_dir <- \"/Users/mahnoorzulfiqar/OneDriveUNI/MAW-data/mtbls709re\"\n",
    "#input_dir"
   ]
  },
  {
   "cell_type": "code",
   "execution_count": 8,
   "id": "11a885c3",
   "metadata": {},
   "outputs": [],
   "source": [
    "# load the functions file\n",
    "source(paste(getwd(),\"/Workflow_R_Functions.r\", sep = \"\"))\n",
    "#source(\"/Users/mahnoorzulfiqar/OneDriveUNI/MAW/R/Workflow_R_Functions.r\")"
   ]
  },
  {
   "cell_type": "code",
   "execution_count": 9,
   "id": "8d08c42a",
   "metadata": {},
   "outputs": [
    {
     "data": {
      "text/html": [
       "<table class=\"dataframe\">\n",
       "<caption>A data.frame: 1 × 3</caption>\n",
       "<thead>\n",
       "\t<tr><th scope=col>mzml_files</th><th scope=col>ResultFileNames</th><th scope=col>File_id</th></tr>\n",
       "\t<tr><th scope=col>&lt;chr&gt;</th><th scope=col>&lt;chr&gt;</th><th scope=col>&lt;chr&gt;</th></tr>\n",
       "</thead>\n",
       "<tbody>\n",
       "\t<tr><td>./pos_ms2_spectra.mzML</td><td>./pos_ms2_spectra</td><td>file_1</td></tr>\n",
       "</tbody>\n",
       "</table>\n"
      ],
      "text/latex": [
       "A data.frame: 1 × 3\n",
       "\\begin{tabular}{lll}\n",
       " mzml\\_files & ResultFileNames & File\\_id\\\\\n",
       " <chr> & <chr> & <chr>\\\\\n",
       "\\hline\n",
       "\t ./pos\\_ms2\\_spectra.mzML & ./pos\\_ms2\\_spectra & file\\_1\\\\\n",
       "\\end{tabular}\n"
      ],
      "text/markdown": [
       "\n",
       "A data.frame: 1 × 3\n",
       "\n",
       "| mzml_files &lt;chr&gt; | ResultFileNames &lt;chr&gt; | File_id &lt;chr&gt; |\n",
       "|---|---|---|\n",
       "| ./pos_ms2_spectra.mzML | ./pos_ms2_spectra | file_1 |\n",
       "\n"
      ],
      "text/plain": [
       "  mzml_files             ResultFileNames   File_id\n",
       "1 ./pos_ms2_spectra.mzML ./pos_ms2_spectra file_1 "
      ]
     },
     "metadata": {},
     "output_type": "display_data"
    }
   ],
   "source": [
    "input_table <- data.frame(ms2_rfilename(input_dir))\n",
    "input_table"
   ]
  },
  {
   "cell_type": "code",
   "execution_count": 10,
   "id": "5434c84d",
   "metadata": {},
   "outputs": [],
   "source": [
    "input_table_idxs <- listenv()"
   ]
  },
  {
   "cell_type": "code",
   "execution_count": null,
   "id": "3690a218",
   "metadata": {},
   "outputs": [],
   "source": []
  },
  {
   "cell_type": "code",
   "execution_count": null,
   "id": "bbc559e4",
   "metadata": {},
   "outputs": [],
   "source": [
    "for (i in 1:nrow(input_table)){\n",
    "    #Preprocess and Read the mzMLfiles\n",
    "    spec_pr <- spec_Processing(input_dir,\n",
    "                               input_table[i, \"mzml_files\"], \n",
    "                               input_table[i, \"ResultFileNames\"])\n",
    "    \n",
    "    #perform dereplication with all dbs\n",
    "    df_derep <- spec_dereplication_file(mzml_file = input_table[i, \"mzml_files\"],\n",
    "                                        pre_tbl = paste(input_dir, str_remove(paste(input_table[i, \"ResultFileNames\"], \"/premz_list.txt\", sep = \"\"), \".\"), sep =\"\"),\n",
    "                                        proc_mzml = paste(input_dir, str_remove(paste(input_table[i, \"ResultFileNames\"], \"/processedSpectra.mzML\", sep = \"\"), \".\"), sep =\"\"),\n",
    "                                        db = \"all\",\n",
    "                                        result_dir = input_table[i, \"ResultFileNames\"],\n",
    "                                        file_id = input_table[i, \"File_id\"],\n",
    "                                        input_dir,\n",
    "                                        no_of_candidates = 50,\n",
    "                                        ppmx = 15)\n",
    "    \n",
    "}"
   ]
  },
  {
   "cell_type": "code",
   "execution_count": null,
   "id": "5bfdf574",
   "metadata": {},
   "outputs": [],
   "source": [
    "input_table_idxs <- as.list(input_table_idxs)\n",
    "v_input_table_idxs <- future::value(input_table_idxs)"
   ]
  },
  {
   "cell_type": "code",
   "execution_count": 6,
   "id": "4ac8aa19",
   "metadata": {},
   "outputs": [],
   "source": [
    "end.time <- Sys.time()"
   ]
  },
  {
   "cell_type": "code",
   "execution_count": 17,
   "id": "abaf6ca1",
   "metadata": {},
   "outputs": [
    {
     "name": "stdout",
     "output_type": "stream",
     "text": [
      "Time difference of 2.801071 secs\n"
     ]
    }
   ],
   "source": [
    "time.taken <- end.time - start.time\n",
    "print(time.taken)"
   ]
  }
 ],
 "metadata": {
  "kernelspec": {
   "display_name": "R",
   "language": "R",
   "name": "ir"
  },
  "language_info": {
   "codemirror_mode": "r",
   "file_extension": ".r",
   "mimetype": "text/x-r-source",
   "name": "R",
   "pygments_lexer": "r",
   "version": "4.2.0"
  }
 },
 "nbformat": 4,
 "nbformat_minor": 5
}
