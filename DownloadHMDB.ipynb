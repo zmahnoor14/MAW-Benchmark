{
 "cells": [
  {
   "cell_type": "code",
   "execution_count": 1,
   "id": "1d3f661f",
   "metadata": {},
   "outputs": [
    {
     "name": "stderr",
     "output_type": "stream",
     "text": [
      "Using libcurl 7.84.0 with LibreSSL/3.3.6\n",
      "\n",
      "Lade nötiges Paket: AnnotationFilter\n",
      "\n",
      "Lade nötiges Paket: S4Vectors\n",
      "\n",
      "Lade nötiges Paket: stats4\n",
      "\n",
      "Lade nötiges Paket: BiocGenerics\n",
      "\n",
      "\n",
      "Attache Paket: ‘BiocGenerics’\n",
      "\n",
      "\n",
      "Die folgenden Objekte sind maskiert von ‘package:stats’:\n",
      "\n",
      "    IQR, mad, sd, var, xtabs\n",
      "\n",
      "\n",
      "Die folgenden Objekte sind maskiert von ‘package:base’:\n",
      "\n",
      "    Filter, Find, Map, Position, Reduce, anyDuplicated, append,\n",
      "    as.data.frame, basename, cbind, colnames, dirname, do.call,\n",
      "    duplicated, eval, evalq, get, grep, grepl, intersect, is.unsorted,\n",
      "    lapply, mapply, match, mget, order, paste, pmax, pmax.int, pmin,\n",
      "    pmin.int, rank, rbind, rownames, sapply, setdiff, sort, table,\n",
      "    tapply, union, unique, unsplit, which.max, which.min\n",
      "\n",
      "\n",
      "\n",
      "Attache Paket: ‘S4Vectors’\n",
      "\n",
      "\n",
      "Die folgenden Objekte sind maskiert von ‘package:base’:\n",
      "\n",
      "    I, expand.grid, unname\n",
      "\n",
      "\n",
      "Lade nötiges Paket: BiocParallel\n",
      "\n",
      "Lade nötiges Paket: ProtGenerics\n",
      "\n",
      "\n",
      "Attache Paket: ‘ProtGenerics’\n",
      "\n",
      "\n",
      "Das folgende Objekt ist maskiert ‘package:stats’:\n",
      "\n",
      "    smooth\n",
      "\n",
      "\n",
      "\n",
      "Attache Paket: ‘Spectra’\n",
      "\n",
      "\n",
      "Das folgende Objekt ist maskiert ‘package:ProtGenerics’:\n",
      "\n",
      "    addProcessing\n",
      "\n",
      "\n",
      "\n",
      "Attache Paket: ‘dplyr’\n",
      "\n",
      "\n",
      "Die folgenden Objekte sind maskiert von ‘package:S4Vectors’:\n",
      "\n",
      "    first, intersect, rename, setdiff, setequal, union\n",
      "\n",
      "\n",
      "Die folgenden Objekte sind maskiert von ‘package:BiocGenerics’:\n",
      "\n",
      "    combine, intersect, setdiff, union\n",
      "\n",
      "\n",
      "Die folgenden Objekte sind maskiert von ‘package:stats’:\n",
      "\n",
      "    filter, lag\n",
      "\n",
      "\n",
      "Die folgenden Objekte sind maskiert von ‘package:base’:\n",
      "\n",
      "    intersect, setdiff, setequal, union\n",
      "\n",
      "\n"
     ]
    }
   ],
   "source": [
    "library(curl)\n",
    "library(CompoundDb)\n",
    "library(Spectra)\n",
    "library(xml2)\n",
    "library(dplyr)\n",
    "library(rvest)"
   ]
  },
  {
   "cell_type": "code",
   "execution_count": 4,
   "id": "42b426dc",
   "metadata": {},
   "outputs": [],
   "source": [
    "input_dir <- \"/Users/mahnoorzulfiqar/OneDriveUNI/MAW-data/newDBs\""
   ]
  },
  {
   "cell_type": "code",
   "execution_count": 6,
   "id": "ab8cb5a5",
   "metadata": {},
   "outputs": [
    {
     "data": {
      "text/html": [
       "TRUE"
      ],
      "text/latex": [
       "TRUE"
      ],
      "text/markdown": [
       "TRUE"
      ],
      "text/plain": [
       "[1] TRUE"
      ]
     },
     "metadata": {},
     "output_type": "display_data"
    }
   ],
   "source": [
    "if (!(file.exists(paste(input_dir, \"/summaryFile-hmdb.txt\", sep = \"\")))){\n",
    "    summaryFile <- paste(input_dir, \"/summaryFile-hmdb.txt\", sep = \"\")\n",
    "    file.create(summaryFile, recursive = TRUE)\n",
    "}else{\n",
    "    summaryFile <- paste(input_dir, \"/summaryFile-hmdb.txt\", sep = \"\")\n",
    "}\n",
    "file.conn <- file(summaryFile)\n",
    "open(file.conn, open = \"at\")"
   ]
  },
  {
   "cell_type": "code",
   "execution_count": 7,
   "id": "35d03b98",
   "metadata": {},
   "outputs": [],
   "source": [
    "# extract HMDB Current version\\n\",\n",
    "html <- read_html(\"https://hmdb.ca/downloads\")\n",
    "strings <- html%>% html_elements(\"a\") %>% html_text2()\n",
    "ls <- unique(strings)\n",
    "hmdb_curr_ver <- c()\n",
    "for (i in ls){\n",
    "    if (grepl(\"Current\", i)){\n",
    "    hmdb_curr_ver<- c(i, hmdb_curr_ver)\n",
    "    }\n",
    "}"
   ]
  },
  {
   "cell_type": "code",
   "execution_count": 8,
   "id": "052f8c6b",
   "metadata": {},
   "outputs": [],
   "source": [
    "dbname <- \"CompDb.Hsapiens.HMDB.5.0.sqlite\"\n",
    "db_file <- file.path(tempdir(), dbname)\n",
    "curl_download(\n",
    "    paste0(\"https://github.com/jorainer/MetaboAnnotationTutorials/\",\n",
    "   \"releases/download/2021-11-02/\", dbname),\n",
    "    destfile = db_file)\n",
    "#' Load a CompDb database with compound annotation from HMDB\n",
    "cdb <- CompDb(db_file)\n",
    "hmdb <- Spectra(cdb)"
   ]
  },
  {
   "cell_type": "code",
   "execution_count": 9,
   "id": "84786f89",
   "metadata": {},
   "outputs": [],
   "source": [
    "hmdb$collisionEnergy <- as.numeric(hmdb$collisionEnergy)\n",
    "hmdb <- setBackend(hmdb, backend = MsBackendDataFrame())"
   ]
  },
  {
   "cell_type": "code",
   "execution_count": 10,
   "id": "a5a9cbdc",
   "metadata": {},
   "outputs": [],
   "source": [
    "save(hmdb, file = paste(input_dir,\"/hmdb.rda\", sep = \"\"))"
   ]
  },
  {
   "cell_type": "code",
   "execution_count": 11,
   "id": "52047e5a",
   "metadata": {},
   "outputs": [],
   "source": [
    "writeLines(paste(\"HMDB saved at\", Sys.time(), \"with release version\", hmdb_curr_ver, sep=\" \"),con=file.conn)"
   ]
  },
  {
   "cell_type": "code",
   "execution_count": 23,
   "id": "0fbded36",
   "metadata": {},
   "outputs": [],
   "source": [
    "close(file.conn)"
   ]
  },
  {
   "cell_type": "code",
   "execution_count": 22,
   "id": "de44bf91",
   "metadata": {},
   "outputs": [
    {
     "data": {
      "text/html": [
       "<style>\n",
       ".list-inline {list-style: none; margin:0; padding: 0}\n",
       ".list-inline>li {display: inline-block}\n",
       ".list-inline>li:not(:last-child)::after {content: \"\\00b7\"; padding: 0 .5ex}\n",
       "</style>\n",
       "<ol class=list-inline><li>'msLevel'</li><li>'rtime'</li><li>'acquisitionNum'</li><li>'scanIndex'</li><li>'dataStorage'</li><li>'dataOrigin'</li><li>'centroided'</li><li>'smoothed'</li><li>'polarity'</li><li>'precScanNum'</li><li>'precursorMz'</li><li>'precursorIntensity'</li><li>'precursorCharge'</li><li>'collisionEnergy'</li><li>'isolationWindowLowerMz'</li><li>'isolationWindowTargetMz'</li><li>'isolationWindowUpperMz'</li><li>'compound_id'</li><li>'name'</li><li>'inchi'</li><li>'inchikey'</li><li>'formula'</li><li>'exactmass'</li><li>'smiles'</li><li>'original_spectrum_id'</li><li>'predicted'</li><li>'splash'</li><li>'instrument_type'</li><li>'instrument'</li><li>'spectrum_id'</li><li>'msms_mz_range_min'</li><li>'msms_mz_range_max'</li><li>'synonym'</li></ol>\n"
      ],
      "text/latex": [
       "\\begin{enumerate*}\n",
       "\\item 'msLevel'\n",
       "\\item 'rtime'\n",
       "\\item 'acquisitionNum'\n",
       "\\item 'scanIndex'\n",
       "\\item 'dataStorage'\n",
       "\\item 'dataOrigin'\n",
       "\\item 'centroided'\n",
       "\\item 'smoothed'\n",
       "\\item 'polarity'\n",
       "\\item 'precScanNum'\n",
       "\\item 'precursorMz'\n",
       "\\item 'precursorIntensity'\n",
       "\\item 'precursorCharge'\n",
       "\\item 'collisionEnergy'\n",
       "\\item 'isolationWindowLowerMz'\n",
       "\\item 'isolationWindowTargetMz'\n",
       "\\item 'isolationWindowUpperMz'\n",
       "\\item 'compound\\_id'\n",
       "\\item 'name'\n",
       "\\item 'inchi'\n",
       "\\item 'inchikey'\n",
       "\\item 'formula'\n",
       "\\item 'exactmass'\n",
       "\\item 'smiles'\n",
       "\\item 'original\\_spectrum\\_id'\n",
       "\\item 'predicted'\n",
       "\\item 'splash'\n",
       "\\item 'instrument\\_type'\n",
       "\\item 'instrument'\n",
       "\\item 'spectrum\\_id'\n",
       "\\item 'msms\\_mz\\_range\\_min'\n",
       "\\item 'msms\\_mz\\_range\\_max'\n",
       "\\item 'synonym'\n",
       "\\end{enumerate*}\n"
      ],
      "text/markdown": [
       "1. 'msLevel'\n",
       "2. 'rtime'\n",
       "3. 'acquisitionNum'\n",
       "4. 'scanIndex'\n",
       "5. 'dataStorage'\n",
       "6. 'dataOrigin'\n",
       "7. 'centroided'\n",
       "8. 'smoothed'\n",
       "9. 'polarity'\n",
       "10. 'precScanNum'\n",
       "11. 'precursorMz'\n",
       "12. 'precursorIntensity'\n",
       "13. 'precursorCharge'\n",
       "14. 'collisionEnergy'\n",
       "15. 'isolationWindowLowerMz'\n",
       "16. 'isolationWindowTargetMz'\n",
       "17. 'isolationWindowUpperMz'\n",
       "18. 'compound_id'\n",
       "19. 'name'\n",
       "20. 'inchi'\n",
       "21. 'inchikey'\n",
       "22. 'formula'\n",
       "23. 'exactmass'\n",
       "24. 'smiles'\n",
       "25. 'original_spectrum_id'\n",
       "26. 'predicted'\n",
       "27. 'splash'\n",
       "28. 'instrument_type'\n",
       "29. 'instrument'\n",
       "30. 'spectrum_id'\n",
       "31. 'msms_mz_range_min'\n",
       "32. 'msms_mz_range_max'\n",
       "33. 'synonym'\n",
       "\n",
       "\n"
      ],
      "text/plain": [
       " [1] \"msLevel\"                 \"rtime\"                  \n",
       " [3] \"acquisitionNum\"          \"scanIndex\"              \n",
       " [5] \"dataStorage\"             \"dataOrigin\"             \n",
       " [7] \"centroided\"              \"smoothed\"               \n",
       " [9] \"polarity\"                \"precScanNum\"            \n",
       "[11] \"precursorMz\"             \"precursorIntensity\"     \n",
       "[13] \"precursorCharge\"         \"collisionEnergy\"        \n",
       "[15] \"isolationWindowLowerMz\"  \"isolationWindowTargetMz\"\n",
       "[17] \"isolationWindowUpperMz\"  \"compound_id\"            \n",
       "[19] \"name\"                    \"inchi\"                  \n",
       "[21] \"inchikey\"                \"formula\"                \n",
       "[23] \"exactmass\"               \"smiles\"                 \n",
       "[25] \"original_spectrum_id\"    \"predicted\"              \n",
       "[27] \"splash\"                  \"instrument_type\"        \n",
       "[29] \"instrument\"              \"spectrum_id\"            \n",
       "[31] \"msms_mz_range_min\"       \"msms_mz_range_max\"      \n",
       "[33] \"synonym\"                "
      ]
     },
     "metadata": {},
     "output_type": "display_data"
    }
   ],
   "source": [
    "spectraVariables(hmdb)"
   ]
  },
  {
   "cell_type": "code",
   "execution_count": 21,
   "id": "0975f316",
   "metadata": {},
   "outputs": [
    {
     "data": {
      "text/html": [
       "'[H]OC(=O)[C@@]([H])(N([H])[H])C([H])([H])C1=C([H])N(C([H])=N1)C([H])([H])[H]'"
      ],
      "text/latex": [
       "'{[}H{]}OC(=O){[}C@@{]}({[}H{]})(N({[}H{]}){[}H{]})C({[}H{]})({[}H{]})C1=C({[}H{]})N(C({[}H{]})=N1)C({[}H{]})({[}H{]}){[}H{]}'"
      ],
      "text/markdown": [
       "'[H]OC(=O)[C@@]([H])(N([H])[H])C([H])([H])C1=C([H])N(C([H])=N1)C([H])([H])[H]'"
      ],
      "text/plain": [
       "[1] \"[H]OC(=O)[C@@]([H])(N([H])[H])C([H])([H])C1=C([H])N(C([H])=N1)C([H])([H])[H]\""
      ]
     },
     "metadata": {},
     "output_type": "display_data"
    }
   ],
   "source": [
    "hmdb[1]$smiles"
   ]
  },
  {
   "cell_type": "code",
   "execution_count": null,
   "id": "d9c3742b",
   "metadata": {},
   "outputs": [],
   "source": []
  }
 ],
 "metadata": {
  "kernelspec": {
   "display_name": "R",
   "language": "R",
   "name": "ir"
  },
  "language_info": {
   "codemirror_mode": "r",
   "file_extension": ".r",
   "mimetype": "text/x-r-source",
   "name": "R",
   "pygments_lexer": "r",
   "version": "4.2.0"
  }
 },
 "nbformat": 4,
 "nbformat_minor": 5
}
