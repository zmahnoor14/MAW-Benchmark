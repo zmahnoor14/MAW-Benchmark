{
 "cells": [
  {
   "cell_type": "code",
   "execution_count": 1,
   "id": "52225002",
   "metadata": {},
   "outputs": [
    {
     "name": "stderr",
     "output_type": "stream",
     "text": [
      "Using libcurl 7.79.1 with LibreSSL/3.3.6\n",
      "\n",
      "Lade nötiges Paket: AnnotationFilter\n",
      "\n",
      "Lade nötiges Paket: S4Vectors\n",
      "\n",
      "Lade nötiges Paket: stats4\n",
      "\n",
      "Lade nötiges Paket: BiocGenerics\n",
      "\n",
      "\n",
      "Attache Paket: ‘BiocGenerics’\n",
      "\n",
      "\n",
      "Die folgenden Objekte sind maskiert von ‘package:stats’:\n",
      "\n",
      "    IQR, mad, sd, var, xtabs\n",
      "\n",
      "\n",
      "Die folgenden Objekte sind maskiert von ‘package:base’:\n",
      "\n",
      "    Filter, Find, Map, Position, Reduce, anyDuplicated, append,\n",
      "    as.data.frame, basename, cbind, colnames, dirname, do.call,\n",
      "    duplicated, eval, evalq, get, grep, grepl, intersect, is.unsorted,\n",
      "    lapply, mapply, match, mget, order, paste, pmax, pmax.int, pmin,\n",
      "    pmin.int, rank, rbind, rownames, sapply, setdiff, sort, table,\n",
      "    tapply, union, unique, unsplit, which.max, which.min\n",
      "\n",
      "\n",
      "\n",
      "Attache Paket: ‘S4Vectors’\n",
      "\n",
      "\n",
      "Die folgenden Objekte sind maskiert von ‘package:base’:\n",
      "\n",
      "    I, expand.grid, unname\n",
      "\n",
      "\n",
      "Lade nötiges Paket: BiocParallel\n",
      "\n",
      "Lade nötiges Paket: ProtGenerics\n",
      "\n",
      "\n",
      "Attache Paket: ‘ProtGenerics’\n",
      "\n",
      "\n",
      "Das folgende Objekt ist maskiert ‘package:stats’:\n",
      "\n",
      "    smooth\n",
      "\n",
      "\n",
      "\n",
      "Attache Paket: ‘Spectra’\n",
      "\n",
      "\n",
      "Das folgende Objekt ist maskiert ‘package:ProtGenerics’:\n",
      "\n",
      "    addProcessing\n",
      "\n",
      "\n",
      "\n",
      "Attache Paket: ‘dplyr’\n",
      "\n",
      "\n",
      "Die folgenden Objekte sind maskiert von ‘package:S4Vectors’:\n",
      "\n",
      "    first, intersect, rename, setdiff, setequal, union\n",
      "\n",
      "\n",
      "Die folgenden Objekte sind maskiert von ‘package:BiocGenerics’:\n",
      "\n",
      "    combine, intersect, setdiff, union\n",
      "\n",
      "\n",
      "Die folgenden Objekte sind maskiert von ‘package:stats’:\n",
      "\n",
      "    filter, lag\n",
      "\n",
      "\n",
      "Die folgenden Objekte sind maskiert von ‘package:base’:\n",
      "\n",
      "    intersect, setdiff, setequal, union\n",
      "\n",
      "\n"
     ]
    }
   ],
   "source": [
    "library(curl)\n",
    "library(CompoundDb)\n",
    "library(Spectra)\n",
    "library(xml2)\n",
    "library(dplyr)\n",
    "library(rvest)"
   ]
  },
  {
   "cell_type": "code",
   "execution_count": 2,
   "id": "d5b20227",
   "metadata": {},
   "outputs": [],
   "source": [
    "input_dir <- \"/Users/mahnoorzulfiqar/OneDriveUNI/MAW-data/newDBs\""
   ]
  },
  {
   "cell_type": "code",
   "execution_count": 3,
   "id": "7d8f06f5",
   "metadata": {},
   "outputs": [],
   "source": [
    "if (!(file.exists(paste(input_dir, \"/summaryFile.txt\", sep = \"\")))){\n",
    "    summaryFile <- paste(input_dir, \"/summaryFile.txt\", sep = \"\")\n",
    "    file.create(summaryFile, recursive = TRUE)\n",
    "}else{\n",
    "    summaryFile <- paste(input_dir, \"/summaryFile.txt\", sep = \"\")\n",
    "}\n",
    "file.conn <- file(summaryFile)\n",
    "open(file.conn, open = \"at\")"
   ]
  },
  {
   "cell_type": "code",
   "execution_count": 4,
   "id": "f0daee68",
   "metadata": {},
   "outputs": [],
   "source": [
    "####### Version Control ######\n",
    "\n",
    "# extract HMDB Current version\n",
    "html <- read_html(\"https://hmdb.ca/downloads\")\n",
    "strings <- html%>% html_elements(\"a\") %>% html_text2()\n",
    "ls <- unique(strings)\n",
    "hmdb_curr_ver <- c()\n",
    "for (i in ls){\n",
    "    if (grepl(\"Current\", i)){\n",
    "    hmdb_curr_ver<- c(i, hmdb_curr_ver)\n",
    "    }\n",
    "}"
   ]
  },
  {
   "cell_type": "code",
   "execution_count": 5,
   "id": "8064b5a5",
   "metadata": {},
   "outputs": [
    {
     "data": {
      "text/html": [
       "'Current Version (5.0)'"
      ],
      "text/latex": [
       "'Current Version (5.0)'"
      ],
      "text/markdown": [
       "'Current Version (5.0)'"
      ],
      "text/plain": [
       "[1] \"Current Version (5.0)\""
      ]
     },
     "metadata": {},
     "output_type": "display_data"
    }
   ],
   "source": [
    "hmdb_curr_ver"
   ]
  },
  {
   "cell_type": "code",
   "execution_count": 6,
   "id": "acc61ce8",
   "metadata": {},
   "outputs": [],
   "source": [
    "dbname <- \"CompDb.Hsapiens.HMDB.5.0.sqlite\"\n",
    "db_file <- file.path(tempdir(), dbname)\n",
    "curl_download(\n",
    "    paste0(\"https://github.com/jorainer/MetaboAnnotationTutorials/\",\n",
    "   \"releases/download/2021-11-02/\", dbname),\n",
    "    destfile = db_file)\n",
    "#' Load a CompDb database with compound annotation from HMDB\n",
    "cdb <- CompDb(db_file)\n",
    "hmdb <- Spectra(cdb)\n",
    "save(hmdb, file = paste(input_dir,\"/hmdb.rda\", sep = \"\"))\n",
    "writeLines(paste(\"HMDB saved at\", Sys.time(), \"with release version\", hmdb_curr_ver, sep=\" \"),con=file.conn)"
   ]
  },
  {
   "cell_type": "code",
   "execution_count": 7,
   "id": "a07a485e",
   "metadata": {},
   "outputs": [
    {
     "data": {
      "text/plain": [
       "MSn data (Spectra) with 64920 spectra in a MsBackendCompDb backend:\n",
       "        msLevel precursorMz  polarity\n",
       "      <integer>   <numeric> <integer>\n",
       "1            NA          NA         1\n",
       "2            NA          NA         1\n",
       "3            NA          NA         1\n",
       "4            NA          NA         1\n",
       "5            NA          NA         1\n",
       "...         ...         ...       ...\n",
       "64916        NA          NA         0\n",
       "64917        NA          NA         0\n",
       "64918        NA          NA         0\n",
       "64919        NA          NA         0\n",
       "64920        NA          NA         1\n",
       " ... 32 more variables/columns.\n",
       " Use  'spectraVariables' to list all of them.\n",
       " data source: HMDB \n",
       " version: 5.0 \n",
       " organism: Hsapiens "
      ]
     },
     "metadata": {},
     "output_type": "display_data"
    }
   ],
   "source": [
    "hmdb"
   ]
  },
  {
   "cell_type": "code",
   "execution_count": null,
   "id": "ff3c8a4a",
   "metadata": {},
   "outputs": [],
   "source": []
  }
 ],
 "metadata": {
  "kernelspec": {
   "display_name": "R",
   "language": "R",
   "name": "ir"
  },
  "language_info": {
   "codemirror_mode": "r",
   "file_extension": ".r",
   "mimetype": "text/x-r-source",
   "name": "R",
   "pygments_lexer": "r",
   "version": "4.2.0"
  }
 },
 "nbformat": 4,
 "nbformat_minor": 5
}
