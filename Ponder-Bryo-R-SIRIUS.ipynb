{
 "cells": [
  {
   "cell_type": "code",
   "execution_count": null,
   "id": "2eb52401",
   "metadata": {},
   "outputs": [],
   "source": [
    "#install.packages(c(\"listenv\", \"future\"))"
   ]
  },
  {
   "cell_type": "code",
   "execution_count": 1,
   "id": "1781c880",
   "metadata": {},
   "outputs": [
    {
     "name": "stderr",
     "output_type": "stream",
     "text": [
      "Lade nötiges Paket: foreach\n",
      "\n",
      "Lade nötiges Paket: iterators\n",
      "\n"
     ]
    }
   ],
   "source": [
    "\n",
    "library(parallel)\n",
    "library(doParallel)\n",
    "library(future)\n",
    "library(iterators)\n",
    "library(listenv)\n",
    "\n",
    "options(future.globals.maxSize = 8 * 1024^3) # increase dataset size limit taken by future to 8GB\n",
    "\n",
    "# detects number of cores\n",
    "n.cores <- parallel::detectCores()\n",
    "\n",
    "\n",
    "plan(list(\n",
    "  tweak(multisession, workers = ((n.cores + 5) %/% 3) %/% 2),\n",
    "  tweak(multisession, workers = ((n.cores + 5) %/% 3) %/% 2),\n",
    "  tweak(multisession, workers = 3)\n",
    "))\n"
   ]
  },
  {
   "cell_type": "code",
   "execution_count": 2,
   "id": "39934507",
   "metadata": {},
   "outputs": [],
   "source": [
    "start.time <- Sys.time()"
   ]
  },
  {
   "cell_type": "code",
   "execution_count": 3,
   "id": "8d04b610",
   "metadata": {},
   "outputs": [],
   "source": [
    "# ---------- Script ----------\n",
    "# input directory\n",
    "#input_dir <- getwd()\n",
    "input_dir <- \"/Users/mahnoorzulfiqar/OneDriveUNI/MAW-data/mtbls709re\"\n",
    "#input_dir"
   ]
  },
  {
   "cell_type": "code",
   "execution_count": 4,
   "id": "11a885c3",
   "metadata": {},
   "outputs": [
    {
     "name": "stderr",
     "output_type": "stream",
     "text": [
      "Lade nötiges Paket: S4Vectors\n",
      "\n",
      "Lade nötiges Paket: stats4\n",
      "\n",
      "Lade nötiges Paket: BiocGenerics\n",
      "\n",
      "\n",
      "Attache Paket: ‘BiocGenerics’\n",
      "\n",
      "\n",
      "Die folgenden Objekte sind maskiert von ‘package:stats’:\n",
      "\n",
      "    IQR, mad, sd, var, xtabs\n",
      "\n",
      "\n",
      "Die folgenden Objekte sind maskiert von ‘package:base’:\n",
      "\n",
      "    Filter, Find, Map, Position, Reduce, anyDuplicated, append,\n",
      "    as.data.frame, basename, cbind, colnames, dirname, do.call,\n",
      "    duplicated, eval, evalq, get, grep, grepl, intersect, is.unsorted,\n",
      "    lapply, mapply, match, mget, order, paste, pmax, pmax.int, pmin,\n",
      "    pmin.int, rank, rbind, rownames, sapply, setdiff, sort, table,\n",
      "    tapply, union, unique, unsplit, which.max, which.min\n",
      "\n",
      "\n",
      "\n",
      "Attache Paket: ‘S4Vectors’\n",
      "\n",
      "\n",
      "Das folgende Objekt ist maskiert ‘package:future’:\n",
      "\n",
      "    values\n",
      "\n",
      "\n",
      "Die folgenden Objekte sind maskiert von ‘package:base’:\n",
      "\n",
      "    I, expand.grid, unname\n",
      "\n",
      "\n",
      "Lade nötiges Paket: BiocParallel\n",
      "\n",
      "Lade nötiges Paket: ProtGenerics\n",
      "\n",
      "\n",
      "Attache Paket: ‘ProtGenerics’\n",
      "\n",
      "\n",
      "Das folgende Objekt ist maskiert ‘package:stats’:\n",
      "\n",
      "    smooth\n",
      "\n",
      "\n",
      "\n",
      "Attache Paket: ‘Spectra’\n",
      "\n",
      "\n",
      "Das folgende Objekt ist maskiert ‘package:ProtGenerics’:\n",
      "\n",
      "    addProcessing\n",
      "\n",
      "\n",
      "\n",
      "Attache Paket: ‘MsCoreUtils’\n",
      "\n",
      "\n",
      "Die folgenden Objekte sind maskiert von ‘package:Spectra’:\n",
      "\n",
      "    bin, smooth\n",
      "\n",
      "\n",
      "Die folgenden Objekte sind maskiert von ‘package:ProtGenerics’:\n",
      "\n",
      "    bin, smooth\n",
      "\n",
      "\n",
      "Das folgende Objekt ist maskiert ‘package:stats’:\n",
      "\n",
      "    smooth\n",
      "\n",
      "\n",
      "\n",
      "Attache Paket: ‘dplyr’\n",
      "\n",
      "\n",
      "Das folgende Objekt ist maskiert ‘package:MsCoreUtils’:\n",
      "\n",
      "    between\n",
      "\n",
      "\n",
      "Die folgenden Objekte sind maskiert von ‘package:S4Vectors’:\n",
      "\n",
      "    first, intersect, rename, setdiff, setequal, union\n",
      "\n",
      "\n",
      "Die folgenden Objekte sind maskiert von ‘package:BiocGenerics’:\n",
      "\n",
      "    combine, intersect, setdiff, union\n",
      "\n",
      "\n",
      "Die folgenden Objekte sind maskiert von ‘package:stats’:\n",
      "\n",
      "    filter, lag\n",
      "\n",
      "\n",
      "Die folgenden Objekte sind maskiert von ‘package:base’:\n",
      "\n",
      "    intersect, setdiff, setequal, union\n",
      "\n",
      "\n",
      "\n",
      "Attache Paket: ‘rvest’\n",
      "\n",
      "\n",
      "Das folgende Objekt ist maskiert ‘package:readr’:\n",
      "\n",
      "    guess_encoding\n",
      "\n",
      "\n",
      "Lade nötiges Paket: Rcpp\n",
      "\n",
      "Using libcurl 7.79.1 with LibreSSL/3.3.6\n",
      "\n",
      "\n",
      "Attache Paket: ‘curl’\n",
      "\n",
      "\n",
      "Das folgende Objekt ist maskiert ‘package:readr’:\n",
      "\n",
      "    parse_date\n",
      "\n",
      "\n"
     ]
    }
   ],
   "source": [
    "# load the functions file\n",
    "#source(paste(getwd(),\"/Workflow_R_Functions.r\", sep = \"\"))\n",
    "source(\"/Users/mahnoorzulfiqar/OneDriveUNI/MAW/R/Workflow_R_Functions.r\")"
   ]
  },
  {
   "cell_type": "code",
   "execution_count": 5,
   "id": "4441d59d",
   "metadata": {},
   "outputs": [
    {
     "data": {
      "text/html": [
       "<table class=\"dataframe\">\n",
       "<caption>A data.frame: 1 × 3</caption>\n",
       "<thead>\n",
       "\t<tr><th scope=col>mzml_files</th><th scope=col>ResultFileNames</th><th scope=col>File_id</th></tr>\n",
       "\t<tr><th scope=col>&lt;chr&gt;</th><th scope=col>&lt;chr&gt;</th><th scope=col>&lt;chr&gt;</th></tr>\n",
       "</thead>\n",
       "<tbody>\n",
       "\t<tr><td>./pos_ms2_spectra.mzML</td><td>./pos_ms2_spectra</td><td>file_1</td></tr>\n",
       "</tbody>\n",
       "</table>\n"
      ],
      "text/latex": [
       "A data.frame: 1 × 3\n",
       "\\begin{tabular}{lll}\n",
       " mzml\\_files & ResultFileNames & File\\_id\\\\\n",
       " <chr> & <chr> & <chr>\\\\\n",
       "\\hline\n",
       "\t ./pos\\_ms2\\_spectra.mzML & ./pos\\_ms2\\_spectra & file\\_1\\\\\n",
       "\\end{tabular}\n"
      ],
      "text/markdown": [
       "\n",
       "A data.frame: 1 × 3\n",
       "\n",
       "| mzml_files &lt;chr&gt; | ResultFileNames &lt;chr&gt; | File_id &lt;chr&gt; |\n",
       "|---|---|---|\n",
       "| ./pos_ms2_spectra.mzML | ./pos_ms2_spectra | file_1 |\n",
       "\n"
      ],
      "text/plain": [
       "  mzml_files             ResultFileNames   File_id\n",
       "1 ./pos_ms2_spectra.mzML ./pos_ms2_spectra file_1 "
      ]
     },
     "metadata": {},
     "output_type": "display_data"
    }
   ],
   "source": [
    "input_table <- data.frame(ms2_rfilename(input_dir))\n",
    "input_table"
   ]
  },
  {
   "cell_type": "code",
   "execution_count": 6,
   "id": "5e90dcd9",
   "metadata": {},
   "outputs": [],
   "source": [
    "input_table_idxs <- listenv()"
   ]
  },
  {
   "cell_type": "code",
   "execution_count": 7,
   "id": "4c7c8208",
   "metadata": {},
   "outputs": [],
   "source": [
    "for (i in 1:nrow(input_table)){\n",
    "    input_table_idxs[[i]] <- future({\n",
    "    #Preprocess and Read the mzMLfiles\n",
    "    spec_pr <- spec_Processing(input_dir,\n",
    "                               input_table[i, \"mzml_files\"],\n",
    "                               input_table[i, \"ResultFileNames\"])\n",
    "\n",
    "    # Extract MS2 peak lists\n",
    "    spec_pr2 <- ms2_peaks(pre_tbl = paste(input_dir, str_remove(paste(input_table[i, \"ResultFileNames\"], \"/premz_list.txt\", sep = \"\"), \".\"), sep =\"\"),\n",
    "                          proc_mzml = paste(input_dir, str_remove(paste(input_table[i, \"ResultFileNames\"], \"/processedSpectra.mzML\", sep = \"\"), \".\"), sep =\"\"),\n",
    "                          input_dir,\n",
    "                          result_dir = input_table[i, \"ResultFileNames\"],\n",
    "                         file_id = input_table[i, \"File_id\"])\n",
    "\n",
    "    # Extract MS1 peaks or isotopic peaks\n",
    "    ms1p <- ms1_peaks(x = paste(input_dir, str_remove(paste(input_table[i, \"ResultFileNames\"],'/insilico/MS2DATA.csv', sep = \"\"), \".\"), sep =\"\"),\n",
    "                      y = NA,\n",
    "                      input_table[i, \"ResultFileNames\"],\n",
    "                      input_dir,\n",
    "                      QCfile = FALSE)\n",
    "\n",
    "    #prepare sirius parameter files\n",
    "    sirius_param_files <- sirius_param(x = paste(input_dir, str_remove(paste(input_table[i, \"ResultFileNames\"],'/insilico/MS1DATA.csv', sep = \"\"), \".\"), sep =\"\"),\n",
    "                                       result_dir = input_table[i, 'ResultFileNames'],\n",
    "                                       input_dir,\n",
    "                                       SL = FALSE)\n",
    "\n",
    "\n",
    "    # Run sirius\n",
    "    run_sirius(files = paste(input_dir, str_remove(paste(input_table[i, \"ResultFileNames\"],'/insilico/MS1DATA_SiriusP.tsv', sep = \"\"), \".\"), sep =\"\"),\n",
    "               ppm_max = 5,\n",
    "               ppm_max_ms2 = 15,\n",
    "               QC = FALSE,\n",
    "               SL = FALSE,\n",
    "               SL_path = NA,\n",
    "               candidates = 30,\n",
    "              profile = \"qtof\")\n",
    "\n",
    "   }) #end input_table_idxs future\n",
    "}\n"
   ]
  },
  {
   "cell_type": "code",
   "execution_count": null,
   "id": "393518a6",
   "metadata": {},
   "outputs": [],
   "source": [
    "input_table_idxs <- as.list(input_table_idxs)\n",
    "v_input_table_idxs <- future::value(input_table_idxs)"
   ]
  },
  {
   "cell_type": "code",
   "execution_count": null,
   "id": "4ac8aa19",
   "metadata": {},
   "outputs": [],
   "source": [
    "end.time <- Sys.time()"
   ]
  },
  {
   "cell_type": "code",
   "execution_count": null,
   "id": "abaf6ca1",
   "metadata": {},
   "outputs": [],
   "source": [
    "time.taken <- end.time - start.time\n",
    "print(time.taken)"
   ]
  },
  {
   "cell_type": "code",
   "execution_count": null,
   "id": "d5c8dad0",
   "metadata": {},
   "outputs": [],
   "source": []
  },
  {
   "cell_type": "code",
   "execution_count": null,
   "id": "cf763c07",
   "metadata": {},
   "outputs": [],
   "source": []
  }
 ],
 "metadata": {
  "kernelspec": {
   "display_name": "R",
   "language": "R",
   "name": "ir"
  },
  "language_info": {
   "codemirror_mode": "r",
   "file_extension": ".r",
   "mimetype": "text/x-r-source",
   "name": "R",
   "pygments_lexer": "r",
   "version": "4.2.0"
  }
 },
 "nbformat": 4,
 "nbformat_minor": 5
}
