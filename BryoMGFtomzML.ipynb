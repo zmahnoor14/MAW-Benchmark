{
 "cells": [
  {
   "cell_type": "code",
   "execution_count": 1,
   "id": "a15bf256",
   "metadata": {},
   "outputs": [],
   "source": [
    "start.time <- Sys.time()"
   ]
  },
  {
   "cell_type": "code",
   "execution_count": 5,
   "id": "9b4dbb1b",
   "metadata": {},
   "outputs": [
    {
     "data": {
      "text/html": [
       "'/Users/mahnoorzulfiqar/OneDriveUNI/MAW-data/mtbls709re'"
      ],
      "text/latex": [
       "'/Users/mahnoorzulfiqar/OneDriveUNI/MAW-data/mtbls709re'"
      ],
      "text/markdown": [
       "'/Users/mahnoorzulfiqar/OneDriveUNI/MAW-data/mtbls709re'"
      ],
      "text/plain": [
       "[1] \"/Users/mahnoorzulfiqar/OneDriveUNI/MAW-data/mtbls709re\""
      ]
     },
     "metadata": {},
     "output_type": "display_data"
    }
   ],
   "source": [
    "# ---------- Script ----------\n",
    "# input directory\n",
    "input_dir <- getwd()\n",
    "input_dir"
   ]
  },
  {
   "cell_type": "code",
   "execution_count": 9,
   "id": "cfa44d2c",
   "metadata": {
    "scrolled": true
   },
   "outputs": [],
   "source": [
    "# load the functions file\n",
    "source(\"/Users/mahnoorzulfiqar/OneDriveUNI/MAW/R/Workflow_R_Functions.r\")"
   ]
  },
  {
   "cell_type": "code",
   "execution_count": 6,
   "id": "f08d4d85",
   "metadata": {},
   "outputs": [
    {
     "name": "stderr",
     "output_type": "stream",
     "text": [
      "Start data import from 1 files ... \n",
      "done\n",
      "\n"
     ]
    }
   ],
   "source": [
    "#' Import the data\n",
    "sps_all <- Spectra(\"/Users/mahnoorzulfiqar/OneDriveUNI/MAW-data/mtbls709re/pos_ms2_spectra.mgf\", source = MsBackendMgf())"
   ]
  },
  {
   "cell_type": "code",
   "execution_count": 7,
   "id": "bb68590d",
   "metadata": {},
   "outputs": [
    {
     "name": "stderr",
     "output_type": "stream",
     "text": [
      "R_zmq_msg_send errno: 4 strerror: Interrupted system call\n",
      "R_zmq_msg_send errno: 4 strerror: Interrupted system call\n",
      "\n",
      "\n"
     ]
    }
   ],
   "source": [
    "export(sps_all, backend = MsBackendMzR(), file = \"/Users/mahnoorzulfiqar/OneDriveUNI/MAW-data/mtbls709re/pos_ms2_spectra.mzML\")"
   ]
  },
  {
   "cell_type": "code",
   "execution_count": 8,
   "id": "263582b6",
   "metadata": {},
   "outputs": [
    {
     "data": {
      "text/plain": [
       "MSn data (Spectra) with 933 spectra in a MsBackendMzR backend:\n",
       "      msLevel     rtime scanIndex\n",
       "    <integer> <numeric> <integer>\n",
       "1           2  737.5481         1\n",
       "2           2  724.0025         2\n",
       "3           2   30.5731         3\n",
       "4           2   49.7054         4\n",
       "5           2  723.9392         5\n",
       "...       ...       ...       ...\n",
       "929         2  1004.310       929\n",
       "930         2   940.602       930\n",
       "931         2   959.586       931\n",
       "932         2   612.805       932\n",
       "933         2   598.851       933\n",
       " ... 33 more variables/columns.\n",
       "\n",
       "file(s):\n",
       "pos_ms2_spectra.mzML"
      ]
     },
     "metadata": {},
     "output_type": "display_data"
    }
   ],
   "source": [
    "Spectra(\"/Users/mahnoorzulfiqar/OneDriveUNI/MAW-data/mtbls709re/pos_ms2_spectra.mzML\", source = MsBackendMzR())"
   ]
  },
  {
   "cell_type": "code",
   "execution_count": 15,
   "id": "81ba66b6",
   "metadata": {},
   "outputs": [
    {
     "data": {
      "text/html": [
       "<table class=\"dataframe\">\n",
       "<caption>A data.frame: 1 × 3</caption>\n",
       "<thead>\n",
       "\t<tr><th scope=col>mzml_files</th><th scope=col>ResultFileNames</th><th scope=col>File_id</th></tr>\n",
       "\t<tr><th scope=col>&lt;chr&gt;</th><th scope=col>&lt;chr&gt;</th><th scope=col>&lt;chr&gt;</th></tr>\n",
       "</thead>\n",
       "<tbody>\n",
       "\t<tr><td>./pos_ms2_spectra.mzML</td><td>./pos_ms2_spectra</td><td>file_1</td></tr>\n",
       "</tbody>\n",
       "</table>\n"
      ],
      "text/latex": [
       "A data.frame: 1 × 3\n",
       "\\begin{tabular}{lll}\n",
       " mzml\\_files & ResultFileNames & File\\_id\\\\\n",
       " <chr> & <chr> & <chr>\\\\\n",
       "\\hline\n",
       "\t ./pos\\_ms2\\_spectra.mzML & ./pos\\_ms2\\_spectra & file\\_1\\\\\n",
       "\\end{tabular}\n"
      ],
      "text/markdown": [
       "\n",
       "A data.frame: 1 × 3\n",
       "\n",
       "| mzml_files &lt;chr&gt; | ResultFileNames &lt;chr&gt; | File_id &lt;chr&gt; |\n",
       "|---|---|---|\n",
       "| ./pos_ms2_spectra.mzML | ./pos_ms2_spectra | file_1 |\n",
       "\n"
      ],
      "text/plain": [
       "  mzml_files             ResultFileNames   File_id\n",
       "1 ./pos_ms2_spectra.mzML ./pos_ms2_spectra file_1 "
      ]
     },
     "metadata": {},
     "output_type": "display_data"
    }
   ],
   "source": [
    "input_table <- data.frame(ms2_rfilename(input_dir))\n",
    "input_table"
   ]
  },
  {
   "cell_type": "code",
   "execution_count": null,
   "id": "f421f66c",
   "metadata": {},
   "outputs": [],
   "source": [
    "for (i in 1:nrow(input_table)){\n",
    "    \n",
    "    #Preprocess and Read the mzMLfiles\n",
    "    spec_pr <- spec_Processing(input_dir,\n",
    "                               input_table[i, \"mzml_files\"], \n",
    "                               input_table[i, \"ResultFileNames\"])\n",
    "    \n",
    "    # Extract MS2 peak lists\n",
    "    spec_pr2 <- ms2_peaks(pre_tbl = paste(input_dir, str_remove(paste(input_table[i, \"ResultFileNames\"], \"/premz_list.txt\", sep = \"\"), \".\"), sep =\"\"), \n",
    "                          proc_mzml = paste(input_dir, str_remove(paste(input_table[i, \"ResultFileNames\"], \"/processedSpectra.mzML\", sep = \"\"), \".\"), sep =\"\"),\n",
    "                          input_dir,\n",
    "                          result_dir = input_table[i, \"ResultFileNames\"],\n",
    "                         file_id = input_table[i, \"File_id\"])\n",
    "    \n",
    "    # camera results for isotopes\n",
    "#     cam_res <- cam_func(input_dir,\n",
    "#                         f = input_table[i, \"mzml_files\"], \n",
    "#                         ms2features = paste(input_dir, str_remove(paste(input_table[i, \"ResultFileNames\"], \"/insilico/MS2DATA.csv\", sep = \"\"), \".\"), sep = \"\"))\n",
    "    \n",
    "    # Extract MS1 peaks or isotopic peaks\n",
    "    ms1p <- ms1_peaks(x = paste(input_dir, str_remove(paste(input_table[i, \"ResultFileNames\"],'/insilico/MS2DATA.csv', sep = \"\"), \".\"), sep =\"\"), \n",
    "                      y = NA, \n",
    "                      input_table[i, \"ResultFileNames\"], \n",
    "                      input_dir, \n",
    "                      QCfile = FALSE)\n",
    "    \n",
    "    #prepare sirius parameter files\n",
    "    sirius_param_files <- sirius_param(x = paste(input_dir, str_remove(paste(input_table[i, \"ResultFileNames\"],'/insilico/MS1DATA.csv', sep = \"\"), \".\"), sep =\"\"), \n",
    "                                       result_dir = input_table[i, 'ResultFileNames'], \n",
    "                                       input_dir,\n",
    "                                       SL = FALSE)\n",
    "    \n",
    "    \n",
    "    # Run sirius\n",
    "    run_sirius(files = paste(input_dir, str_remove(paste(input_table[i, \"ResultFileNames\"],'/insilico/MS1DATA_SiriusP.tsv', sep = \"\"), \".\"), sep =\"\"), \n",
    "               ppm_max = 5, \n",
    "               ppm_max_ms2 = 15, \n",
    "               QC = TRUE, \n",
    "               SL = FALSE, \n",
    "               SL_path = NA,\n",
    "               candidates = 30,\n",
    "              profile = \"qtof\")\n",
    "}"
   ]
  },
  {
   "cell_type": "code",
   "execution_count": null,
   "id": "31e46ffb",
   "metadata": {},
   "outputs": [],
   "source": [
    "end.time <- Sys.time()"
   ]
  },
  {
   "cell_type": "code",
   "execution_count": null,
   "id": "7d89e834",
   "metadata": {},
   "outputs": [],
   "source": [
    "time.taken <- end.time - start.time\n",
    "print(time.taken)"
   ]
  }
 ],
 "metadata": {
  "kernelspec": {
   "display_name": "R",
   "language": "R",
   "name": "ir"
  },
  "language_info": {
   "codemirror_mode": "r",
   "file_extension": ".r",
   "mimetype": "text/x-r-source",
   "name": "R",
   "pygments_lexer": "r",
   "version": "4.2.0"
  }
 },
 "nbformat": 4,
 "nbformat_minor": 5
}
