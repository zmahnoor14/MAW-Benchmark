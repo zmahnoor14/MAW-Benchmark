{
 "cells": [
  {
   "cell_type": "code",
   "execution_count": 1,
   "id": "e1c52d5d",
   "metadata": {},
   "outputs": [
    {
     "name": "stderr",
     "output_type": "stream",
     "text": [
      "INFO:rdkit:Enabling RDKit 2021.09.4 jupyter extensions\n"
     ]
    }
   ],
   "source": [
    "# import the function file\n",
    "from Workflow_Python_Functions import *"
   ]
  },
  {
   "cell_type": "code",
   "execution_count": 2,
   "id": "3988b57c",
   "metadata": {},
   "outputs": [],
   "source": [
    "input_dir = os.getcwd()"
   ]
  },
  {
   "cell_type": "code",
   "execution_count": 7,
   "id": "b03a3bb8",
   "metadata": {},
   "outputs": [
    {
     "name": "stdout",
     "output_type": "stream",
     "text": [
      "__pycache__\n",
      "DS_201124_SC_full_PRM_neg_01\n",
      "['/Users/mahnoorzulfiqar/OneDriveUNI/GitHub-Repos/MAW-Benchmark/DS_201124_SC_full_PRM_neg_01/insilico/SIRIUS/1_NA_iso_NA_MS1p_459.064605712891_SIRIUS_param.json', '/Users/mahnoorzulfiqar/OneDriveUNI/GitHub-Repos/MAW-Benchmark/DS_201124_SC_full_PRM_neg_01/insilico/SIRIUS/1_NA_iso_NA_MS1p_459.064605712891_SIRIUS_paramSList.json']\n",
      "['/Users/mahnoorzulfiqar/OneDriveUNI/GitHub-Repos/MAW-Benchmark/DS_201124_SC_full_PRM_neg_01/insilico/SIRIUS/2_NA_iso_NA_MS1p_340.876068115234_SIRIUS_param.json', '/Users/mahnoorzulfiqar/OneDriveUNI/GitHub-Repos/MAW-Benchmark/DS_201124_SC_full_PRM_neg_01/insilico/SIRIUS/2_NA_iso_NA_MS1p_340.876068115234_SIRIUS_paramSList.json']\n",
      "['/Users/mahnoorzulfiqar/OneDriveUNI/GitHub-Repos/MAW-Benchmark/DS_201124_SC_full_PRM_neg_01/insilico/SIRIUS/3_NA_iso_MS1p_237.911437988281_SIRIUS_paramSList.json', '/Users/mahnoorzulfiqar/OneDriveUNI/GitHub-Repos/MAW-Benchmark/DS_201124_SC_full_PRM_neg_01/insilico/SIRIUS/3_NA_iso_MS1p_237.911437988281_SIRIUS_param.json']\n",
      "['/Users/mahnoorzulfiqar/OneDriveUNI/GitHub-Repos/MAW-Benchmark/DS_201124_SC_full_PRM_neg_01/insilico/SIRIUS/4_NA_iso_NA_MS1p_388.841735839844_SIRIUS_param.json', '/Users/mahnoorzulfiqar/OneDriveUNI/GitHub-Repos/MAW-Benchmark/DS_201124_SC_full_PRM_neg_01/insilico/SIRIUS/4_NA_iso_NA_MS1p_388.841735839844_SIRIUS_paramSList.json']\n",
      "['/Users/mahnoorzulfiqar/OneDriveUNI/GitHub-Repos/MAW-Benchmark/DS_201124_SC_full_PRM_neg_01/insilico/SIRIUS/5_NA_iso_NA_MS1p_435.855743408203_SIRIUS_paramSList.json', '/Users/mahnoorzulfiqar/OneDriveUNI/GitHub-Repos/MAW-Benchmark/DS_201124_SC_full_PRM_neg_01/insilico/SIRIUS/5_NA_iso_NA_MS1p_435.855743408203_SIRIUS_param.json']\n",
      "['/Users/mahnoorzulfiqar/OneDriveUNI/GitHub-Repos/MAW-Benchmark/DS_201124_SC_full_PRM_neg_01/insilico/SIRIUS/6_NA_iso_NA_MS1p_491.319702148438_SIRIUS_paramSList.json', '/Users/mahnoorzulfiqar/OneDriveUNI/GitHub-Repos/MAW-Benchmark/DS_201124_SC_full_PRM_neg_01/insilico/SIRIUS/6_NA_iso_NA_MS1p_491.319702148438_SIRIUS_param.json']\n",
      "['/Users/mahnoorzulfiqar/OneDriveUNI/GitHub-Repos/MAW-Benchmark/DS_201124_SC_full_PRM_neg_01/insilico/SIRIUS/7_NA_iso_NA_MS1p_575.434936523438_SIRIUS_param.json', '/Users/mahnoorzulfiqar/OneDriveUNI/GitHub-Repos/MAW-Benchmark/DS_201124_SC_full_PRM_neg_01/insilico/SIRIUS/7_NA_iso_NA_MS1p_575.434936523438_SIRIUS_paramSList.json']\n",
      "['/Users/mahnoorzulfiqar/OneDriveUNI/GitHub-Repos/MAW-Benchmark/DS_201124_SC_full_PRM_neg_01/insilico/SIRIUS/8_NA_iso_NA_MS1p_588.429931640625_SIRIUS_param.json', '/Users/mahnoorzulfiqar/OneDriveUNI/GitHub-Repos/MAW-Benchmark/DS_201124_SC_full_PRM_neg_01/insilico/SIRIUS/8_NA_iso_NA_MS1p_588.429931640625_SIRIUS_paramSList.json']\n",
      "['/Users/mahnoorzulfiqar/OneDriveUNI/GitHub-Repos/MAW-Benchmark/DS_201124_SC_full_PRM_neg_01/insilico/SIRIUS/9_NA_iso_NA_MS1p_315.833709716797_SIRIUS_paramSList.json', '/Users/mahnoorzulfiqar/OneDriveUNI/GitHub-Repos/MAW-Benchmark/DS_201124_SC_full_PRM_neg_01/insilico/SIRIUS/9_NA_iso_NA_MS1p_315.833709716797_SIRIUS_param.json']\n",
      "['/Users/mahnoorzulfiqar/OneDriveUNI/GitHub-Repos/MAW-Benchmark/DS_201124_SC_full_PRM_neg_01/insilico/SIRIUS/10_NA_iso_NA_MS1p_672.487854003906_SIRIUS_param.json', '/Users/mahnoorzulfiqar/OneDriveUNI/GitHub-Repos/MAW-Benchmark/DS_201124_SC_full_PRM_neg_01/insilico/SIRIUS/10_NA_iso_NA_MS1p_672.487854003906_SIRIUS_paramSList.json']\n",
      "['/Users/mahnoorzulfiqar/OneDriveUNI/GitHub-Repos/MAW-Benchmark/DS_201124_SC_full_PRM_neg_01/insilico/SIRIUS/11_NA_iso_MS1p_335.902221679688_SIRIUS_paramSList.json', '/Users/mahnoorzulfiqar/OneDriveUNI/GitHub-Repos/MAW-Benchmark/DS_201124_SC_full_PRM_neg_01/insilico/SIRIUS/11_NA_iso_MS1p_335.902221679688_SIRIUS_param.json']\n",
      "['/Users/mahnoorzulfiqar/OneDriveUNI/GitHub-Repos/MAW-Benchmark/DS_201124_SC_full_PRM_neg_01/insilico/SIRIUS/12_NA_iso_MS1p_691.455688476563_SIRIUS_param.json', '/Users/mahnoorzulfiqar/OneDriveUNI/GitHub-Repos/MAW-Benchmark/DS_201124_SC_full_PRM_neg_01/insilico/SIRIUS/12_NA_iso_MS1p_691.455688476563_SIRIUS_paramSList.json']\n",
      "['/Users/mahnoorzulfiqar/OneDriveUNI/GitHub-Repos/MAW-Benchmark/DS_201124_SC_full_PRM_neg_01/insilico/SIRIUS/13_NA_iso_MS1p_220.853302001953_SIRIUS_param.json', '/Users/mahnoorzulfiqar/OneDriveUNI/GitHub-Repos/MAW-Benchmark/DS_201124_SC_full_PRM_neg_01/insilico/SIRIUS/13_NA_iso_MS1p_220.853302001953_SIRIUS_paramSList.json']\n",
      "['/Users/mahnoorzulfiqar/OneDriveUNI/GitHub-Repos/MAW-Benchmark/DS_201124_SC_full_PRM_neg_01/insilico/SIRIUS/14_iso_MS1p_767.486450195313_SIRIUS_param.json', '/Users/mahnoorzulfiqar/OneDriveUNI/GitHub-Repos/MAW-Benchmark/DS_201124_SC_full_PRM_neg_01/insilico/SIRIUS/14_iso_MS1p_767.486450195313_SIRIUS_paramSList.json']\n",
      "['/Users/mahnoorzulfiqar/OneDriveUNI/GitHub-Repos/MAW-Benchmark/DS_201124_SC_full_PRM_neg_01/insilico/SIRIUS/15_NA_iso_MS1p_453.225891113281_SIRIUS_param.json', '/Users/mahnoorzulfiqar/OneDriveUNI/GitHub-Repos/MAW-Benchmark/DS_201124_SC_full_PRM_neg_01/insilico/SIRIUS/15_NA_iso_MS1p_453.225891113281_SIRIUS_paramSList.json']\n",
      "['/Users/mahnoorzulfiqar/OneDriveUNI/GitHub-Repos/MAW-Benchmark/DS_201124_SC_full_PRM_neg_01/insilico/SIRIUS/16_NA_iso_NA_MS1p_213.880157470703_SIRIUS_paramSList.json', '/Users/mahnoorzulfiqar/OneDriveUNI/GitHub-Repos/MAW-Benchmark/DS_201124_SC_full_PRM_neg_01/insilico/SIRIUS/16_NA_iso_NA_MS1p_213.880157470703_SIRIUS_param.json']\n",
      "['/Users/mahnoorzulfiqar/OneDriveUNI/GitHub-Repos/MAW-Benchmark/DS_201124_SC_full_PRM_neg_01/insilico/SIRIUS/17_NA_iso_MS1p_315.196868896484_SIRIUS_param.json', '/Users/mahnoorzulfiqar/OneDriveUNI/GitHub-Repos/MAW-Benchmark/DS_201124_SC_full_PRM_neg_01/insilico/SIRIUS/17_NA_iso_MS1p_315.196868896484_SIRIUS_paramSList.json']\n",
      "['/Users/mahnoorzulfiqar/OneDriveUNI/GitHub-Repos/MAW-Benchmark/DS_201124_SC_full_PRM_neg_01/insilico/SIRIUS/18_NA_iso_MS1p_703.262084960938_SIRIUS_param.json', '/Users/mahnoorzulfiqar/OneDriveUNI/GitHub-Repos/MAW-Benchmark/DS_201124_SC_full_PRM_neg_01/insilico/SIRIUS/18_NA_iso_MS1p_703.262084960938_SIRIUS_paramSList.json']\n",
      "['/Users/mahnoorzulfiqar/OneDriveUNI/GitHub-Repos/MAW-Benchmark/DS_201124_SC_full_PRM_neg_01/insilico/SIRIUS/19_iso_MS1p_297.170989990234_SIRIUS_paramSList.json', '/Users/mahnoorzulfiqar/OneDriveUNI/GitHub-Repos/MAW-Benchmark/DS_201124_SC_full_PRM_neg_01/insilico/SIRIUS/19_iso_MS1p_297.170989990234_SIRIUS_param.json']\n",
      "['/Users/mahnoorzulfiqar/OneDriveUNI/GitHub-Repos/MAW-Benchmark/DS_201124_SC_full_PRM_neg_01/insilico/SIRIUS/20_iso_MS1p_234.921569824219_SIRIUS_param.json', '/Users/mahnoorzulfiqar/OneDriveUNI/GitHub-Repos/MAW-Benchmark/DS_201124_SC_full_PRM_neg_01/insilico/SIRIUS/20_iso_MS1p_234.921569824219_SIRIUS_paramSList.json']\n",
      "['/Users/mahnoorzulfiqar/OneDriveUNI/GitHub-Repos/MAW-Benchmark/DS_201124_SC_full_PRM_neg_01/insilico/SIRIUS/21_NA_iso_MS1p_143.951919555664_SIRIUS_param.json', '/Users/mahnoorzulfiqar/OneDriveUNI/GitHub-Repos/MAW-Benchmark/DS_201124_SC_full_PRM_neg_01/insilico/SIRIUS/21_NA_iso_MS1p_143.951919555664_SIRIUS_paramSList.json']\n",
      "['/Users/mahnoorzulfiqar/OneDriveUNI/GitHub-Repos/MAW-Benchmark/DS_201124_SC_full_PRM_neg_01/insilico/SIRIUS/22_iso_MS1p_773.533935546875_SIRIUS_paramSList.json', '/Users/mahnoorzulfiqar/OneDriveUNI/GitHub-Repos/MAW-Benchmark/DS_201124_SC_full_PRM_neg_01/insilico/SIRIUS/22_iso_MS1p_773.533935546875_SIRIUS_param.json']\n",
      "['/Users/mahnoorzulfiqar/OneDriveUNI/GitHub-Repos/MAW-Benchmark/DS_201124_SC_full_PRM_neg_01/insilico/SIRIUS/23_NA_iso_MS1p_144.923446655273_SIRIUS_paramSList.json', '/Users/mahnoorzulfiqar/OneDriveUNI/GitHub-Repos/MAW-Benchmark/DS_201124_SC_full_PRM_neg_01/insilico/SIRIUS/23_NA_iso_MS1p_144.923446655273_SIRIUS_param.json']\n",
      "['/Users/mahnoorzulfiqar/OneDriveUNI/GitHub-Repos/MAW-Benchmark/DS_201124_SC_full_PRM_neg_01/insilico/SIRIUS/24_NA_iso_NA_MS1p_201.957595825195_SIRIUS_paramSList.json', '/Users/mahnoorzulfiqar/OneDriveUNI/GitHub-Repos/MAW-Benchmark/DS_201124_SC_full_PRM_neg_01/insilico/SIRIUS/24_NA_iso_NA_MS1p_201.957595825195_SIRIUS_param.json']\n",
      "['/Users/mahnoorzulfiqar/OneDriveUNI/GitHub-Repos/MAW-Benchmark/DS_201124_SC_full_PRM_neg_01/insilico/SIRIUS/25_NA_iso_MS1p_187.941879272461_SIRIUS_paramSList.json', '/Users/mahnoorzulfiqar/OneDriveUNI/GitHub-Repos/MAW-Benchmark/DS_201124_SC_full_PRM_neg_01/insilico/SIRIUS/25_NA_iso_MS1p_187.941879272461_SIRIUS_param.json']\n"
     ]
    },
    {
     "name": "stdout",
     "output_type": "stream",
     "text": [
      "['/Users/mahnoorzulfiqar/OneDriveUNI/GitHub-Repos/MAW-Benchmark/DS_201124_SC_full_PRM_neg_01/insilico/SIRIUS/26_NA_iso_NA_MS1p_150.915573120117_SIRIUS_param.json', '/Users/mahnoorzulfiqar/OneDriveUNI/GitHub-Repos/MAW-Benchmark/DS_201124_SC_full_PRM_neg_01/insilico/SIRIUS/26_NA_iso_NA_MS1p_150.915573120117_SIRIUS_paramSList.json']\n",
      "['/Users/mahnoorzulfiqar/OneDriveUNI/GitHub-Repos/MAW-Benchmark/DS_201124_SC_full_PRM_neg_01/insilico/SIRIUS/27_NA_iso_MS1p_171.066390991211_SIRIUS_param.json', '/Users/mahnoorzulfiqar/OneDriveUNI/GitHub-Repos/MAW-Benchmark/DS_201124_SC_full_PRM_neg_01/insilico/SIRIUS/27_NA_iso_MS1p_171.066390991211_SIRIUS_paramSList.json']\n",
      "['/Users/mahnoorzulfiqar/OneDriveUNI/GitHub-Repos/MAW-Benchmark/DS_201124_SC_full_PRM_neg_01/insilico/SIRIUS/28_NA_iso_MS1p_235.953491210938_SIRIUS_paramSList.json', '/Users/mahnoorzulfiqar/OneDriveUNI/GitHub-Repos/MAW-Benchmark/DS_201124_SC_full_PRM_neg_01/insilico/SIRIUS/28_NA_iso_MS1p_235.953491210938_SIRIUS_param.json']\n",
      "['/Users/mahnoorzulfiqar/OneDriveUNI/GitHub-Repos/MAW-Benchmark/DS_201124_SC_full_PRM_neg_01/insilico/SIRIUS/29_NA_iso_MS1p_350.860473632813_SIRIUS_paramSList.json', '/Users/mahnoorzulfiqar/OneDriveUNI/GitHub-Repos/MAW-Benchmark/DS_201124_SC_full_PRM_neg_01/insilico/SIRIUS/29_NA_iso_MS1p_350.860473632813_SIRIUS_param.json']\n",
      "['/Users/mahnoorzulfiqar/OneDriveUNI/GitHub-Repos/MAW-Benchmark/DS_201124_SC_full_PRM_neg_01/insilico/SIRIUS/30_NA_iso_MS1p_272.883483886719_SIRIUS_paramSList.json', '/Users/mahnoorzulfiqar/OneDriveUNI/GitHub-Repos/MAW-Benchmark/DS_201124_SC_full_PRM_neg_01/insilico/SIRIUS/30_NA_iso_MS1p_272.883483886719_SIRIUS_param.json']\n",
      "['/Users/mahnoorzulfiqar/OneDriveUNI/GitHub-Repos/MAW-Benchmark/DS_201124_SC_full_PRM_neg_01/insilico/SIRIUS/31_NA_iso_NA_MS1p_198.864395141602_SIRIUS_param.json', '/Users/mahnoorzulfiqar/OneDriveUNI/GitHub-Repos/MAW-Benchmark/DS_201124_SC_full_PRM_neg_01/insilico/SIRIUS/31_NA_iso_NA_MS1p_198.864395141602_SIRIUS_paramSList.json']\n",
      "['/Users/mahnoorzulfiqar/OneDriveUNI/GitHub-Repos/MAW-Benchmark/DS_201124_SC_full_PRM_neg_01/insilico/SIRIUS/32_NA_iso_NA_MS1p_314.784698486328_SIRIUS_paramSList.json', '/Users/mahnoorzulfiqar/OneDriveUNI/GitHub-Repos/MAW-Benchmark/DS_201124_SC_full_PRM_neg_01/insilico/SIRIUS/32_NA_iso_NA_MS1p_314.784698486328_SIRIUS_param.json']\n",
      "['/Users/mahnoorzulfiqar/OneDriveUNI/GitHub-Repos/MAW-Benchmark/DS_201124_SC_full_PRM_neg_01/insilico/SIRIUS/33_iso_MS1p_294.831085205078_SIRIUS_paramSList.json', '/Users/mahnoorzulfiqar/OneDriveUNI/GitHub-Repos/MAW-Benchmark/DS_201124_SC_full_PRM_neg_01/insilico/SIRIUS/33_iso_MS1p_294.831085205078_SIRIUS_param.json']\n",
      "['/Users/mahnoorzulfiqar/OneDriveUNI/GitHub-Repos/MAW-Benchmark/DS_201124_SC_full_PRM_neg_01/insilico/SIRIUS/34_NA_iso_MS1p_177.903167724609_SIRIUS_paramSList.json', '/Users/mahnoorzulfiqar/OneDriveUNI/GitHub-Repos/MAW-Benchmark/DS_201124_SC_full_PRM_neg_01/insilico/SIRIUS/34_NA_iso_MS1p_177.903167724609_SIRIUS_param.json']\n",
      "['/Users/mahnoorzulfiqar/OneDriveUNI/GitHub-Repos/MAW-Benchmark/DS_201124_SC_full_PRM_neg_01/insilico/SIRIUS/35_iso_MS1p_226.996658325195_SIRIUS_param.json', '/Users/mahnoorzulfiqar/OneDriveUNI/GitHub-Repos/MAW-Benchmark/DS_201124_SC_full_PRM_neg_01/insilico/SIRIUS/35_iso_MS1p_226.996658325195_SIRIUS_paramSList.json']\n",
      "['/Users/mahnoorzulfiqar/OneDriveUNI/GitHub-Repos/MAW-Benchmark/DS_201124_SC_full_PRM_neg_01/insilico/SIRIUS/36_NA_iso_MS1p_272.883331298828_SIRIUS_paramSList.json', '/Users/mahnoorzulfiqar/OneDriveUNI/GitHub-Repos/MAW-Benchmark/DS_201124_SC_full_PRM_neg_01/insilico/SIRIUS/36_NA_iso_MS1p_272.883331298828_SIRIUS_param.json']\n",
      "['/Users/mahnoorzulfiqar/OneDriveUNI/GitHub-Repos/MAW-Benchmark/DS_201124_SC_full_PRM_neg_01/insilico/SIRIUS/37_NA_iso_NA_MS1p_586.315185546875_SIRIUS_paramSList.json', '/Users/mahnoorzulfiqar/OneDriveUNI/GitHub-Repos/MAW-Benchmark/DS_201124_SC_full_PRM_neg_01/insilico/SIRIUS/37_NA_iso_NA_MS1p_586.315185546875_SIRIUS_param.json']\n",
      "['/Users/mahnoorzulfiqar/OneDriveUNI/GitHub-Repos/MAW-Benchmark/DS_201124_SC_full_PRM_neg_01/insilico/SIRIUS/38_NA_iso_NA_MS1p_536.299682617188_SIRIUS_paramSList.json', '/Users/mahnoorzulfiqar/OneDriveUNI/GitHub-Repos/MAW-Benchmark/DS_201124_SC_full_PRM_neg_01/insilico/SIRIUS/38_NA_iso_NA_MS1p_536.299682617188_SIRIUS_param.json']\n",
      "['/Users/mahnoorzulfiqar/OneDriveUNI/GitHub-Repos/MAW-Benchmark/DS_201124_SC_full_PRM_neg_01/insilico/SIRIUS/39_NA_iso_NA_MS1p_161.913604736328_SIRIUS_paramSList.json', '/Users/mahnoorzulfiqar/OneDriveUNI/GitHub-Repos/MAW-Benchmark/DS_201124_SC_full_PRM_neg_01/insilico/SIRIUS/39_NA_iso_NA_MS1p_161.913604736328_SIRIUS_param.json']\n",
      "['/Users/mahnoorzulfiqar/OneDriveUNI/GitHub-Repos/MAW-Benchmark/DS_201124_SC_full_PRM_neg_01/insilico/SIRIUS/40_NA_iso_NA_MS1p_94.980812072754_SIRIUS_paramSList.json', '/Users/mahnoorzulfiqar/OneDriveUNI/GitHub-Repos/MAW-Benchmark/DS_201124_SC_full_PRM_neg_01/insilico/SIRIUS/40_NA_iso_NA_MS1p_94.980812072754_SIRIUS_param.json']\n",
      "['/Users/mahnoorzulfiqar/OneDriveUNI/GitHub-Repos/MAW-Benchmark/DS_201124_SC_full_PRM_neg_01/insilico/SIRIUS/41_NA_iso_NA_MS1p_294.831237792969_SIRIUS_param.json', '/Users/mahnoorzulfiqar/OneDriveUNI/GitHub-Repos/MAW-Benchmark/DS_201124_SC_full_PRM_neg_01/insilico/SIRIUS/41_NA_iso_NA_MS1p_294.831237792969_SIRIUS_paramSList.json']\n",
      "['/Users/mahnoorzulfiqar/OneDriveUNI/GitHub-Repos/MAW-Benchmark/DS_201124_SC_full_PRM_neg_01/insilico/SIRIUS/42_NA_iso_NA_MS1p_316.779235839844_SIRIUS_param.json', '/Users/mahnoorzulfiqar/OneDriveUNI/GitHub-Repos/MAW-Benchmark/DS_201124_SC_full_PRM_neg_01/insilico/SIRIUS/42_NA_iso_NA_MS1p_316.779235839844_SIRIUS_paramSList.json']\n",
      "['/Users/mahnoorzulfiqar/OneDriveUNI/GitHub-Repos/MAW-Benchmark/DS_201124_SC_full_PRM_neg_01/insilico/SIRIUS/43_NA_iso_NA_MS1p_125.928810119629_SIRIUS_paramSList.json', '/Users/mahnoorzulfiqar/OneDriveUNI/GitHub-Repos/MAW-Benchmark/DS_201124_SC_full_PRM_neg_01/insilico/SIRIUS/43_NA_iso_NA_MS1p_125.928810119629_SIRIUS_param.json']\n",
      "['/Users/mahnoorzulfiqar/OneDriveUNI/GitHub-Repos/MAW-Benchmark/DS_201124_SC_full_PRM_neg_01/insilico/SIRIUS/44_NA_iso_NA_MS1p_301.683227539063_SIRIUS_paramSList.json', '/Users/mahnoorzulfiqar/OneDriveUNI/GitHub-Repos/MAW-Benchmark/DS_201124_SC_full_PRM_neg_01/insilico/SIRIUS/44_NA_iso_NA_MS1p_301.683227539063_SIRIUS_param.json']\n",
      "no file for formula\n",
      "no file for formula\n",
      "['/Users/mahnoorzulfiqar/OneDriveUNI/GitHub-Repos/MAW-Benchmark/DS_201124_SC_full_PRM_neg_01/insilico/SIRIUS/45_NA_iso_NA_MS1p_369.763732910156_SIRIUS_paramSList.json', '/Users/mahnoorzulfiqar/OneDriveUNI/GitHub-Repos/MAW-Benchmark/DS_201124_SC_full_PRM_neg_01/insilico/SIRIUS/45_NA_iso_NA_MS1p_369.763732910156_SIRIUS_param.json']\n",
      "['/Users/mahnoorzulfiqar/OneDriveUNI/GitHub-Repos/MAW-Benchmark/DS_201124_SC_full_PRM_neg_01/insilico/SIRIUS/46_NA_iso_NA_MS1p_345.718780517578_SIRIUS_paramSList.json', '/Users/mahnoorzulfiqar/OneDriveUNI/GitHub-Repos/MAW-Benchmark/DS_201124_SC_full_PRM_neg_01/insilico/SIRIUS/46_NA_iso_NA_MS1p_345.718780517578_SIRIUS_param.json']\n",
      "['/Users/mahnoorzulfiqar/OneDriveUNI/GitHub-Repos/MAW-Benchmark/DS_201124_SC_full_PRM_neg_01/insilico/SIRIUS/47_NA_iso_NA_MS1p_375.604736328125_SIRIUS_param.json', '/Users/mahnoorzulfiqar/OneDriveUNI/GitHub-Repos/MAW-Benchmark/DS_201124_SC_full_PRM_neg_01/insilico/SIRIUS/47_NA_iso_NA_MS1p_375.604736328125_SIRIUS_paramSList.json']\n",
      "no file for formula\n",
      "no file for formula\n",
      "['/Users/mahnoorzulfiqar/OneDriveUNI/GitHub-Repos/MAW-Benchmark/DS_201124_SC_full_PRM_neg_01/insilico/SIRIUS/48_NA_iso_NA_MS1p_218.896179199219_SIRIUS_paramSList.json', '/Users/mahnoorzulfiqar/OneDriveUNI/GitHub-Repos/MAW-Benchmark/DS_201124_SC_full_PRM_neg_01/insilico/SIRIUS/48_NA_iso_NA_MS1p_218.896179199219_SIRIUS_param.json']\n",
      "['/Users/mahnoorzulfiqar/OneDriveUNI/GitHub-Repos/MAW-Benchmark/DS_201124_SC_full_PRM_neg_01/insilico/SIRIUS/49_NA_iso_MS1p_198.954238891602_SIRIUS_param.json', '/Users/mahnoorzulfiqar/OneDriveUNI/GitHub-Repos/MAW-Benchmark/DS_201124_SC_full_PRM_neg_01/insilico/SIRIUS/49_NA_iso_MS1p_198.954238891602_SIRIUS_paramSList.json']\n",
      "['/Users/mahnoorzulfiqar/OneDriveUNI/GitHub-Repos/MAW-Benchmark/DS_201124_SC_full_PRM_neg_01/insilico/SIRIUS/50_NA_iso_MS1p_159.939056396484_SIRIUS_param.json', '/Users/mahnoorzulfiqar/OneDriveUNI/GitHub-Repos/MAW-Benchmark/DS_201124_SC_full_PRM_neg_01/insilico/SIRIUS/50_NA_iso_MS1p_159.939056396484_SIRIUS_paramSList.json']\n",
      "['/Users/mahnoorzulfiqar/OneDriveUNI/GitHub-Repos/MAW-Benchmark/DS_201124_SC_full_PRM_neg_01/insilico/SIRIUS/51_NA_iso_NA_MS1p_210.931686401367_SIRIUS_param.json', '/Users/mahnoorzulfiqar/OneDriveUNI/GitHub-Repos/MAW-Benchmark/DS_201124_SC_full_PRM_neg_01/insilico/SIRIUS/51_NA_iso_NA_MS1p_210.931686401367_SIRIUS_paramSList.json']\n"
     ]
    },
    {
     "name": "stdout",
     "output_type": "stream",
     "text": [
      "['/Users/mahnoorzulfiqar/OneDriveUNI/GitHub-Repos/MAW-Benchmark/DS_201124_SC_full_PRM_neg_01/insilico/SIRIUS/52_NA_iso_MS1p_376.856811523438_SIRIUS_param.json', '/Users/mahnoorzulfiqar/OneDriveUNI/GitHub-Repos/MAW-Benchmark/DS_201124_SC_full_PRM_neg_01/insilico/SIRIUS/52_NA_iso_MS1p_376.856811523438_SIRIUS_paramSList.json']\n",
      "['/Users/mahnoorzulfiqar/OneDriveUNI/GitHub-Repos/MAW-Benchmark/DS_201124_SC_full_PRM_neg_01/insilico/SIRIUS/53_NA_iso_MS1p_258.921020507813_SIRIUS_param.json', '/Users/mahnoorzulfiqar/OneDriveUNI/GitHub-Repos/MAW-Benchmark/DS_201124_SC_full_PRM_neg_01/insilico/SIRIUS/53_NA_iso_MS1p_258.921020507813_SIRIUS_paramSList.json']\n",
      "['/Users/mahnoorzulfiqar/OneDriveUNI/GitHub-Repos/MAW-Benchmark/DS_201124_SC_full_PRM_neg_01/insilico/SIRIUS/54_NA_iso_NA_MS1p_286.912078857422_SIRIUS_param.json', '/Users/mahnoorzulfiqar/OneDriveUNI/GitHub-Repos/MAW-Benchmark/DS_201124_SC_full_PRM_neg_01/insilico/SIRIUS/54_NA_iso_NA_MS1p_286.912078857422_SIRIUS_paramSList.json']\n",
      "['/Users/mahnoorzulfiqar/OneDriveUNI/GitHub-Repos/MAW-Benchmark/DS_201124_SC_full_PRM_neg_01/insilico/SIRIUS/55_NA_iso_NA_MS1p_289.069793701172_SIRIUS_paramSList.json', '/Users/mahnoorzulfiqar/OneDriveUNI/GitHub-Repos/MAW-Benchmark/DS_201124_SC_full_PRM_neg_01/insilico/SIRIUS/55_NA_iso_NA_MS1p_289.069793701172_SIRIUS_param.json']\n",
      "['/Users/mahnoorzulfiqar/OneDriveUNI/GitHub-Repos/MAW-Benchmark/DS_201124_SC_full_PRM_neg_01/insilico/SIRIUS/56_NA_iso_NA_MS1p_386.939453125_SIRIUS_paramSList.json', '/Users/mahnoorzulfiqar/OneDriveUNI/GitHub-Repos/MAW-Benchmark/DS_201124_SC_full_PRM_neg_01/insilico/SIRIUS/56_NA_iso_NA_MS1p_386.939453125_SIRIUS_param.json']\n",
      "['/Users/mahnoorzulfiqar/OneDriveUNI/GitHub-Repos/MAW-Benchmark/DS_201124_SC_full_PRM_neg_01/insilico/SIRIUS/57_NA_iso_MS1p_255.822494506836_SIRIUS_param.json', '/Users/mahnoorzulfiqar/OneDriveUNI/GitHub-Repos/MAW-Benchmark/DS_201124_SC_full_PRM_neg_01/insilico/SIRIUS/57_NA_iso_MS1p_255.822494506836_SIRIUS_paramSList.json']\n",
      "['/Users/mahnoorzulfiqar/OneDriveUNI/GitHub-Repos/MAW-Benchmark/DS_201124_SC_full_PRM_neg_01/insilico/SIRIUS/58_NA_iso_MS1p_238.912902832031_SIRIUS_param.json', '/Users/mahnoorzulfiqar/OneDriveUNI/GitHub-Repos/MAW-Benchmark/DS_201124_SC_full_PRM_neg_01/insilico/SIRIUS/58_NA_iso_MS1p_238.912902832031_SIRIUS_paramSList.json']\n",
      "['/Users/mahnoorzulfiqar/OneDriveUNI/GitHub-Repos/MAW-Benchmark/DS_201124_SC_full_PRM_neg_01/insilico/SIRIUS/59_NA_iso_MS1p_303.001861572266_SIRIUS_param.json', '/Users/mahnoorzulfiqar/OneDriveUNI/GitHub-Repos/MAW-Benchmark/DS_201124_SC_full_PRM_neg_01/insilico/SIRIUS/59_NA_iso_MS1p_303.001861572266_SIRIUS_paramSList.json']\n",
      "['/Users/mahnoorzulfiqar/OneDriveUNI/GitHub-Repos/MAW-Benchmark/DS_201124_SC_full_PRM_neg_01/insilico/SIRIUS/60_NA_iso_MS1p_182.043594360352_SIRIUS_paramSList.json', '/Users/mahnoorzulfiqar/OneDriveUNI/GitHub-Repos/MAW-Benchmark/DS_201124_SC_full_PRM_neg_01/insilico/SIRIUS/60_NA_iso_MS1p_182.043594360352_SIRIUS_param.json']\n",
      "['/Users/mahnoorzulfiqar/OneDriveUNI/GitHub-Repos/MAW-Benchmark/DS_201124_SC_full_PRM_neg_01/insilico/SIRIUS/61_iso_MS1p_222.005477905273_SIRIUS_param.json', '/Users/mahnoorzulfiqar/OneDriveUNI/GitHub-Repos/MAW-Benchmark/DS_201124_SC_full_PRM_neg_01/insilico/SIRIUS/61_iso_MS1p_222.005477905273_SIRIUS_paramSList.json']\n",
      "['/Users/mahnoorzulfiqar/OneDriveUNI/GitHub-Repos/MAW-Benchmark/DS_201124_SC_full_PRM_neg_01/insilico/SIRIUS/62_NA_iso_NA_MS1p_305.123474121094_SIRIUS_paramSList.json', '/Users/mahnoorzulfiqar/OneDriveUNI/GitHub-Repos/MAW-Benchmark/DS_201124_SC_full_PRM_neg_01/insilico/SIRIUS/62_NA_iso_NA_MS1p_305.123474121094_SIRIUS_param.json']\n",
      "['/Users/mahnoorzulfiqar/OneDriveUNI/GitHub-Repos/MAW-Benchmark/DS_201124_SC_full_PRM_neg_01/insilico/SIRIUS/63_NA_iso_MS1p_322.069030761719_SIRIUS_param.json', '/Users/mahnoorzulfiqar/OneDriveUNI/GitHub-Repos/MAW-Benchmark/DS_201124_SC_full_PRM_neg_01/insilico/SIRIUS/63_NA_iso_MS1p_322.069030761719_SIRIUS_paramSList.json']\n",
      "['/Users/mahnoorzulfiqar/OneDriveUNI/GitHub-Repos/MAW-Benchmark/DS_201124_SC_full_PRM_neg_01/insilico/SIRIUS/64_NA_iso_NA_MS1p_146.046005249023_SIRIUS_param.json', '/Users/mahnoorzulfiqar/OneDriveUNI/GitHub-Repos/MAW-Benchmark/DS_201124_SC_full_PRM_neg_01/insilico/SIRIUS/64_NA_iso_NA_MS1p_146.046005249023_SIRIUS_paramSList.json']\n",
      "['/Users/mahnoorzulfiqar/OneDriveUNI/GitHub-Repos/MAW-Benchmark/DS_201124_SC_full_PRM_neg_01/insilico/SIRIUS/65_NA_iso_NA_MS1p_146.966094970703_SIRIUS_param.json', '/Users/mahnoorzulfiqar/OneDriveUNI/GitHub-Repos/MAW-Benchmark/DS_201124_SC_full_PRM_neg_01/insilico/SIRIUS/65_NA_iso_NA_MS1p_146.966094970703_SIRIUS_paramSList.json']\n",
      "['/Users/mahnoorzulfiqar/OneDriveUNI/GitHub-Repos/MAW-Benchmark/DS_201124_SC_full_PRM_neg_01/insilico/SIRIUS/66_NA_iso_NA_MS1p_102.95694732666_SIRIUS_param.json', '/Users/mahnoorzulfiqar/OneDriveUNI/GitHub-Repos/MAW-Benchmark/DS_201124_SC_full_PRM_neg_01/insilico/SIRIUS/66_NA_iso_NA_MS1p_102.95694732666_SIRIUS_paramSList.json']\n",
      "['/Users/mahnoorzulfiqar/OneDriveUNI/GitHub-Repos/MAW-Benchmark/DS_201124_SC_full_PRM_neg_01/insilico/SIRIUS/67_NA_iso_NA_MS1p_129.975723266602_SIRIUS_paramSList.json', '/Users/mahnoorzulfiqar/OneDriveUNI/GitHub-Repos/MAW-Benchmark/DS_201124_SC_full_PRM_neg_01/insilico/SIRIUS/67_NA_iso_NA_MS1p_129.975723266602_SIRIUS_param.json']\n",
      "['/Users/mahnoorzulfiqar/OneDriveUNI/GitHub-Repos/MAW-Benchmark/DS_201124_SC_full_PRM_neg_01/insilico/SIRIUS/68_NA_iso_NA_MS1p_257.819427490234_SIRIUS_param.json', '/Users/mahnoorzulfiqar/OneDriveUNI/GitHub-Repos/MAW-Benchmark/DS_201124_SC_full_PRM_neg_01/insilico/SIRIUS/68_NA_iso_NA_MS1p_257.819427490234_SIRIUS_paramSList.json']\n",
      "['/Users/mahnoorzulfiqar/OneDriveUNI/GitHub-Repos/MAW-Benchmark/DS_201124_SC_full_PRM_neg_01/insilico/SIRIUS/69_NA_iso_MS1p_197.902374267578_SIRIUS_param.json', '/Users/mahnoorzulfiqar/OneDriveUNI/GitHub-Repos/MAW-Benchmark/DS_201124_SC_full_PRM_neg_01/insilico/SIRIUS/69_NA_iso_MS1p_197.902374267578_SIRIUS_paramSList.json']\n",
      "['/Users/mahnoorzulfiqar/OneDriveUNI/GitHub-Repos/MAW-Benchmark/DS_201124_SC_full_PRM_neg_01/insilico/SIRIUS/70_iso_MS1p_172.830642700195_SIRIUS_paramSList.json', '/Users/mahnoorzulfiqar/OneDriveUNI/GitHub-Repos/MAW-Benchmark/DS_201124_SC_full_PRM_neg_01/insilico/SIRIUS/70_iso_MS1p_172.830642700195_SIRIUS_param.json']\n",
      "no file for formula\n",
      "no file for formula\n",
      ".ipynb_checkpoints\n",
      ".git\n"
     ]
    }
   ],
   "source": [
    "for entry in os.listdir(input_dir):\n",
    "    # if the entry is also a directory\n",
    "    if os.path.isdir(os.path.join(input_dir, entry)):\n",
    "        print(entry)\n",
    "        sub_dir1 = input_dir + \"/\" + entry + \"/insilico\"\n",
    "        if os.path.isdir(sub_dir1):\n",
    "            sub_dir = sub_dir1 + \"/SIRIUS/\"\n",
    "            msp_csv = input_dir + \"/\" + entry + \"/insilico/MS1DATA.csv\"\n",
    "            if os.path.exists(msp_csv) and os.path.exists(sub_dir):\n",
    "                # output json files from SIRIUS\n",
    "                files_S = glob.glob(sub_dir + \"/*.json\")\n",
    "                # list of precursor m/z\n",
    "                msp = pd.read_csv(msp_csv)\n",
    "\n",
    "                # for each mz\n",
    "                for mz, row in msp.iterrows():\n",
    "                    # make a list of files with this mz\n",
    "                    files_for_mz = []\n",
    "\n",
    "                    for file in files_S:\n",
    "                        if str(msp[\"premz\"][mz]) in file:\n",
    "                            files_for_mz.append(file)\n",
    "                    print(files_for_mz)\n",
    "                    if len(files_for_mz)>1:\n",
    "                        for i in files_for_mz:\n",
    "                            if \"param.json\" in i:\n",
    "                                #print(1)\n",
    "                                sirius_db_post_proc(msp = msp, one_file = i, mz = mz, sub_dir = sub_dir, sl = False)\n",
    "                            elif \"SList\" in i:\n",
    "                                #print(i)\n",
    "                                sirius_db_post_proc(msp = msp, one_file = i, mz = mz,  sub_dir = sub_dir, sl = True)\n",
    "            msp.to_csv(msp_csv)"
   ]
  },
  {
   "cell_type": "code",
   "execution_count": 18,
   "id": "e7add05d",
   "metadata": {},
   "outputs": [
    {
     "name": "stdout",
     "output_type": "stream",
     "text": [
      "63\n",
      "str in slist and sirius\n"
     ]
    }
   ],
   "source": [
    "for mz, row in msp.iterrows():\n",
    "    #print(msp[\"sirius_result_dir\"][mz])\n",
    "    #print(msp[\"sirius_result_dir-slist\"][mz])\n",
    "    if not isNaN(msp[\"sirius_result_dir-slist\"][mz]) and not isNaN(msp[\"sirius_result_dir\"][mz])\n",
    "        if \"structure\" in str(msp[\"sirius_result_dir-slist\"][mz]) and \"structure\" in str(msp[\"sirius_result_dir\"][mz]):\n",
    "            print(mz)\n",
    "            print(\"str in slist and sirius\")\n",
    "            slist_str = pd.read_csv(msp[\"sirius_result_dir-slist\"][mz])\n",
    "            sirius_str = pd.read_csv(msp[\"sirius_result_dir\"][mz])"
   ]
  },
  {
   "cell_type": "code",
   "execution_count": 13,
   "id": "0106d746",
   "metadata": {},
   "outputs": [],
   "source": [
    "msp.to_csv(\"checksiriusdir.csv\")"
   ]
  },
  {
   "cell_type": "code",
   "execution_count": 21,
   "id": "3d68e84a",
   "metadata": {},
   "outputs": [
    {
     "data": {
      "text/plain": [
       "'./DS_201124_SC_full_PRM_neg_01/insilico/SIRIUS/results_for_1M146R249ID64_structure-slist.csv'"
      ]
     },
     "execution_count": 21,
     "metadata": {},
     "output_type": "execute_result"
    }
   ],
   "source": [
    "msp[\"sirius_result_dir-slist\"][63]"
   ]
  },
  {
   "cell_type": "code",
   "execution_count": 20,
   "id": "de1c4aaa",
   "metadata": {},
   "outputs": [
    {
     "data": {
      "text/plain": [
       "146.046005249023"
      ]
     },
     "execution_count": 20,
     "metadata": {},
     "output_type": "execute_result"
    }
   ],
   "source": [
    "msp[\"premz\"][63]"
   ]
  },
  {
   "cell_type": "code",
   "execution_count": null,
   "id": "f2552523",
   "metadata": {},
   "outputs": [],
   "source": [
    "slist_str = pd.read_csv(msp[\"sirius_result_dir-slist\"][mz])\n",
    "            sirius_str = pd.read_csv(msp[\"sirius_result_dir\"][mz])"
   ]
  }
 ],
 "metadata": {
  "kernelspec": {
   "display_name": "Python (mawRpy)",
   "language": "python",
   "name": "mawrpy"
  },
  "language_info": {
   "codemirror_mode": {
    "name": "ipython",
    "version": 3
   },
   "file_extension": ".py",
   "mimetype": "text/x-python",
   "name": "python",
   "nbconvert_exporter": "python",
   "pygments_lexer": "ipython3",
   "version": "3.10.2"
  }
 },
 "nbformat": 4,
 "nbformat_minor": 5
}
