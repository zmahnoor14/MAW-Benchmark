{
 "cells": [
  {
   "cell_type": "code",
   "execution_count": null,
   "id": "4f155f85",
   "metadata": {},
   "outputs": [],
   "source": [
    "install.packages(c(\"listenv\", \"future\"))"
   ]
  },
  {
   "cell_type": "code",
   "execution_count": 1,
   "id": "27c91d6b",
   "metadata": {
    "collapsed": true
   },
   "outputs": [
    {
     "name": "stderr",
     "output_type": "stream",
     "text": [
      "Lade nötiges Paket: foreach\n",
      "\n",
      "Lade nötiges Paket: iterators\n",
      "\n"
     ]
    }
   ],
   "source": [
    "library(parallel)\n",
    "library(doParallel)\n",
    "library(future)\n",
    "library(iterators)\n",
    "library(listenv)\n",
    "\n",
    "options(future.globals.maxSize = 8 * 1024^3) # increase dataset size limit taken by future to 8GB\n",
    "\n",
    "# detects number of cores\n",
    "n.cores <- parallel::detectCores()\n",
    "\n",
    "\n",
    "plan(list(\n",
    "  tweak(multisession, workers = ((n.cores + 5) %/% 3) %/% 2),\n",
    "  tweak(multisession, workers = ((n.cores + 5) %/% 3) %/% 2),\n",
    "  tweak(multisession, workers = 3)\n",
    "))"
   ]
  },
  {
   "cell_type": "code",
   "execution_count": 1,
   "id": "39934507",
   "metadata": {},
   "outputs": [],
   "source": [
    "start.time <- Sys.time()"
   ]
  },
  {
   "cell_type": "code",
   "execution_count": 2,
   "id": "8d04b610",
   "metadata": {},
   "outputs": [],
   "source": [
    "# ---------- Script ----------\n",
    "# input directory\n",
    "input_dir <- getwd()\n",
    "#input_dir <- \"/Users/mahnoorzulfiqar/OneDriveUNI/MAW-data/MTBLS709_Data_32\"\n",
    "#input_dir"
   ]
  },
  {
   "cell_type": "code",
   "execution_count": 4,
   "id": "11a885c3",
   "metadata": {
    "collapsed": true
   },
   "outputs": [
    {
     "name": "stderr",
     "output_type": "stream",
     "text": [
      "Lade nötiges Paket: S4Vectors\n",
      "\n",
      "Lade nötiges Paket: stats4\n",
      "\n",
      "Lade nötiges Paket: BiocGenerics\n",
      "\n",
      "\n",
      "Attache Paket: ‘BiocGenerics’\n",
      "\n",
      "\n",
      "Die folgenden Objekte sind maskiert von ‘package:stats’:\n",
      "\n",
      "    IQR, mad, sd, var, xtabs\n",
      "\n",
      "\n",
      "Die folgenden Objekte sind maskiert von ‘package:base’:\n",
      "\n",
      "    Filter, Find, Map, Position, Reduce, anyDuplicated, append,\n",
      "    as.data.frame, basename, cbind, colnames, dirname, do.call,\n",
      "    duplicated, eval, evalq, get, grep, grepl, intersect, is.unsorted,\n",
      "    lapply, mapply, match, mget, order, paste, pmax, pmax.int, pmin,\n",
      "    pmin.int, rank, rbind, rownames, sapply, setdiff, sort, table,\n",
      "    tapply, union, unique, unsplit, which.max, which.min\n",
      "\n",
      "\n",
      "\n",
      "Attache Paket: ‘S4Vectors’\n",
      "\n",
      "\n",
      "Die folgenden Objekte sind maskiert von ‘package:base’:\n",
      "\n",
      "    I, expand.grid, unname\n",
      "\n",
      "\n",
      "Lade nötiges Paket: BiocParallel\n",
      "\n",
      "Lade nötiges Paket: ProtGenerics\n",
      "\n",
      "\n",
      "Attache Paket: ‘ProtGenerics’\n",
      "\n",
      "\n",
      "Das folgende Objekt ist maskiert ‘package:stats’:\n",
      "\n",
      "    smooth\n",
      "\n",
      "\n",
      "\n",
      "Attache Paket: ‘Spectra’\n",
      "\n",
      "\n",
      "Das folgende Objekt ist maskiert ‘package:ProtGenerics’:\n",
      "\n",
      "    addProcessing\n",
      "\n",
      "\n",
      "\n",
      "Attache Paket: ‘MsCoreUtils’\n",
      "\n",
      "\n",
      "Die folgenden Objekte sind maskiert von ‘package:Spectra’:\n",
      "\n",
      "    bin, smooth\n",
      "\n",
      "\n",
      "Die folgenden Objekte sind maskiert von ‘package:ProtGenerics’:\n",
      "\n",
      "    bin, smooth\n",
      "\n",
      "\n",
      "Das folgende Objekt ist maskiert ‘package:stats’:\n",
      "\n",
      "    smooth\n",
      "\n",
      "\n",
      "\n",
      "Attache Paket: ‘dplyr’\n",
      "\n",
      "\n",
      "Das folgende Objekt ist maskiert ‘package:MsCoreUtils’:\n",
      "\n",
      "    between\n",
      "\n",
      "\n",
      "Die folgenden Objekte sind maskiert von ‘package:S4Vectors’:\n",
      "\n",
      "    first, intersect, rename, setdiff, setequal, union\n",
      "\n",
      "\n",
      "Die folgenden Objekte sind maskiert von ‘package:BiocGenerics’:\n",
      "\n",
      "    combine, intersect, setdiff, union\n",
      "\n",
      "\n",
      "Die folgenden Objekte sind maskiert von ‘package:stats’:\n",
      "\n",
      "    filter, lag\n",
      "\n",
      "\n",
      "Die folgenden Objekte sind maskiert von ‘package:base’:\n",
      "\n",
      "    intersect, setdiff, setequal, union\n",
      "\n",
      "\n",
      "\n",
      "Attache Paket: ‘rvest’\n",
      "\n",
      "\n",
      "Das folgende Objekt ist maskiert ‘package:readr’:\n",
      "\n",
      "    guess_encoding\n",
      "\n",
      "\n",
      "Lade nötiges Paket: Rcpp\n",
      "\n"
     ]
    }
   ],
   "source": [
    "# load the functions file\n",
    "source(paste(getwd(),\"/Workflow_R_Functions.r\", sep = \"\"))\n",
    "#source(\"/Users/mahnoorzulfiqar/OneDriveUNI/MAW/R/Workflow_R_Functions.r\")"
   ]
  },
  {
   "cell_type": "code",
   "execution_count": 5,
   "id": "8d08c42a",
   "metadata": {
    "collapsed": true
   },
   "outputs": [
    {
     "data": {
      "text/html": [
       "<table class=\"dataframe\">\n",
       "<caption>A data.frame: 18 × 3</caption>\n",
       "<thead>\n",
       "\t<tr><th scope=col>mzml_files</th><th scope=col>ResultFileNames</th><th scope=col>File_id</th></tr>\n",
       "\t<tr><th scope=col>&lt;chr&gt;</th><th scope=col>&lt;chr&gt;</th><th scope=col>&lt;chr&gt;</th></tr>\n",
       "</thead>\n",
       "<tbody>\n",
       "\t<tr><td>./pos_01_summer_Fistax_1_1-A-1_01_17170.mzML </td><td>./pos_01_summer_Fistax_1_1-A-1_01_17170 </td><td>file_1 </td></tr>\n",
       "\t<tr><td>./pos_02_spring_Fistax_2_1-A-2_01_17276.mzML </td><td>./pos_02_spring_Fistax_2_1-A-2_01_17276 </td><td>file_2 </td></tr>\n",
       "\t<tr><td>./pos_02_summer_Fistax_2_1-A-2_01_17171.mzML </td><td>./pos_02_summer_Fistax_2_1-A-2_01_17171 </td><td>file_3 </td></tr>\n",
       "\t<tr><td>./pos_02_winter_Fistax_2_2-B-2_01_17241.mzML </td><td>./pos_02_winter_Fistax_2_2-B-2_01_17241 </td><td>file_4 </td></tr>\n",
       "\t<tr><td>./pos_03_spring_Fistax_3_1-A-3_01_17277.mzML </td><td>./pos_03_spring_Fistax_3_1-A-3_01_17277 </td><td>file_5 </td></tr>\n",
       "\t<tr><td>./pos_05_summer_Polstr_5_1-A-5_01_17174.mzML </td><td>./pos_05_summer_Polstr_5_1-A-5_01_17174 </td><td>file_6 </td></tr>\n",
       "\t<tr><td>./pos_06_spring_Polstr_6_1-A-6_01_17280.mzML </td><td>./pos_06_spring_Polstr_6_1-A-6_01_17280 </td><td>file_7 </td></tr>\n",
       "\t<tr><td>./pos_08_autumn_Polstr_8_1-E-3_01_17214.mzML </td><td>./pos_08_autumn_Polstr_8_1-E-3_01_17214 </td><td>file_8 </td></tr>\n",
       "\t<tr><td>./pos_08_spring_Polstr_8_1-A-8_01_17284.mzML </td><td>./pos_08_spring_Polstr_8_1-A-8_01_17284 </td><td>file_9 </td></tr>\n",
       "\t<tr><td>./pos_09_summer_Plaund_9_1-B-1_01_17180.mzML </td><td>./pos_09_summer_Plaund_9_1-B-1_01_17180 </td><td>file_10</td></tr>\n",
       "\t<tr><td>./pos_12_spring_Plaund_12_1-B-4_01_17288.mzML</td><td>./pos_12_spring_Plaund_12_1-B-4_01_17288</td><td>file_11</td></tr>\n",
       "\t<tr><td>./pos_13_autumn_Plaund_13_1-E-8_01_17219.mzML</td><td>./pos_13_autumn_Plaund_13_1-E-8_01_17219</td><td>file_12</td></tr>\n",
       "\t<tr><td>./pos_25_autumn_Marpol_25_2-A-6_01_17235.mzML</td><td>./pos_25_autumn_Marpol_25_2-A-6_01_17235</td><td>file_13</td></tr>\n",
       "\t<tr><td>./pos_25_summer_Marpol_25_1-D-1_01_17200.mzML</td><td>./pos_25_summer_Marpol_25_1-D-1_01_17200</td><td>file_14</td></tr>\n",
       "\t<tr><td>./pos_26_summer_Marpol_26_1-D-2_01_17201.mzML</td><td>./pos_26_summer_Marpol_26_1-D-2_01_17201</td><td>file_15</td></tr>\n",
       "\t<tr><td>./pos_27_autumn_Marpol_27_2-A-8_01_17237.mzML</td><td>./pos_27_autumn_Marpol_27_2-A-8_01_17237</td><td>file_16</td></tr>\n",
       "\t<tr><td>./pos_27_spring_Marpol_27_1-D-3_01_17306.mzML</td><td>./pos_27_spring_Marpol_27_1-D-3_01_17306</td><td>file_17</td></tr>\n",
       "\t<tr><td>./pos_27_summer_Marpol_27_1-D-3_01_17202.mzML</td><td>./pos_27_summer_Marpol_27_1-D-3_01_17202</td><td>file_18</td></tr>\n",
       "</tbody>\n",
       "</table>\n"
      ],
      "text/latex": [
       "A data.frame: 18 × 3\n",
       "\\begin{tabular}{lll}\n",
       " mzml\\_files & ResultFileNames & File\\_id\\\\\n",
       " <chr> & <chr> & <chr>\\\\\n",
       "\\hline\n",
       "\t ./pos\\_01\\_summer\\_Fistax\\_1\\_1-A-1\\_01\\_17170.mzML  & ./pos\\_01\\_summer\\_Fistax\\_1\\_1-A-1\\_01\\_17170  & file\\_1 \\\\\n",
       "\t ./pos\\_02\\_spring\\_Fistax\\_2\\_1-A-2\\_01\\_17276.mzML  & ./pos\\_02\\_spring\\_Fistax\\_2\\_1-A-2\\_01\\_17276  & file\\_2 \\\\\n",
       "\t ./pos\\_02\\_summer\\_Fistax\\_2\\_1-A-2\\_01\\_17171.mzML  & ./pos\\_02\\_summer\\_Fistax\\_2\\_1-A-2\\_01\\_17171  & file\\_3 \\\\\n",
       "\t ./pos\\_02\\_winter\\_Fistax\\_2\\_2-B-2\\_01\\_17241.mzML  & ./pos\\_02\\_winter\\_Fistax\\_2\\_2-B-2\\_01\\_17241  & file\\_4 \\\\\n",
       "\t ./pos\\_03\\_spring\\_Fistax\\_3\\_1-A-3\\_01\\_17277.mzML  & ./pos\\_03\\_spring\\_Fistax\\_3\\_1-A-3\\_01\\_17277  & file\\_5 \\\\\n",
       "\t ./pos\\_05\\_summer\\_Polstr\\_5\\_1-A-5\\_01\\_17174.mzML  & ./pos\\_05\\_summer\\_Polstr\\_5\\_1-A-5\\_01\\_17174  & file\\_6 \\\\\n",
       "\t ./pos\\_06\\_spring\\_Polstr\\_6\\_1-A-6\\_01\\_17280.mzML  & ./pos\\_06\\_spring\\_Polstr\\_6\\_1-A-6\\_01\\_17280  & file\\_7 \\\\\n",
       "\t ./pos\\_08\\_autumn\\_Polstr\\_8\\_1-E-3\\_01\\_17214.mzML  & ./pos\\_08\\_autumn\\_Polstr\\_8\\_1-E-3\\_01\\_17214  & file\\_8 \\\\\n",
       "\t ./pos\\_08\\_spring\\_Polstr\\_8\\_1-A-8\\_01\\_17284.mzML  & ./pos\\_08\\_spring\\_Polstr\\_8\\_1-A-8\\_01\\_17284  & file\\_9 \\\\\n",
       "\t ./pos\\_09\\_summer\\_Plaund\\_9\\_1-B-1\\_01\\_17180.mzML  & ./pos\\_09\\_summer\\_Plaund\\_9\\_1-B-1\\_01\\_17180  & file\\_10\\\\\n",
       "\t ./pos\\_12\\_spring\\_Plaund\\_12\\_1-B-4\\_01\\_17288.mzML & ./pos\\_12\\_spring\\_Plaund\\_12\\_1-B-4\\_01\\_17288 & file\\_11\\\\\n",
       "\t ./pos\\_13\\_autumn\\_Plaund\\_13\\_1-E-8\\_01\\_17219.mzML & ./pos\\_13\\_autumn\\_Plaund\\_13\\_1-E-8\\_01\\_17219 & file\\_12\\\\\n",
       "\t ./pos\\_25\\_autumn\\_Marpol\\_25\\_2-A-6\\_01\\_17235.mzML & ./pos\\_25\\_autumn\\_Marpol\\_25\\_2-A-6\\_01\\_17235 & file\\_13\\\\\n",
       "\t ./pos\\_25\\_summer\\_Marpol\\_25\\_1-D-1\\_01\\_17200.mzML & ./pos\\_25\\_summer\\_Marpol\\_25\\_1-D-1\\_01\\_17200 & file\\_14\\\\\n",
       "\t ./pos\\_26\\_summer\\_Marpol\\_26\\_1-D-2\\_01\\_17201.mzML & ./pos\\_26\\_summer\\_Marpol\\_26\\_1-D-2\\_01\\_17201 & file\\_15\\\\\n",
       "\t ./pos\\_27\\_autumn\\_Marpol\\_27\\_2-A-8\\_01\\_17237.mzML & ./pos\\_27\\_autumn\\_Marpol\\_27\\_2-A-8\\_01\\_17237 & file\\_16\\\\\n",
       "\t ./pos\\_27\\_spring\\_Marpol\\_27\\_1-D-3\\_01\\_17306.mzML & ./pos\\_27\\_spring\\_Marpol\\_27\\_1-D-3\\_01\\_17306 & file\\_17\\\\\n",
       "\t ./pos\\_27\\_summer\\_Marpol\\_27\\_1-D-3\\_01\\_17202.mzML & ./pos\\_27\\_summer\\_Marpol\\_27\\_1-D-3\\_01\\_17202 & file\\_18\\\\\n",
       "\\end{tabular}\n"
      ],
      "text/markdown": [
       "\n",
       "A data.frame: 18 × 3\n",
       "\n",
       "| mzml_files &lt;chr&gt; | ResultFileNames &lt;chr&gt; | File_id &lt;chr&gt; |\n",
       "|---|---|---|\n",
       "| ./pos_01_summer_Fistax_1_1-A-1_01_17170.mzML  | ./pos_01_summer_Fistax_1_1-A-1_01_17170  | file_1  |\n",
       "| ./pos_02_spring_Fistax_2_1-A-2_01_17276.mzML  | ./pos_02_spring_Fistax_2_1-A-2_01_17276  | file_2  |\n",
       "| ./pos_02_summer_Fistax_2_1-A-2_01_17171.mzML  | ./pos_02_summer_Fistax_2_1-A-2_01_17171  | file_3  |\n",
       "| ./pos_02_winter_Fistax_2_2-B-2_01_17241.mzML  | ./pos_02_winter_Fistax_2_2-B-2_01_17241  | file_4  |\n",
       "| ./pos_03_spring_Fistax_3_1-A-3_01_17277.mzML  | ./pos_03_spring_Fistax_3_1-A-3_01_17277  | file_5  |\n",
       "| ./pos_05_summer_Polstr_5_1-A-5_01_17174.mzML  | ./pos_05_summer_Polstr_5_1-A-5_01_17174  | file_6  |\n",
       "| ./pos_06_spring_Polstr_6_1-A-6_01_17280.mzML  | ./pos_06_spring_Polstr_6_1-A-6_01_17280  | file_7  |\n",
       "| ./pos_08_autumn_Polstr_8_1-E-3_01_17214.mzML  | ./pos_08_autumn_Polstr_8_1-E-3_01_17214  | file_8  |\n",
       "| ./pos_08_spring_Polstr_8_1-A-8_01_17284.mzML  | ./pos_08_spring_Polstr_8_1-A-8_01_17284  | file_9  |\n",
       "| ./pos_09_summer_Plaund_9_1-B-1_01_17180.mzML  | ./pos_09_summer_Plaund_9_1-B-1_01_17180  | file_10 |\n",
       "| ./pos_12_spring_Plaund_12_1-B-4_01_17288.mzML | ./pos_12_spring_Plaund_12_1-B-4_01_17288 | file_11 |\n",
       "| ./pos_13_autumn_Plaund_13_1-E-8_01_17219.mzML | ./pos_13_autumn_Plaund_13_1-E-8_01_17219 | file_12 |\n",
       "| ./pos_25_autumn_Marpol_25_2-A-6_01_17235.mzML | ./pos_25_autumn_Marpol_25_2-A-6_01_17235 | file_13 |\n",
       "| ./pos_25_summer_Marpol_25_1-D-1_01_17200.mzML | ./pos_25_summer_Marpol_25_1-D-1_01_17200 | file_14 |\n",
       "| ./pos_26_summer_Marpol_26_1-D-2_01_17201.mzML | ./pos_26_summer_Marpol_26_1-D-2_01_17201 | file_15 |\n",
       "| ./pos_27_autumn_Marpol_27_2-A-8_01_17237.mzML | ./pos_27_autumn_Marpol_27_2-A-8_01_17237 | file_16 |\n",
       "| ./pos_27_spring_Marpol_27_1-D-3_01_17306.mzML | ./pos_27_spring_Marpol_27_1-D-3_01_17306 | file_17 |\n",
       "| ./pos_27_summer_Marpol_27_1-D-3_01_17202.mzML | ./pos_27_summer_Marpol_27_1-D-3_01_17202 | file_18 |\n",
       "\n"
      ],
      "text/plain": [
       "   mzml_files                                   \n",
       "1  ./pos_01_summer_Fistax_1_1-A-1_01_17170.mzML \n",
       "2  ./pos_02_spring_Fistax_2_1-A-2_01_17276.mzML \n",
       "3  ./pos_02_summer_Fistax_2_1-A-2_01_17171.mzML \n",
       "4  ./pos_02_winter_Fistax_2_2-B-2_01_17241.mzML \n",
       "5  ./pos_03_spring_Fistax_3_1-A-3_01_17277.mzML \n",
       "6  ./pos_05_summer_Polstr_5_1-A-5_01_17174.mzML \n",
       "7  ./pos_06_spring_Polstr_6_1-A-6_01_17280.mzML \n",
       "8  ./pos_08_autumn_Polstr_8_1-E-3_01_17214.mzML \n",
       "9  ./pos_08_spring_Polstr_8_1-A-8_01_17284.mzML \n",
       "10 ./pos_09_summer_Plaund_9_1-B-1_01_17180.mzML \n",
       "11 ./pos_12_spring_Plaund_12_1-B-4_01_17288.mzML\n",
       "12 ./pos_13_autumn_Plaund_13_1-E-8_01_17219.mzML\n",
       "13 ./pos_25_autumn_Marpol_25_2-A-6_01_17235.mzML\n",
       "14 ./pos_25_summer_Marpol_25_1-D-1_01_17200.mzML\n",
       "15 ./pos_26_summer_Marpol_26_1-D-2_01_17201.mzML\n",
       "16 ./pos_27_autumn_Marpol_27_2-A-8_01_17237.mzML\n",
       "17 ./pos_27_spring_Marpol_27_1-D-3_01_17306.mzML\n",
       "18 ./pos_27_summer_Marpol_27_1-D-3_01_17202.mzML\n",
       "   ResultFileNames                          File_id\n",
       "1  ./pos_01_summer_Fistax_1_1-A-1_01_17170  file_1 \n",
       "2  ./pos_02_spring_Fistax_2_1-A-2_01_17276  file_2 \n",
       "3  ./pos_02_summer_Fistax_2_1-A-2_01_17171  file_3 \n",
       "4  ./pos_02_winter_Fistax_2_2-B-2_01_17241  file_4 \n",
       "5  ./pos_03_spring_Fistax_3_1-A-3_01_17277  file_5 \n",
       "6  ./pos_05_summer_Polstr_5_1-A-5_01_17174  file_6 \n",
       "7  ./pos_06_spring_Polstr_6_1-A-6_01_17280  file_7 \n",
       "8  ./pos_08_autumn_Polstr_8_1-E-3_01_17214  file_8 \n",
       "9  ./pos_08_spring_Polstr_8_1-A-8_01_17284  file_9 \n",
       "10 ./pos_09_summer_Plaund_9_1-B-1_01_17180  file_10\n",
       "11 ./pos_12_spring_Plaund_12_1-B-4_01_17288 file_11\n",
       "12 ./pos_13_autumn_Plaund_13_1-E-8_01_17219 file_12\n",
       "13 ./pos_25_autumn_Marpol_25_2-A-6_01_17235 file_13\n",
       "14 ./pos_25_summer_Marpol_25_1-D-1_01_17200 file_14\n",
       "15 ./pos_26_summer_Marpol_26_1-D-2_01_17201 file_15\n",
       "16 ./pos_27_autumn_Marpol_27_2-A-8_01_17237 file_16\n",
       "17 ./pos_27_spring_Marpol_27_1-D-3_01_17306 file_17\n",
       "18 ./pos_27_summer_Marpol_27_1-D-3_01_17202 file_18"
      ]
     },
     "metadata": {},
     "output_type": "display_data"
    }
   ],
   "source": [
    "input_table <- data.frame(ms2_rfilename(input_dir))\n",
    "input_table"
   ]
  },
  {
   "cell_type": "code",
   "execution_count": null,
   "id": "5434c84d",
   "metadata": {},
   "outputs": [],
   "source": [
    "input_table_idxs <- listenv()"
   ]
  },
  {
   "cell_type": "code",
   "execution_count": null,
   "id": "47d66c4a",
   "metadata": {},
   "outputs": [],
   "source": []
  },
  {
   "cell_type": "code",
   "execution_count": null,
   "id": "bbc559e4",
   "metadata": {},
   "outputs": [],
   "source": [
    "for (i in 1:nrow(input_table)){\n",
    "    #Preprocess and Read the mzMLfiles\n",
    "    spec_pr <- spec_Processing(input_dir,\n",
    "                               input_table[i, \"mzml_files\"], \n",
    "                               input_table[i, \"ResultFileNames\"])\n",
    "    \n",
    "    #perform dereplication with all dbs\n",
    "    df_derep <- spec_dereplication_file(mzml_file = input_table[i, \"mzml_files\"],\n",
    "                                        pre_tbl = paste(input_dir, str_remove(paste(input_table[i, \"ResultFileNames\"], \"/premz_list.txt\", sep = \"\"), \".\"), sep =\"\"),\n",
    "                                        proc_mzml = paste(input_dir, str_remove(paste(input_table[i, \"ResultFileNames\"], \"/processedSpectra.mzML\", sep = \"\"), \".\"), sep =\"\"),\n",
    "                                        db = \"all\",\n",
    "                                        result_dir = input_table[i, \"ResultFileNames\"],\n",
    "                                        file_id = input_table[i, \"File_id\"],\n",
    "                                        input_dir,\n",
    "                                        no_of_candidates = 50,\n",
    "                                        ppmx = 15)\n",
    "    \n",
    "}"
   ]
  },
  {
   "cell_type": "code",
   "execution_count": null,
   "id": "5bfdf574",
   "metadata": {},
   "outputs": [],
   "source": [
    "input_table_idxs <- as.list(input_table_idxs)\n",
    "v_input_table_idxs <- future::value(input_table_idxs)"
   ]
  },
  {
   "cell_type": "code",
   "execution_count": 6,
   "id": "4ac8aa19",
   "metadata": {},
   "outputs": [],
   "source": [
    "end.time <- Sys.time()"
   ]
  },
  {
   "cell_type": "code",
   "execution_count": 17,
   "id": "abaf6ca1",
   "metadata": {},
   "outputs": [
    {
     "name": "stdout",
     "output_type": "stream",
     "text": [
      "Time difference of 2.801071 secs\n"
     ]
    }
   ],
   "source": [
    "time.taken <- end.time - start.time\n",
    "print(time.taken)"
   ]
<<<<<<< HEAD
  },
  {
   "cell_type": "code",
   "execution_count": null,
   "id": "710359c9",
   "metadata": {},
   "outputs": [],
   "source": [
    "time.taken <- end.time - start.time\n",
    "print(time.taken)"
   ]
=======
>>>>>>> cce9aa5428f471c3f77771b36911f5bc1c0de9ec
  }
 ],
 "metadata": {
  "kernelspec": {
   "display_name": "R",
   "language": "R",
   "name": "ir"
  },
  "language_info": {
   "codemirror_mode": "r",
   "file_extension": ".r",
   "mimetype": "text/x-r-source",
   "name": "R",
   "pygments_lexer": "r",
   "version": "4.2.0"
  }
 },
 "nbformat": 4,
 "nbformat_minor": 5
}
