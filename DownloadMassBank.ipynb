{
 "cells": [
  {
   "cell_type": "code",
   "execution_count": 1,
   "id": "7ec3e61f",
   "metadata": {},
   "outputs": [],
   "source": [
    "start.time <- Sys.time()"
   ]
  },
  {
   "cell_type": "code",
   "execution_count": 2,
   "id": "a3254bfc",
   "metadata": {},
   "outputs": [
    {
     "name": "stderr",
     "output_type": "stream",
     "text": [
      "Lade nötiges Paket: S4Vectors\n",
      "\n",
      "Lade nötiges Paket: stats4\n",
      "\n",
      "Lade nötiges Paket: BiocGenerics\n",
      "\n",
      "\n",
      "Attache Paket: ‘BiocGenerics’\n",
      "\n",
      "\n",
      "Die folgenden Objekte sind maskiert von ‘package:stats’:\n",
      "\n",
      "    IQR, mad, sd, var, xtabs\n",
      "\n",
      "\n",
      "Die folgenden Objekte sind maskiert von ‘package:base’:\n",
      "\n",
      "    Filter, Find, Map, Position, Reduce, anyDuplicated, append,\n",
      "    as.data.frame, basename, cbind, colnames, dirname, do.call,\n",
      "    duplicated, eval, evalq, get, grep, grepl, intersect, is.unsorted,\n",
      "    lapply, mapply, match, mget, order, paste, pmax, pmax.int, pmin,\n",
      "    pmin.int, rank, rbind, rownames, sapply, setdiff, sort, table,\n",
      "    tapply, union, unique, unsplit, which.max, which.min\n",
      "\n",
      "\n",
      "\n",
      "Attache Paket: ‘S4Vectors’\n",
      "\n",
      "\n",
      "Die folgenden Objekte sind maskiert von ‘package:base’:\n",
      "\n",
      "    I, expand.grid, unname\n",
      "\n",
      "\n",
      "Lade nötiges Paket: BiocParallel\n",
      "\n",
      "Lade nötiges Paket: ProtGenerics\n",
      "\n",
      "\n",
      "Attache Paket: ‘ProtGenerics’\n",
      "\n",
      "\n",
      "Das folgende Objekt ist maskiert ‘package:stats’:\n",
      "\n",
      "    smooth\n",
      "\n",
      "\n",
      "\n",
      "Attache Paket: ‘Spectra’\n",
      "\n",
      "\n",
      "Das folgende Objekt ist maskiert ‘package:ProtGenerics’:\n",
      "\n",
      "    addProcessing\n",
      "\n",
      "\n"
     ]
    }
   ],
   "source": [
    "library(Spectra)\n",
    "library(MsBackendMsp)\n",
    "library(rvest)\n",
    "library(stringr)\n",
    "library(xml2)"
   ]
  },
  {
   "cell_type": "code",
   "execution_count": 41,
   "id": "f40cab6b",
   "metadata": {},
   "outputs": [],
   "source": [
    "#input_dir <- getwd()\n",
    "input_dir <- \"/Users/mahnoorzulfiqar/OneDriveUNI/MAW-data/newDBs\"\n",
    "link_mbank_latest_nist <- \"https://github.com/MassBank/MassBank-data/releases/download/2022.12/MassBank_NIST.msp\""
   ]
  },
  {
   "cell_type": "code",
   "execution_count": 44,
   "id": "5110685f",
   "metadata": {},
   "outputs": [],
   "source": [
    "system(paste(\"wget -P\",\n",
    "             input_dir,\n",
    "             link_mbank_latest_nist,\n",
    "             sep =  \" \"))"
   ]
  },
  {
   "cell_type": "code",
   "execution_count": 45,
   "id": "cb94cb25",
   "metadata": {},
   "outputs": [
    {
     "name": "stderr",
     "output_type": "stream",
     "text": [
      "Start data import from 1 files ... \n",
      "done\n",
      "\n"
     ]
    }
   ],
   "source": [
    "mbank <- Spectra(paste(input_dir, \"/MassBank_NIST.msp\", sep = ''), source = MsBackendMsp())"
   ]
  },
  {
   "cell_type": "code",
   "execution_count": null,
   "id": "0294537e",
   "metadata": {},
   "outputs": [],
   "source": [
    "\n",
    "save(mbank, file = paste(input_dir,\"/mbankNIST.rda\", sep = \"\"))\n",
    "\n",
    "# delete the database in its format to free up space\n",
    "system(paste(\"rm\", (paste(input_dir, \"/MassBank_NIST.msp\", sep = '')), sep = \" \"))\n",
    "\n",
    "# obtain the month and year for the database release to add to summary\n",
    "res <- str_match(tmp[1], \"download/\\\\s*(.*?)\\\\s*/MassBank_NIST\")\n"
   ]
  },
  {
   "cell_type": "code",
   "execution_count": null,
   "id": "2bce2cda",
   "metadata": {},
   "outputs": [],
   "source": [
    "writeLines(paste(\"MassBank saved at\", Sys.time(), \"with release version\", res[,2], sep=\" \"),con=file.conn)"
   ]
  },
  {
   "cell_type": "code",
   "execution_count": null,
   "id": "e793fcb8",
   "metadata": {},
   "outputs": [],
   "source": [
    "end.time <- Sys.time()"
   ]
  },
  {
   "cell_type": "code",
   "execution_count": null,
   "id": "bf4ffc56",
   "metadata": {},
   "outputs": [],
   "source": [
    "time.taken <- end.time - start.time\n",
    "print(time.taken)"
   ]
  },
  {
   "cell_type": "code",
   "execution_count": 46,
   "id": "979189c1",
   "metadata": {},
   "outputs": [],
   "source": [
    "load(\"/Users/mahnoorzulfiqar/OneDriveUNI/MAW-data/newDBs/mbankNIST.rda\")"
   ]
  },
  {
   "cell_type": "code",
   "execution_count": 48,
   "id": "a065d9cd",
   "metadata": {},
   "outputs": [
    {
     "data": {
      "text/html": [
       "<style>\n",
       ".list-inline {list-style: none; margin:0; padding: 0}\n",
       ".list-inline>li {display: inline-block}\n",
       ".list-inline>li:not(:last-child)::after {content: \"\\00b7\"; padding: 0 .5ex}\n",
       "</style>\n",
       "<ol class=list-inline><li>'msLevel'</li><li>'rtime'</li><li>'acquisitionNum'</li><li>'scanIndex'</li><li>'dataStorage'</li><li>'dataOrigin'</li><li>'centroided'</li><li>'smoothed'</li><li>'polarity'</li><li>'precScanNum'</li><li>'precursorMz'</li><li>'precursorIntensity'</li><li>'precursorCharge'</li><li>'collisionEnergy'</li><li>'isolationWindowLowerMz'</li><li>'isolationWindowTargetMz'</li><li>'isolationWindowUpperMz'</li><li>'Name'</li><li>'Synon'</li><li>'accession'</li><li>'InChIKey'</li><li>'InChI'</li><li>'smiles'</li><li>'Precursor_type'</li><li>'Spectrum_type'</li><li>'PrecursorMZ'</li><li>'Instrument_type'</li><li>'Instrument'</li><li>'Ion_mode'</li><li>'Collision_energy'</li><li>'Formula'</li><li>'MW'</li><li>'ExactMass'</li><li>'Comments'</li><li>'Splash'</li><li>'Num.Peaks'</li></ol>\n"
      ],
      "text/latex": [
       "\\begin{enumerate*}\n",
       "\\item 'msLevel'\n",
       "\\item 'rtime'\n",
       "\\item 'acquisitionNum'\n",
       "\\item 'scanIndex'\n",
       "\\item 'dataStorage'\n",
       "\\item 'dataOrigin'\n",
       "\\item 'centroided'\n",
       "\\item 'smoothed'\n",
       "\\item 'polarity'\n",
       "\\item 'precScanNum'\n",
       "\\item 'precursorMz'\n",
       "\\item 'precursorIntensity'\n",
       "\\item 'precursorCharge'\n",
       "\\item 'collisionEnergy'\n",
       "\\item 'isolationWindowLowerMz'\n",
       "\\item 'isolationWindowTargetMz'\n",
       "\\item 'isolationWindowUpperMz'\n",
       "\\item 'Name'\n",
       "\\item 'Synon'\n",
       "\\item 'accession'\n",
       "\\item 'InChIKey'\n",
       "\\item 'InChI'\n",
       "\\item 'smiles'\n",
       "\\item 'Precursor\\_type'\n",
       "\\item 'Spectrum\\_type'\n",
       "\\item 'PrecursorMZ'\n",
       "\\item 'Instrument\\_type'\n",
       "\\item 'Instrument'\n",
       "\\item 'Ion\\_mode'\n",
       "\\item 'Collision\\_energy'\n",
       "\\item 'Formula'\n",
       "\\item 'MW'\n",
       "\\item 'ExactMass'\n",
       "\\item 'Comments'\n",
       "\\item 'Splash'\n",
       "\\item 'Num.Peaks'\n",
       "\\end{enumerate*}\n"
      ],
      "text/markdown": [
       "1. 'msLevel'\n",
       "2. 'rtime'\n",
       "3. 'acquisitionNum'\n",
       "4. 'scanIndex'\n",
       "5. 'dataStorage'\n",
       "6. 'dataOrigin'\n",
       "7. 'centroided'\n",
       "8. 'smoothed'\n",
       "9. 'polarity'\n",
       "10. 'precScanNum'\n",
       "11. 'precursorMz'\n",
       "12. 'precursorIntensity'\n",
       "13. 'precursorCharge'\n",
       "14. 'collisionEnergy'\n",
       "15. 'isolationWindowLowerMz'\n",
       "16. 'isolationWindowTargetMz'\n",
       "17. 'isolationWindowUpperMz'\n",
       "18. 'Name'\n",
       "19. 'Synon'\n",
       "20. 'accession'\n",
       "21. 'InChIKey'\n",
       "22. 'InChI'\n",
       "23. 'smiles'\n",
       "24. 'Precursor_type'\n",
       "25. 'Spectrum_type'\n",
       "26. 'PrecursorMZ'\n",
       "27. 'Instrument_type'\n",
       "28. 'Instrument'\n",
       "29. 'Ion_mode'\n",
       "30. 'Collision_energy'\n",
       "31. 'Formula'\n",
       "32. 'MW'\n",
       "33. 'ExactMass'\n",
       "34. 'Comments'\n",
       "35. 'Splash'\n",
       "36. 'Num.Peaks'\n",
       "\n",
       "\n"
      ],
      "text/plain": [
       " [1] \"msLevel\"                 \"rtime\"                  \n",
       " [3] \"acquisitionNum\"          \"scanIndex\"              \n",
       " [5] \"dataStorage\"             \"dataOrigin\"             \n",
       " [7] \"centroided\"              \"smoothed\"               \n",
       " [9] \"polarity\"                \"precScanNum\"            \n",
       "[11] \"precursorMz\"             \"precursorIntensity\"     \n",
       "[13] \"precursorCharge\"         \"collisionEnergy\"        \n",
       "[15] \"isolationWindowLowerMz\"  \"isolationWindowTargetMz\"\n",
       "[17] \"isolationWindowUpperMz\"  \"Name\"                   \n",
       "[19] \"Synon\"                   \"accession\"              \n",
       "[21] \"InChIKey\"                \"InChI\"                  \n",
       "[23] \"smiles\"                  \"Precursor_type\"         \n",
       "[25] \"Spectrum_type\"           \"PrecursorMZ\"            \n",
       "[27] \"Instrument_type\"         \"Instrument\"             \n",
       "[29] \"Ion_mode\"                \"Collision_energy\"       \n",
       "[31] \"Formula\"                 \"MW\"                     \n",
       "[33] \"ExactMass\"               \"Comments\"               \n",
       "[35] \"Splash\"                  \"Num.Peaks\"              "
      ]
     },
     "metadata": {},
     "output_type": "display_data"
    }
   ],
   "source": [
    "spectraVariables(mbank)"
   ]
  },
  {
   "cell_type": "code",
   "execution_count": null,
   "id": "3c830c08",
   "metadata": {},
   "outputs": [],
   "source": []
  }
 ],
 "metadata": {
  "kernelspec": {
   "display_name": "R",
   "language": "R",
   "name": "ir"
  },
  "language_info": {
   "codemirror_mode": "r",
   "file_extension": ".r",
   "mimetype": "text/x-r-source",
   "name": "R",
   "pygments_lexer": "r",
   "version": "4.2.0"
  }
 },
 "nbformat": 4,
 "nbformat_minor": 5
}
